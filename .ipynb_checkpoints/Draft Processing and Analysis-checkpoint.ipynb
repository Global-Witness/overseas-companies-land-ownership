{
 "cells": [
  {
   "cell_type": "markdown",
   "metadata": {
    "hideCode": false,
    "hidePrompt": false,
    "toc": "true"
   },
   "source": [
    "# Table of Contents\n",
    " <p><div class=\"lev1 toc-item\"><a href=\"#Load-and-process\" data-toc-modified-id=\"Load-and-process-1\"><span class=\"toc-item-num\">1&nbsp;&nbsp;</span>Load and process</a></div><div class=\"lev2 toc-item\"><a href=\"#Geocode-properties\" data-toc-modified-id=\"Geocode-properties-11\"><span class=\"toc-item-num\">1.1&nbsp;&nbsp;</span>Geocode properties</a></div><div class=\"lev1 toc-item\"><a href=\"#Data-dictionary\" data-toc-modified-id=\"Data-dictionary-2\"><span class=\"toc-item-num\">2&nbsp;&nbsp;</span>Data dictionary</a></div><div class=\"lev1 toc-item\"><a href=\"#Analysis\" data-toc-modified-id=\"Analysis-3\"><span class=\"toc-item-num\">3&nbsp;&nbsp;</span>Analysis</a></div>"
   ]
  },
  {
   "cell_type": "markdown",
   "metadata": {
    "hideCode": false,
    "hidePrompt": false
   },
   "source": [
    "# Load and process"
   ]
  },
  {
   "cell_type": "code",
   "execution_count": 1,
   "metadata": {
    "collapsed": true,
    "hideCode": false,
    "hidePrompt": false
   },
   "outputs": [],
   "source": [
    "##Load libraries\n",
    "import pandas as pd\n",
    "import geopandas as gp\n",
    "import requests as r\n",
    "import missingno as mgno\n",
    "import re\n",
    "import matplotlib\n",
    "import numpy as np\n",
    "import seaborn as sns\n",
    "from shapely.geometry import Point"
   ]
  },
  {
   "cell_type": "code",
   "execution_count": null,
   "metadata": {
    "collapsed": true,
    "hideCode": false,
    "hidePrompt": false
   },
   "outputs": [],
   "source": [
    "##Set styling for numbers (thousand commans, no scientific notaiton etc) and charts\n",
    "pd.options.display.float_format = '{:20,.2f}'.format\n",
    "matplotlib.style.use('ggplot')\n",
    "%matplotlib inline"
   ]
  },
  {
   "cell_type": "code",
   "execution_count": 2,
   "metadata": {
    "collapsed": true,
    "hideCode": false,
    "hidePrompt": false
   },
   "outputs": [],
   "source": [
    "##Load October 2015 data\n",
    "data_2015 = pd.read_csv('data/oct_2015_ov_data.csv',low_memory=False)\n",
    "##Load October 2017 data\n",
    "data_2017 = pd.read_sql('data',con='sqlite:///data/oct_2017_ov_data_product.sqlite')\n",
    "##Add in snapshot date\n",
    "data_2015['date_snapshot'] = pd.to_datetime('2015-10-31')\n",
    "data_2017['date_snapshot'] = pd.to_datetime('2017-10-1')\n",
    "##Combine files into a single dataframe\n",
    "data = pd.concat([data_2015,data_2017])\n",
    "##Exclude last row which appears to be a summary\n",
    "data = data[:-1]"
   ]
  },
  {
   "cell_type": "code",
   "execution_count": 3,
   "metadata": {
    "hideCode": false,
    "hidePrompt": false
   },
   "outputs": [
    {
     "data": {
      "text/html": [
       "<div>\n",
       "<style>\n",
       "    .dataframe thead tr:only-child th {\n",
       "        text-align: right;\n",
       "    }\n",
       "\n",
       "    .dataframe thead th {\n",
       "        text-align: left;\n",
       "    }\n",
       "\n",
       "    .dataframe tbody tr th {\n",
       "        vertical-align: top;\n",
       "    }\n",
       "</style>\n",
       "<table border=\"1\" class=\"dataframe\">\n",
       "  <thead>\n",
       "    <tr style=\"text-align: right;\">\n",
       "      <th></th>\n",
       "      <th>Title_Number</th>\n",
       "      <th>Tenure</th>\n",
       "      <th>Property_Address</th>\n",
       "      <th>Price_Paid</th>\n",
       "      <th>District</th>\n",
       "      <th>County</th>\n",
       "      <th>Region</th>\n",
       "      <th>Postcode</th>\n",
       "      <th>Proprietor_Name_1</th>\n",
       "      <th>Company_Registration_No_1</th>\n",
       "      <th>...</th>\n",
       "      <th>Company_Registration_No_4</th>\n",
       "      <th>Proprietorship_4</th>\n",
       "      <th>Country_Incorporated_4</th>\n",
       "      <th>Proprietor_4_Address_1</th>\n",
       "      <th>Proprietor_4_Address_2</th>\n",
       "      <th>Proprietor_4_Address_3</th>\n",
       "      <th>Date_Proprietor_Added</th>\n",
       "      <th>Additional_Proprietor_Indicator</th>\n",
       "      <th>Multiple_Address_Indicator</th>\n",
       "      <th>date_snapshot</th>\n",
       "    </tr>\n",
       "  </thead>\n",
       "  <tbody>\n",
       "    <tr>\n",
       "      <th>99214</th>\n",
       "      <td>AGL401155</td>\n",
       "      <td>Leasehold</td>\n",
       "      <td>Apartment 2101, Wiverton Tower, 4 New Drum Str...</td>\n",
       "      <td>NaN</td>\n",
       "      <td>TOWER HAMLETS</td>\n",
       "      <td>GREATER LONDON</td>\n",
       "      <td>GREATER LONDON</td>\n",
       "      <td>E1 7AT</td>\n",
       "      <td>GS ALDGATE TRUSTEE 1 LIMITED</td>\n",
       "      <td>None</td>\n",
       "      <td>...</td>\n",
       "      <td>NaN</td>\n",
       "      <td>None</td>\n",
       "      <td>None</td>\n",
       "      <td>None</td>\n",
       "      <td>None</td>\n",
       "      <td>NaN</td>\n",
       "      <td>16-01-2017</td>\n",
       "      <td>N</td>\n",
       "      <td>N</td>\n",
       "      <td>2017-10-01</td>\n",
       "    </tr>\n",
       "    <tr>\n",
       "      <th>99215</th>\n",
       "      <td>AGL401163</td>\n",
       "      <td>Leasehold</td>\n",
       "      <td>Apartment 2207, Wiverton Tower, 4 New Drum Str...</td>\n",
       "      <td>NaN</td>\n",
       "      <td>TOWER HAMLETS</td>\n",
       "      <td>GREATER LONDON</td>\n",
       "      <td>GREATER LONDON</td>\n",
       "      <td>E1 7AT</td>\n",
       "      <td>GS ALDGATE TRUSTEE 1 LIMITED</td>\n",
       "      <td>None</td>\n",
       "      <td>...</td>\n",
       "      <td>NaN</td>\n",
       "      <td>None</td>\n",
       "      <td>None</td>\n",
       "      <td>None</td>\n",
       "      <td>None</td>\n",
       "      <td>NaN</td>\n",
       "      <td>16-01-2017</td>\n",
       "      <td>N</td>\n",
       "      <td>N</td>\n",
       "      <td>2017-10-01</td>\n",
       "    </tr>\n",
       "    <tr>\n",
       "      <th>99216</th>\n",
       "      <td>AGL402005</td>\n",
       "      <td>Leasehold</td>\n",
       "      <td>Flat 41, Goldhawk House, 10 Beaufort Square, L...</td>\n",
       "      <td>NaN</td>\n",
       "      <td>BARNET</td>\n",
       "      <td>GREATER LONDON</td>\n",
       "      <td>GREATER LONDON</td>\n",
       "      <td>NW9 5SQ</td>\n",
       "      <td>NOMURO NOMINEES LIMITED</td>\n",
       "      <td>None</td>\n",
       "      <td>...</td>\n",
       "      <td>NaN</td>\n",
       "      <td>None</td>\n",
       "      <td>None</td>\n",
       "      <td>None</td>\n",
       "      <td>None</td>\n",
       "      <td>NaN</td>\n",
       "      <td>24-01-2017</td>\n",
       "      <td>N</td>\n",
       "      <td>N</td>\n",
       "      <td>2017-10-01</td>\n",
       "    </tr>\n",
       "    <tr>\n",
       "      <th>99217</th>\n",
       "      <td>AGL402840</td>\n",
       "      <td>Leasehold</td>\n",
       "      <td>11, Birkdale House, 18 St Annes Street, London...</td>\n",
       "      <td>390000.0</td>\n",
       "      <td>TOWER HAMLETS</td>\n",
       "      <td>GREATER LONDON</td>\n",
       "      <td>GREATER LONDON</td>\n",
       "      <td>E14 7QB</td>\n",
       "      <td>HAPPY GOAL DEVELOPMENT LTD</td>\n",
       "      <td>None</td>\n",
       "      <td>...</td>\n",
       "      <td>NaN</td>\n",
       "      <td>None</td>\n",
       "      <td>None</td>\n",
       "      <td>None</td>\n",
       "      <td>None</td>\n",
       "      <td>NaN</td>\n",
       "      <td>02-02-2017</td>\n",
       "      <td>N</td>\n",
       "      <td>N</td>\n",
       "      <td>2017-10-01</td>\n",
       "    </tr>\n",
       "    <tr>\n",
       "      <th>99218</th>\n",
       "      <td>AGL403429</td>\n",
       "      <td>Leasehold</td>\n",
       "      <td>Block A, Victoria Wharf, Palmers Road, London ...</td>\n",
       "      <td>NaN</td>\n",
       "      <td>TOWER HAMLETS</td>\n",
       "      <td>GREATER LONDON</td>\n",
       "      <td>GREATER LONDON</td>\n",
       "      <td>E2 0SF</td>\n",
       "      <td>PINEHILL CAPITAL S.A.</td>\n",
       "      <td>None</td>\n",
       "      <td>...</td>\n",
       "      <td>NaN</td>\n",
       "      <td>None</td>\n",
       "      <td>None</td>\n",
       "      <td>None</td>\n",
       "      <td>None</td>\n",
       "      <td>NaN</td>\n",
       "      <td>07-02-2017</td>\n",
       "      <td>N</td>\n",
       "      <td>N</td>\n",
       "      <td>2017-10-01</td>\n",
       "    </tr>\n",
       "  </tbody>\n",
       "</table>\n",
       "<p>5 rows × 40 columns</p>\n",
       "</div>"
      ],
      "text/plain": [
       "      Title_Number     Tenure  \\\n",
       "99214    AGL401155  Leasehold   \n",
       "99215    AGL401163  Leasehold   \n",
       "99216    AGL402005  Leasehold   \n",
       "99217    AGL402840  Leasehold   \n",
       "99218    AGL403429  Leasehold   \n",
       "\n",
       "                                        Property_Address  Price_Paid  \\\n",
       "99214  Apartment 2101, Wiverton Tower, 4 New Drum Str...         NaN   \n",
       "99215  Apartment 2207, Wiverton Tower, 4 New Drum Str...         NaN   \n",
       "99216  Flat 41, Goldhawk House, 10 Beaufort Square, L...         NaN   \n",
       "99217  11, Birkdale House, 18 St Annes Street, London...    390000.0   \n",
       "99218  Block A, Victoria Wharf, Palmers Road, London ...         NaN   \n",
       "\n",
       "            District          County          Region Postcode  \\\n",
       "99214  TOWER HAMLETS  GREATER LONDON  GREATER LONDON   E1 7AT   \n",
       "99215  TOWER HAMLETS  GREATER LONDON  GREATER LONDON   E1 7AT   \n",
       "99216         BARNET  GREATER LONDON  GREATER LONDON  NW9 5SQ   \n",
       "99217  TOWER HAMLETS  GREATER LONDON  GREATER LONDON  E14 7QB   \n",
       "99218  TOWER HAMLETS  GREATER LONDON  GREATER LONDON   E2 0SF   \n",
       "\n",
       "                  Proprietor_Name_1 Company_Registration_No_1      ...       \\\n",
       "99214  GS ALDGATE TRUSTEE 1 LIMITED                      None      ...        \n",
       "99215  GS ALDGATE TRUSTEE 1 LIMITED                      None      ...        \n",
       "99216       NOMURO NOMINEES LIMITED                      None      ...        \n",
       "99217    HAPPY GOAL DEVELOPMENT LTD                      None      ...        \n",
       "99218         PINEHILL CAPITAL S.A.                      None      ...        \n",
       "\n",
       "      Company_Registration_No_4 Proprietorship_4 Country_Incorporated_4  \\\n",
       "99214                       NaN             None                   None   \n",
       "99215                       NaN             None                   None   \n",
       "99216                       NaN             None                   None   \n",
       "99217                       NaN             None                   None   \n",
       "99218                       NaN             None                   None   \n",
       "\n",
       "      Proprietor_4_Address_1 Proprietor_4_Address_2 Proprietor_4_Address_3  \\\n",
       "99214                   None                   None                    NaN   \n",
       "99215                   None                   None                    NaN   \n",
       "99216                   None                   None                    NaN   \n",
       "99217                   None                   None                    NaN   \n",
       "99218                   None                   None                    NaN   \n",
       "\n",
       "      Date_Proprietor_Added Additional_Proprietor_Indicator  \\\n",
       "99214            16-01-2017                               N   \n",
       "99215            16-01-2017                               N   \n",
       "99216            24-01-2017                               N   \n",
       "99217            02-02-2017                               N   \n",
       "99218            07-02-2017                               N   \n",
       "\n",
       "      Multiple_Address_Indicator date_snapshot  \n",
       "99214                          N    2017-10-01  \n",
       "99215                          N    2017-10-01  \n",
       "99216                          N    2017-10-01  \n",
       "99217                          N    2017-10-01  \n",
       "99218                          N    2017-10-01  \n",
       "\n",
       "[5 rows x 40 columns]"
      ]
     },
     "execution_count": 3,
     "metadata": {},
     "output_type": "execute_result"
    }
   ],
   "source": [
    "##Inspect first few rows of data\n",
    "data.tail(5)"
   ]
  },
  {
   "cell_type": "code",
   "execution_count": 4,
   "metadata": {
    "collapsed": true,
    "hideCode": false,
    "hidePrompt": false
   },
   "outputs": [],
   "source": [
    "##Create stacked version of original table which is better for counts\n",
    "data.columns = ['Title_Number', 'Tenure', 'Property_Address', 'Price_Paid', 'District',\\\n",
    "       'County', 'Region', 'Postcode', '1-Proprietor_Name',\\\n",
    "       '1-Company_Registration', '1-Proprietorship',\\\n",
    "       '1-Country_Incorporated', '1-Proprietor_Address_1',\\\n",
    "       '1-Proprietor_Address_2', '1-Proprietor_Address_3', '2-Proprietor_Name',\\\n",
    "       '2-Company_Registration', '2-Proprietorship',\\\n",
    "       '2-Country_Incorporated', '2-Proprietor_Address_1',\\\n",
    "       '2-Proprietor_Address_2', '2-Proprietor_Address_3', '3-Proprietor_Name',\\\n",
    "       '3-Company_Registration', '3-Proprietorship',\\\n",
    "       '3-Country_Incorporated', '3-Proprietor_Address_1',\\\n",
    "       '3-Proprietor_Address_2', '3-Proprietor_Address_3', '4-Proprietor_Name',\\\n",
    "       '4-Company_Registration', '4-Proprietorship',\\\n",
    "       '4-Country_Incorporated', '4-Proprietor_Address_1',\\\n",
    "       '4-Proprietor_Address_2', '4-Proprietor_Address_3',\\\n",
    "       'Date_Proprietor_Added', 'Additional_Proprietor_Indicator',\\\n",
    "       'Multiple_Address_Indicator','date_snapshot']\n",
    "data.set_index(['Title_Number', 'Tenure', 'Property_Address', 'Price_Paid', 'District',\\\n",
    "       'County', 'Region', 'Postcode','Date_Proprietor_Added', 'Additional_Proprietor_Indicator',\\\n",
    "       'Multiple_Address_Indicator','date_snapshot'], inplace=True)\n",
    "tuples = tuple(data.columns.str.split(\"-\"))\n",
    "tuples = [x[::-1] for x in tuples]\n",
    "data.columns = pd.MultiIndex.from_tuples(tuples)\n",
    "data = data.stack(level = 1).reset_index(level = 1, drop = True).reset_index()\n",
    "data.rename(columns={'level_11': 'Proprietor_Number'},inplace=True)\n",
    "data.set_index('date_snapshot',inplace=True)"
   ]
  },
  {
   "cell_type": "code",
   "execution_count": 5,
   "metadata": {
    "collapsed": true,
    "hideCode": false,
    "hidePrompt": false
   },
   "outputs": [],
   "source": [
    "##Create a pseudo unique column for companies which is a combination of first line of address and name. May\n",
    "##want to bottom this out a bit more\n",
    "data['Proprietor_Address_1'] = data['Proprietor_Address_1'].fillna('')\n",
    "data['Proprietor_Name'] = data['Proprietor_Name'].fillna('')\n",
    "data['unique_company'] = data['Proprietor_Name'] + data['Proprietor_Address_1']"
   ]
  },
  {
   "cell_type": "code",
   "execution_count": 6,
   "metadata": {
    "hideCode": false,
    "hidePrompt": false
   },
   "outputs": [
    {
     "name": "stdout",
     "output_type": "stream",
     "text": [
      "(208353, 19)\n"
     ]
    }
   ],
   "source": [
    "##Size of dataset\n",
    "print(data.shape)"
   ]
  },
  {
   "cell_type": "code",
   "execution_count": 7,
   "metadata": {
    "hideCode": false,
    "hidePrompt": false
   },
   "outputs": [
    {
     "data": {
      "image/png": "[encoded data removed]",
      "text/plain": [
       "<matplotlib.figure.Figure at 0x107bd9978>"
      ]
     },
     "metadata": {},
     "output_type": "display_data"
    }
   ],
   "source": [
    "##Look at how well filled out fields are\n",
    "mgno.matrix(data_2015)"
   ]
  },
  {
   "cell_type": "code",
   "execution_count": 8,
   "metadata": {
    "hideCode": false,
    "hidePrompt": false,
    "scrolled": true
   },
   "outputs": [
    {
     "data": {
      "image/png": "[encoded data removed]",
      "text/plain": [
       "<matplotlib.figure.Figure at 0x10ff625f8>"
      ]
     },
     "metadata": {},
     "output_type": "display_data"
    }
   ],
   "source": [
    "mgno.bar(data)"
   ]
  },
  {
   "cell_type": "code",
   "execution_count": 9,
   "metadata": {
    "hideCode": false,
    "hidePrompt": false
   },
   "outputs": [
    {
     "data": {
      "image/png": "[encoded data removed]",
      "text/plain": [
       "<matplotlib.figure.Figure at 0x1101216d8>"
      ]
     },
     "metadata": {},
     "output_type": "display_data"
    }
   ],
   "source": [
    "##Correlation matrix for filled values\n",
    "mgno.heatmap(data)"
   ]
  },
  {
   "cell_type": "code",
   "execution_count": 13,
   "metadata": {
    "collapsed": true,
    "hideCode": false,
    "hidePrompt": false
   },
   "outputs": [],
   "source": [
    "##Format dates that proprietor was added\n",
    "data['Date_Proprietor_Added'] = pd.to_datetime(data['Date_Proprietor_Added'])"
   ]
  },
  {
   "cell_type": "code",
   "execution_count": 14,
   "metadata": {
    "hideCode": false,
    "hidePrompt": false
   },
   "outputs": [
    {
     "data": {
      "text/plain": [
       "<matplotlib.axes._subplots.AxesSubplot at 0x118bba710>"
      ]
     },
     "execution_count": 14,
     "metadata": {},
     "output_type": "execute_result"
    },
    {
     "data": {
      "image/png": "[encoded data removed]",
      "text/plain": [
       "<matplotlib.figure.Figure at 0x118e8be80>"
      ]
     },
     "metadata": {},
     "output_type": "display_data"
    }
   ],
   "source": [
    "data['Date_Proprietor_Added'].value_counts().plot(figsize=(20,10))"
   ]
  },
  {
   "cell_type": "code",
   "execution_count": 36,
   "metadata": {
    "hideCode": false,
    "hidePrompt": false
   },
   "outputs": [],
   "source": [
    "##Load in data on secrecy jurisdictions, normalize and take average of secrecy score from Financial Secrecy Index 2015\n",
    "secrecy_index = pd.read_csv('data/financial_secrecy_index_2015.csv')\n",
    "secrecy_index['normalized_jurisdiction'] = secrecy_index.Jurisdiction.str.upper()\n",
    "def derive_mean_or_leave_score(row):\n",
    "    pat = re.compile('.*(\\d\\d)-(\\d\\d).*')\n",
    "    if ')' in row['Secrecy Score']:\n",
    "        return int(re.search(pat,row['Secrecy Score']).group(1)) + int(re.search(pat,row['Secrecy Score']).group(2)) / 2\n",
    "    else:\n",
    "        return row['Secrecy Score']\n",
    "secrecy_index['secret_score_mean'] = secrecy_index.apply(derive_mean_or_leave_score,axis=1)\n",
    "secrecy_index.secret_score_mean = secrecy_index.secret_score_mean.astype(float)\n",
    "secret_jurisdictions = secrecy_index[secrecy_index['secret_score_mean'] >= 60]['normalized_jurisdiction'].tolist()\n",
    "##Add in all USA states\n",
    "data.Country_Incorporated = data.Country_Incorporated.fillna('')\n",
    "us_secret = data[data.Country_Incorporated.str.contains('U.S.A')].Country_Incorporated.unique().tolist()\n",
    "secret_jurisdictions.extend(us_secret)\n",
    "##Normalziation of Country Incorproated field\n",
    "data['incorporated_normalized'] = data.Country_Incorporated\n",
    "data.incorporated_normalized = data.incorporated_normalized.str.strip()\n",
    "data.incorporated_normalized = data.incorporated_normalized.str.replace('ST KITTS AND NEVIS','ST KITTS & NEVIS')\n",
    "data.incorporated_normalized = data.incorporated_normalized.str.replace('BELIZ$','BELIZE')\n",
    "data.incorporated_normalized = data.incorporated_normalized.str.replace('TURKS AND CAICOS ISLANDS','TURKS & CAICOS ISLANDS')\n",
    "data.incorporated_normalized = data.incorporated_normalized.str.replace('DUBAI','UNITED ARAB EMIRATES (DUBAI)')\n",
    "data.incorporated_normalized = data.incorporated_normalized.str.replace('ILSE OF MAN','ISLE OF MAN')\n",
    "data.incorporated_normalized = data.incorporated_normalized.str.replace('REPUBLIC OF SEYCHELLE','SEYCHELLES')\n",
    "data.incorporated_normalized = data.incorporated_normalized.str.replace('THE SYECHELLES','SEYCHELLES')\n",
    "data.incorporated_normalized = data.incorporated_normalized.str.replace('NORTH CYPRUS','CYPRUS')\n",
    "data.incorporated_normalized = data.incorporated_normalized.str.replace('PAMANA','PANAMA')\n",
    "##Add this on to data\n",
    "data['secrecy_jurisdiction'] = data.incorporated_normalized.apply(lambda x: True if x in secret_jurisdictions else False)"
   ]
  },
  {
   "cell_type": "code",
   "execution_count": 38,
   "metadata": {
    "hideCode": false,
    "hidePrompt": false
   },
   "outputs": [
    {
     "data": {
      "text/plain": [
       "array(['CANADA', 'LUXEMBOURG', 'NETHERLANDS', 'DUTCH ANTILLES',\n",
       "       'ST VINCENT AND GRENADINES', 'IRELAND', 'UNITED ARAB EMIRATES',\n",
       "       'GERMANY', 'CHANNEL ISLANDS', 'DENMARK', 'CYPRUS', 'MALTA',\n",
       "       'PORTUGAL', 'LABUAN, MALAYSIA', 'KOREA', 'EGYPT', 'KUWAIT',\n",
       "       'FRANCE', 'SPAIN', 'BELGIUM', 'ITALY', 'NIGERIA',\n",
       "       'THE VIRGIN ISLANDS', 'MADEIRA', '387503', 'NEW ZEALAND', 'NIUE',\n",
       "       'SWEDEN', 'RAS AL KHAIMAH FREE TRADE ZONE', 'QATAR', 'JORDAN',\n",
       "       'AUSTRIA', 'GREECE', 'ALDERNEY', 'INDIA', 'AUSTRALIA', 'ISRAEL',\n",
       "       'JAPAN', '1762155', 'MALAYSIA', 'BRAZIL', 'REPUBLIC OF KOREA',\n",
       "       'INDONESIA', 'SOUTH KOREA', 'CZECH REPUBLIC', 'SOUTH AFRICA',\n",
       "       'CHINA', 'OMAN', 'HASHEMITE KINGDOM OF JORDAN', 'NORWAY',\n",
       "       'THAILAND', 'SRI LANKA', 'VIETNAM', 'RAS AL KHAIMAH', 'ABU DHABI',\n",
       "       'ETHIOPIA', 'SWAZILAND', 'CHONBURI', 'ALBERTA, CANADA',\n",
       "       'THE WEST INDIES', 'ONTARIO, CANADA', 'NIUE ISLAND',\n",
       "       'THE REPUBLIC OF KOREA',\n",
       "       \"THE SOCIALIST PEOPLE'S LIBYAN ARAB JAMAHIRIYA\", 'ROVEREDO GR',\n",
       "       'ANTIGUA AND BARBUDA', 'HEILIGKREUZ',\n",
       "       'THE HASHEMITE KINGDOM OF JORDAN', 'FINLAND', 'CHILE', 'BRUNEI',\n",
       "       'NEW BRUNSWICK, CANADA', 'KENYA', 'FALKLAND ISLANDS',\n",
       "       'BRITISH COLUMBIA, CANADA', '1005646', '101634', '2875892',\n",
       "       '113166C', '125159', '66528', 'NOVA SCOTIA, CANADA', '63605',\n",
       "       'TRINIDAD AND TOBAGO', '02366665', 'OC389182', 'OC373223',\n",
       "       'LITHUANIA', 'ESTONIA', 'AJMAN FREE ZONE', 'IRELANND', 'IRAQ',\n",
       "       'IRISH REPUBLIC', 'THE EUROPEAN UNION', 'ZIMBABWE', 'BANGLADESH',\n",
       "       'OC343252', '1370007', 'PART VII OF THE CHARITIES ACT 1993',\n",
       "       '89146', '229088', 'ICELAND', 'BULGARIA', 'BAHAMES', 'CROATIA',\n",
       "       '154738502', 'JARSEY', 'MEXICO', 'IP18077R',\n",
       "       'FUJAIRAH MEDIA FREE ZONE', 'THE ISLAND OF NIUE',\n",
       "       'IRELAND, CO. REGN. NO. 374321', 'ANGUILIA', '7550', '49716',\n",
       "       'POLAND', '109688', 'IRELEND', 'JEBEL ALI FREE ZONE', 'LIBYA',\n",
       "       '1654979', '55311', 'FAROE ISLANDS', '7366', '32203', '02127156',\n",
       "       'MACAU', 'COSTA RICA', 'SHARJAH', 'WEST-BRABANT', '56013',\n",
       "       '7604385', 'JAMAICA', '1737844', 'SLOVAKIA', 'UGANDA',\n",
       "       'WESTERN SAMOA', 'GEORGIA', 'KUALA LUMPUR', '7465508', 'THE NIUE',\n",
       "       '1012258', 'IRAN', 'SWISS CONFEDERATION', 'FEDERATION OF MALAYA',\n",
       "       'THE TURKISH REPUBLIC', 'THE REBUBLIC OF IRELAND',\n",
       "       'STATE OF GRENADA', 'SWITERLAND', 'THE REPUBLIC OF LIBE RIA',\n",
       "       'MONGOLIA', 'MOROCCO', 'ITLAY', 'ALGERIA', 'BELARUS',\n",
       "       'SIERRA LEONE', 'SERBIA', 'BREDA', 'HAMBURG', 'REIDEN',\n",
       "       'THE CHENNAL ISLES', 'RUPUBLIC OF IRELAND', 'QUEBEC, CANADA',\n",
       "       '58936', '14259', '00002065', '76028', 'OC323303', 'SAMAO',\n",
       "       'TENERIFE', 'BC0698768', 'THE HELLENIC REPUBLIC', 'THE GAMBIA',\n",
       "       'THE BRITISH ISLANDS', 'MALAYASIA', 'NORTH KOREA',\n",
       "       'REPUBLIC OF MARITIUS', 'AMERICA', 'NUIE', '25374', '38026',\n",
       "       '102718', 'IP18922R', 'TURKISH REPUBLIC OF NORTH',\n",
       "       'THE REUPLIC OF IRELAND COMPANY NO.250972', 'GREMANY', '085544C',\n",
       "       '118586', '200512967K', 'PAKISTAN', 'REPULBIC OF IRELAND',\n",
       "       '0003280', 'THE REPUBLI C OF IRELAND', 'HUNGARY', 'IP28410R',\n",
       "       '05986778', '43290', 'AJMAN', '', 'COLOMBIA', 'LATVIA', 'BERLIZE',\n",
       "       'FC029833', 'PENANG', 'TOGO', \"COTE D'IVOIRE\", 'CITY OF PANANMA',\n",
       "       '1811435',\n",
       "       'THE EUROPEAN UNION UNDER THE TREATY ON EUROPEAN UNION AND THE TREATY ON THE FUNCTIONING OF THE EUROPEAN UNION'], dtype=object)"
      ]
     },
     "execution_count": 38,
     "metadata": {},
     "output_type": "execute_result"
    }
   ],
   "source": [
    "##List of countries to clean up...\n",
    "data[data.secrecy_jurisdiction == False].incorporated_normalized.unique()"
   ]
  },
  {
   "cell_type": "markdown",
   "metadata": {
    "hideCode": false,
    "hidePrompt": false
   },
   "source": [
    "## Geocode properties"
   ]
  },
  {
   "cell_type": "markdown",
   "metadata": {
    "hideCode": false,
    "hidePrompt": false
   },
   "source": [
    "# Data dictionary"
   ]
  },
  {
   "cell_type": "markdown",
   "metadata": {
    "hideCode": false,
    "hidePrompt": false
   },
   "source": [
    "Write a data dictionary for each field [TO DO]"
   ]
  },
  {
   "cell_type": "markdown",
   "metadata": {
    "hideCode": false,
    "hidePrompt": false
   },
   "source": [
    "# Analysis"
   ]
  },
  {
   "cell_type": "markdown",
   "metadata": {
    "hideCode": false,
    "hidePrompt": false
   },
   "source": [
    "*Using the original questions from email chain, will need to revise most of them in terms of wha'ts possible with the data.*"
   ]
  },
  {
   "cell_type": "code",
   "execution_count": null,
   "metadata": {
    "collapsed": true
   },
   "outputs": [],
   "source": []
  },
  {
   "cell_type": "markdown",
   "metadata": {
    "hideCode": true,
    "hideOutput": true,
    "hidePrompt": false
   },
   "source": [
    "How many UK properties are owned by companies incorproatd to 2015?"
   ]
  },
  {
   "cell_type": "code",
   "execution_count": 39,
   "metadata": {
    "hideCode": false,
    "hidePrompt": false
   },
   "outputs": [
    {
     "data": {
      "text/plain": [
       "date_snapshot\n",
       "2015-10-31    99344\n",
       "2017-10-01    99219\n",
       "Name: Title_Number, dtype: int64"
      ]
     },
     "execution_count": 39,
     "metadata": {},
     "output_type": "execute_result"
    }
   ],
   "source": [
    "##How many titles are held by overseas companies in 2015 and 2017?\n",
    "data.groupby('date_snapshot').agg(lambda x: len(x.unique()))['Title_Number']"
   ]
  },
  {
   "cell_type": "markdown",
   "metadata": {
    "hideCode": false,
    "hidePrompt": false
   },
   "source": [
    "How many titles are held by companies incorporated in secrecy jurisdictions in 2015 compared to 2017? Secrecy jurisdictions are defined as those jurisdictions that have a secrecy score of 60 or above in the Tax Justice Network 2015 Financial Screcy Index."
   ]
  },
  {
   "cell_type": "code",
   "execution_count": 40,
   "metadata": {
    "hideCode": false,
    "hidePrompt": false
   },
   "outputs": [
    {
     "data": {
      "text/html": [
       "<div>\n",
       "<style>\n",
       "    .dataframe thead tr:only-child th {\n",
       "        text-align: right;\n",
       "    }\n",
       "\n",
       "    .dataframe thead th {\n",
       "        text-align: left;\n",
       "    }\n",
       "\n",
       "    .dataframe tbody tr th {\n",
       "        vertical-align: top;\n",
       "    }\n",
       "</style>\n",
       "<table border=\"1\" class=\"dataframe\">\n",
       "  <thead>\n",
       "    <tr style=\"text-align: right;\">\n",
       "      <th>date_snapshot</th>\n",
       "      <th>2015-10-31 00:00:00</th>\n",
       "      <th>2017-10-01 00:00:00</th>\n",
       "      <th>pct_change</th>\n",
       "    </tr>\n",
       "    <tr>\n",
       "      <th>secrecy_jurisdiction</th>\n",
       "      <th></th>\n",
       "      <th></th>\n",
       "      <th></th>\n",
       "    </tr>\n",
       "  </thead>\n",
       "  <tbody>\n",
       "    <tr>\n",
       "      <th>True</th>\n",
       "      <td>86765</td>\n",
       "      <td>86379</td>\n",
       "      <td>-0.004449</td>\n",
       "    </tr>\n",
       "    <tr>\n",
       "      <th>False</th>\n",
       "      <td>12603</td>\n",
       "      <td>12861</td>\n",
       "      <td>0.020471</td>\n",
       "    </tr>\n",
       "  </tbody>\n",
       "</table>\n",
       "</div>"
      ],
      "text/plain": [
       "date_snapshot         2015-10-31 00:00:00  2017-10-01 00:00:00  pct_change\n",
       "secrecy_jurisdiction                                                      \n",
       "True                                86765                86379   -0.004449\n",
       "False                               12603                12861    0.020471"
      ]
     },
     "execution_count": 40,
     "metadata": {},
     "output_type": "execute_result"
    }
   ],
   "source": [
    "df = data.pivot_table(index='secrecy_jurisdiction',columns='date_snapshot',values='Title_Number',aggfunc=lambda x: len(x.unique()))\\\n",
    ".sort_values(by='2017-10-01 00:00:00',ascending=False)\n",
    "df['pct_change'] = df.pct_change(axis=1)['2017-10-01']\n",
    "df"
   ]
  },
  {
   "cell_type": "markdown",
   "metadata": {
    "hideCode": false,
    "hidePrompt": false
   },
   "source": [
    "How many are valued at >£1m? What’s the total amount? What’s the sq footage? Have these figures increased since July 2015?"
   ]
  },
  {
   "cell_type": "code",
   "execution_count": 47,
   "metadata": {
    "hideCode": false,
    "hidePrompt": false
   },
   "outputs": [
    {
     "data": {
      "text/plain": [
       "0.088141562431214168"
      ]
     },
     "execution_count": 47,
     "metadata": {},
     "output_type": "execute_result"
    }
   ],
   "source": [
    "##Note that 91% of prife paid vaues for 2017 snapshot are missing\n",
    "data['2017'].Price_Paid.count() / len(data['2017'])"
   ]
  },
  {
   "cell_type": "code",
   "execution_count": 17,
   "metadata": {
    "hideCode": false,
    "hidePrompt": false
   },
   "outputs": [
    {
     "data": {
      "text/plain": [
       "<matplotlib.axes._subplots.AxesSubplot at 0x1276e74e0>"
      ]
     },
     "execution_count": 17,
     "metadata": {},
     "output_type": "execute_result"
    },
    {
     "data": {
      "image/png": "[encoded data removed]",
      "text/plain": [
       "<matplotlib.figure.Figure at 0x122d23a90>"
      ]
     },
     "metadata": {},
     "output_type": "display_data"
    }
   ],
   "source": [
    "##Distribution of price paid values where they exist. Notice the heavy skew towards high values will affect the mean.\n",
    "sns.distplot(data['Price_Paid'].dropna())"
   ]
  },
  {
   "cell_type": "code",
   "execution_count": 48,
   "metadata": {
    "hideCode": false,
    "hidePrompt": false
   },
   "outputs": [
    {
     "data": {
      "text/html": [
       "<div>\n",
       "<style>\n",
       "    .dataframe thead tr:only-child th {\n",
       "        text-align: right;\n",
       "    }\n",
       "\n",
       "    .dataframe thead th {\n",
       "        text-align: left;\n",
       "    }\n",
       "\n",
       "    .dataframe tbody tr th {\n",
       "        vertical-align: top;\n",
       "    }\n",
       "</style>\n",
       "<table border=\"1\" class=\"dataframe\">\n",
       "  <thead>\n",
       "    <tr style=\"text-align: right;\">\n",
       "      <th></th>\n",
       "      <th>count</th>\n",
       "      <th>mean</th>\n",
       "      <th>std</th>\n",
       "      <th>min</th>\n",
       "      <th>25%</th>\n",
       "      <th>50%</th>\n",
       "      <th>75%</th>\n",
       "      <th>max</th>\n",
       "    </tr>\n",
       "    <tr>\n",
       "      <th>date_snapshot</th>\n",
       "      <th></th>\n",
       "      <th></th>\n",
       "      <th></th>\n",
       "      <th></th>\n",
       "      <th></th>\n",
       "      <th></th>\n",
       "      <th></th>\n",
       "      <th></th>\n",
       "    </tr>\n",
       "  </thead>\n",
       "  <tbody>\n",
       "    <tr>\n",
       "      <th>2015-10-31</th>\n",
       "      <td>6,874.00</td>\n",
       "      <td>1,629,873.73</td>\n",
       "      <td>4,821,903.91</td>\n",
       "      <td>1.00</td>\n",
       "      <td>190,000.00</td>\n",
       "      <td>438,500.00</td>\n",
       "      <td>1,171,875.00</td>\n",
       "      <td>86,031,326.00</td>\n",
       "    </tr>\n",
       "    <tr>\n",
       "      <th>2017-10-01</th>\n",
       "      <td>9,210.00</td>\n",
       "      <td>2,297,426.58</td>\n",
       "      <td>8,176,871.63</td>\n",
       "      <td>1.00</td>\n",
       "      <td>200,000.00</td>\n",
       "      <td>490,000.00</td>\n",
       "      <td>1,389,136.00</td>\n",
       "      <td>215,399,999.00</td>\n",
       "    </tr>\n",
       "  </tbody>\n",
       "</table>\n",
       "</div>"
      ],
      "text/plain": [
       "                             count                 mean                  std  \\\n",
       "date_snapshot                                                                  \n",
       "2015-10-31                6,874.00         1,629,873.73         4,821,903.91   \n",
       "2017-10-01                9,210.00         2,297,426.58         8,176,871.63   \n",
       "\n",
       "                               min                  25%                  50%  \\\n",
       "date_snapshot                                                                  \n",
       "2015-10-31                    1.00           190,000.00           438,500.00   \n",
       "2017-10-01                    1.00           200,000.00           490,000.00   \n",
       "\n",
       "                               75%                  max  \n",
       "date_snapshot                                            \n",
       "2015-10-31            1,171,875.00        86,031,326.00  \n",
       "2017-10-01            1,389,136.00       215,399,999.00  "
      ]
     },
     "execution_count": 48,
     "metadata": {},
     "output_type": "execute_result"
    }
   ],
   "source": [
    "##Interpret the following in the light of the above\n",
    "data.groupby('date_snapshot').describe()['Price_Paid']"
   ]
  },
  {
   "cell_type": "code",
   "execution_count": 19,
   "metadata": {
    "hideCode": false,
    "hidePrompt": false
   },
   "outputs": [
    {
     "data": {
      "text/html": [
       "<div>\n",
       "<style>\n",
       "    .dataframe thead tr:only-child th {\n",
       "        text-align: right;\n",
       "    }\n",
       "\n",
       "    .dataframe thead th {\n",
       "        text-align: left;\n",
       "    }\n",
       "\n",
       "    .dataframe tbody tr th {\n",
       "        vertical-align: top;\n",
       "    }\n",
       "</style>\n",
       "<table border=\"1\" class=\"dataframe\">\n",
       "  <thead>\n",
       "    <tr style=\"text-align: right;\">\n",
       "      <th></th>\n",
       "      <th>Title_Number</th>\n",
       "      <th>Property_Address</th>\n",
       "      <th>Price_Paid</th>\n",
       "      <th>District</th>\n",
       "      <th>County</th>\n",
       "      <th>Region</th>\n",
       "      <th>Postcode</th>\n",
       "      <th>Date_Proprietor_Added</th>\n",
       "      <th>Additional_Proprietor_Indicator</th>\n",
       "      <th>Multiple_Address_Indicator</th>\n",
       "      <th>Proprietor_Number</th>\n",
       "      <th>Company_Registration</th>\n",
       "      <th>Country_Incorporated</th>\n",
       "      <th>Proprietor_Address_1</th>\n",
       "      <th>Proprietor_Address_2</th>\n",
       "      <th>Proprietor_Address_3</th>\n",
       "      <th>Proprietor_Name</th>\n",
       "      <th>Proprietorship</th>\n",
       "      <th>unique_company</th>\n",
       "    </tr>\n",
       "    <tr>\n",
       "      <th>date_snapshot</th>\n",
       "      <th></th>\n",
       "      <th></th>\n",
       "      <th></th>\n",
       "      <th></th>\n",
       "      <th></th>\n",
       "      <th></th>\n",
       "      <th></th>\n",
       "      <th></th>\n",
       "      <th></th>\n",
       "      <th></th>\n",
       "      <th></th>\n",
       "      <th></th>\n",
       "      <th></th>\n",
       "      <th></th>\n",
       "      <th></th>\n",
       "      <th></th>\n",
       "      <th></th>\n",
       "      <th></th>\n",
       "      <th></th>\n",
       "    </tr>\n",
       "  </thead>\n",
       "  <tbody>\n",
       "    <tr>\n",
       "      <th>2017-10-01</th>\n",
       "      <td>NGL690048</td>\n",
       "      <td>123 Buckingham Palace Road, London (SW1W 9SR)</td>\n",
       "      <td>215399999.0</td>\n",
       "      <td>CITY OF WESTMINSTER</td>\n",
       "      <td>GREATER LONDON</td>\n",
       "      <td>GREATER LONDON</td>\n",
       "      <td>SW1W 9SR</td>\n",
       "      <td>2017-07-07</td>\n",
       "      <td>N</td>\n",
       "      <td>N</td>\n",
       "      <td>1</td>\n",
       "      <td>None</td>\n",
       "      <td>BRITISH VIRGIN ISLANDS</td>\n",
       "      <td>Nemours Chambers, Road Town, Tortola, British ...</td>\n",
       "      <td>None</td>\n",
       "      <td>None</td>\n",
       "      <td>GC 123 BPR LTD</td>\n",
       "      <td>Limited Company or Public Limited Company</td>\n",
       "      <td>GC 123 BPR LTDNemours Chambers, Road Town, Tor...</td>\n",
       "    </tr>\n",
       "  </tbody>\n",
       "</table>\n",
       "</div>"
      ],
      "text/plain": [
       "              Title_Number                               Property_Address  \\\n",
       "date_snapshot                                                               \n",
       "2017-10-01       NGL690048  123 Buckingham Palace Road, London (SW1W 9SR)   \n",
       "\n",
       "                Price_Paid             District          County  \\\n",
       "date_snapshot                                                     \n",
       "2017-10-01     215399999.0  CITY OF WESTMINSTER  GREATER LONDON   \n",
       "\n",
       "                       Region  Postcode Date_Proprietor_Added  \\\n",
       "date_snapshot                                                   \n",
       "2017-10-01     GREATER LONDON  SW1W 9SR            2017-07-07   \n",
       "\n",
       "              Additional_Proprietor_Indicator Multiple_Address_Indicator  \\\n",
       "date_snapshot                                                              \n",
       "2017-10-01                                  N                          N   \n",
       "\n",
       "              Proprietor_Number Company_Registration    Country_Incorporated  \\\n",
       "date_snapshot                                                                  \n",
       "2017-10-01                    1                 None  BRITISH VIRGIN ISLANDS   \n",
       "\n",
       "                                            Proprietor_Address_1  \\\n",
       "date_snapshot                                                      \n",
       "2017-10-01     Nemours Chambers, Road Town, Tortola, British ...   \n",
       "\n",
       "              Proprietor_Address_2 Proprietor_Address_3 Proprietor_Name  \\\n",
       "date_snapshot                                                             \n",
       "2017-10-01                    None                 None  GC 123 BPR LTD   \n",
       "\n",
       "                                          Proprietorship  \\\n",
       "date_snapshot                                              \n",
       "2017-10-01     Limited Company or Public Limited Company   \n",
       "\n",
       "                                                  unique_company  \n",
       "date_snapshot                                                     \n",
       "2017-10-01     GC 123 BPR LTDNemours Chambers, Road Town, Tor...  "
      ]
     },
     "execution_count": 19,
     "metadata": {},
     "output_type": "execute_result"
    }
   ],
   "source": [
    "##What is that crazy expensive property in the 2017 snapshot? Appears to be deadl offices rented to Google...\n",
    "## http://www.costar.co.uk/en/assets/news/2015/October/GAW-drops-500m-in-West-End-mega-deal/\n",
    "data[data['Price_Paid'] == 215399999.0]"
   ]
  },
  {
   "cell_type": "code",
   "execution_count": 20,
   "metadata": {
    "hideCode": false,
    "hidePrompt": false
   },
   "outputs": [
    {
     "data": {
      "text/plain": [
       "date_snapshot\n",
       "2017-10-01    215399999.0\n",
       "2017-10-01    197999000.0\n",
       "2017-10-01    197999000.0\n",
       "2017-10-01    180364651.0\n",
       "2017-10-01    180364651.0\n",
       "2017-10-01    180364651.0\n",
       "2017-10-01    179000000.0\n",
       "2017-10-01    161523809.0\n",
       "2017-10-01     99000000.0\n",
       "2017-10-01     93597046.0\n",
       "Name: Price_Paid, dtype: float64"
      ]
     },
     "execution_count": 20,
     "metadata": {},
     "output_type": "execute_result"
    }
   ],
   "source": [
    "##Looks like other properties were brought at same time\n",
    "data['Price_Paid'].sort_values(ascending=False).head(10)"
   ]
  },
  {
   "cell_type": "code",
   "execution_count": 54,
   "metadata": {
    "hideCode": false,
    "hidePrompt": false
   },
   "outputs": [
    {
     "data": {
      "text/plain": [
       "date_snapshot\n",
       "2015-10-31       9,362,202,746.00\n",
       "2017-10-01      18,000,050,218.00\n",
       "Name: Price_Paid, dtype: float64"
      ]
     },
     "execution_count": 54,
     "metadata": {},
     "output_type": "execute_result"
    }
   ],
   "source": [
    "##What is the value of property owned by comapnies incorproated in secrecy jurisdictions?\n",
    "data[data.secrecy_jurisdiction == True].groupby('date_snapshot').sum()['Price_Paid']"
   ]
  },
  {
   "cell_type": "markdown",
   "metadata": {
    "hideCode": false,
    "hidePrompt": false
   },
   "source": [
    "How many properties owned by companies incorproated in secrecy jurisdiction are in London? Has this increased since 2015?"
   ]
  },
  {
   "cell_type": "code",
   "execution_count": 57,
   "metadata": {
    "hideCode": false,
    "hidePrompt": false
   },
   "outputs": [
    {
     "data": {
      "text/plain": [
       "date_snapshot\n",
       "2015-10-31 00:00:00              38,623.00\n",
       "2017-10-01 00:00:00              37,633.00\n",
       "pct_change                           -0.03\n",
       "Name: GREATER LONDON, dtype: float64"
      ]
     },
     "execution_count": 57,
     "metadata": {},
     "output_type": "execute_result"
    }
   ],
   "source": [
    "df = data[data.secrecy_jurisdiction==True].pivot_table(index='County',columns='date_snapshot',values='Title_Number',aggfunc=lambda x: len(x.unique()))\\\n",
    ".sort_values(by='2017-10-01 00:00:00',ascending=False)\n",
    "df['pct_change'] = df.pct_change(axis=1)['2017-10-01']\n",
    "df.loc['GREATER LONDON',:]"
   ]
  },
  {
   "cell_type": "markdown",
   "metadata": {
    "hideCode": false,
    "hidePrompt": false
   },
   "source": [
    "Which areas of England and Wales have the most properties owned by companies incorporated in secrecy jurisdictions? Has this changed since 2015?"
   ]
  },
  {
   "cell_type": "code",
   "execution_count": 58,
   "metadata": {
    "hideCode": false,
    "hidePrompt": false
   },
   "outputs": [
    {
     "data": {
      "text/html": [
       "<div>\n",
       "<style>\n",
       "    .dataframe thead tr:only-child th {\n",
       "        text-align: right;\n",
       "    }\n",
       "\n",
       "    .dataframe thead th {\n",
       "        text-align: left;\n",
       "    }\n",
       "\n",
       "    .dataframe tbody tr th {\n",
       "        vertical-align: top;\n",
       "    }\n",
       "</style>\n",
       "<table border=\"1\" class=\"dataframe\">\n",
       "  <thead>\n",
       "    <tr style=\"text-align: right;\">\n",
       "      <th>date_snapshot</th>\n",
       "      <th>2015-10-31 00:00:00</th>\n",
       "      <th>2017-10-01 00:00:00</th>\n",
       "      <th>pct_change</th>\n",
       "    </tr>\n",
       "    <tr>\n",
       "      <th>Region</th>\n",
       "      <th></th>\n",
       "      <th></th>\n",
       "      <th></th>\n",
       "    </tr>\n",
       "  </thead>\n",
       "  <tbody>\n",
       "    <tr>\n",
       "      <th>GREATER LONDON</th>\n",
       "      <td>38623</td>\n",
       "      <td>37633</td>\n",
       "      <td>-0.03</td>\n",
       "    </tr>\n",
       "    <tr>\n",
       "      <th>SOUTH EAST</th>\n",
       "      <td>13907</td>\n",
       "      <td>14094</td>\n",
       "      <td>0.01</td>\n",
       "    </tr>\n",
       "    <tr>\n",
       "      <th>NORTH WEST</th>\n",
       "      <td>9517</td>\n",
       "      <td>9614</td>\n",
       "      <td>0.01</td>\n",
       "    </tr>\n",
       "    <tr>\n",
       "      <th>YORKS AND HUMBER</th>\n",
       "      <td>4598</td>\n",
       "      <td>4920</td>\n",
       "      <td>0.07</td>\n",
       "    </tr>\n",
       "    <tr>\n",
       "      <th>SOUTH WEST</th>\n",
       "      <td>4762</td>\n",
       "      <td>4687</td>\n",
       "      <td>-0.02</td>\n",
       "    </tr>\n",
       "    <tr>\n",
       "      <th>WEST MIDLANDS</th>\n",
       "      <td>4401</td>\n",
       "      <td>4441</td>\n",
       "      <td>0.01</td>\n",
       "    </tr>\n",
       "    <tr>\n",
       "      <th>EAST MIDLANDS</th>\n",
       "      <td>3639</td>\n",
       "      <td>3773</td>\n",
       "      <td>0.04</td>\n",
       "    </tr>\n",
       "    <tr>\n",
       "      <th>NORTH</th>\n",
       "      <td>2873</td>\n",
       "      <td>2803</td>\n",
       "      <td>-0.02</td>\n",
       "    </tr>\n",
       "    <tr>\n",
       "      <th>WALES</th>\n",
       "      <td>2401</td>\n",
       "      <td>2325</td>\n",
       "      <td>-0.03</td>\n",
       "    </tr>\n",
       "    <tr>\n",
       "      <th>EAST ANGLIA</th>\n",
       "      <td>2044</td>\n",
       "      <td>2089</td>\n",
       "      <td>0.02</td>\n",
       "    </tr>\n",
       "  </tbody>\n",
       "</table>\n",
       "</div>"
      ],
      "text/plain": [
       "date_snapshot     2015-10-31 00:00:00  2017-10-01 00:00:00  \\\n",
       "Region                                                       \n",
       "GREATER LONDON                  38623                37633   \n",
       "SOUTH EAST                      13907                14094   \n",
       "NORTH WEST                       9517                 9614   \n",
       "YORKS AND HUMBER                 4598                 4920   \n",
       "SOUTH WEST                       4762                 4687   \n",
       "WEST MIDLANDS                    4401                 4441   \n",
       "EAST MIDLANDS                    3639                 3773   \n",
       "NORTH                            2873                 2803   \n",
       "WALES                            2401                 2325   \n",
       "EAST ANGLIA                      2044                 2089   \n",
       "\n",
       "date_snapshot              pct_change  \n",
       "Region                                 \n",
       "GREATER LONDON                  -0.03  \n",
       "SOUTH EAST                       0.01  \n",
       "NORTH WEST                       0.01  \n",
       "YORKS AND HUMBER                 0.07  \n",
       "SOUTH WEST                      -0.02  \n",
       "WEST MIDLANDS                    0.01  \n",
       "EAST MIDLANDS                    0.04  \n",
       "NORTH                           -0.02  \n",
       "WALES                           -0.03  \n",
       "EAST ANGLIA                      0.02  "
      ]
     },
     "execution_count": 58,
     "metadata": {},
     "output_type": "execute_result"
    }
   ],
   "source": [
    "df = data[data.secrecy_jurisdiction == True].pivot_table(index='Region',columns='date_snapshot',values='Title_Number',aggfunc=lambda x: len(x.unique()))\\\n",
    ".sort_values(by='2017-10-01 00:00:00',ascending=False)\n",
    "df['pct_change'] = df.pct_change(axis=1)['2017-10-01']\n",
    "df.head(10)"
   ]
  },
  {
   "cell_type": "markdown",
   "metadata": {
    "hideCode": false,
    "hidePrompt": false
   },
   "source": [
    "Which political constituencies have the highest density of buildings owned by anonymous companies? Has this changed since 2015?"
   ]
  },
  {
   "cell_type": "code",
   "execution_count": 59,
   "metadata": {
    "hideCode": false,
    "hidePrompt": false
   },
   "outputs": [],
   "source": [
    "geocoded_data = pd.read_csv('data/2017_geocoded.csv',low_memory=False)\n",
    "geocoded_data = geocoded_data[(geocoded_data.confidence >= 7) | (pd.isnull(geocoded_data.confidence))]"
   ]
  },
  {
   "cell_type": "code",
   "execution_count": 60,
   "metadata": {
    "collapsed": true,
    "hideCode": false,
    "hidePrompt": false
   },
   "outputs": [],
   "source": [
    "constiuency_boundaries = gp.read_file('data/westminister_constituencies/westminster_const_region.shp')\n",
    "constiuency_boundaries = constiuency_boundaries.to_crs({'init': 'epsg:4326'})"
   ]
  },
  {
   "cell_type": "code",
   "execution_count": 61,
   "metadata": {
    "collapsed": true,
    "hideCode": false,
    "hidePrompt": false
   },
   "outputs": [],
   "source": [
    "constiuency_boundaries['normalized_constituency'] = constiuency_boundaries.NAME\n",
    "constiuency_boundaries['normalized_constituency'] = constiuency_boundaries.normalized_constituency.str.replace(' Boro Const$','')\n",
    "constiuency_boundaries['normalized_constituency'] = constiuency_boundaries.normalized_constituency.str.replace(' Const$','')\n",
    "constiuency_boundaries['normalized_constituency'] = constiuency_boundaries.normalized_constituency.str.replace(' Boro$','')\n",
    "constiuency_boundaries['normalized_constituency'] = constiuency_boundaries.normalized_constituency.str.replace(' Co$','')\n",
    "constiuency_boundaries['normalized_constituency'] = constiuency_boundaries.normalized_constituency.str.replace(' Burgh$','')\n",
    "eng_populations = pd.read_excel('data/mid_2015_estimates_parliamentary_constituencies.xls',sheetname='Mid-2015 Persons',skiprows=3)\n",
    "eng_populations = eng_populations[['PCON11CD','PCON11NM','All Ages']]\n",
    "eng_populations.columns = ['ukpc','constituency','population']\n",
    "scot_population = pd.read_csv('data/2011-2016_scot_constituencies_population_estimates.csv',skiprows=6,encoding='latin',thousands=\",\",quotechar='\"')\n",
    "scot_population = scot_population[['UKPC Code','UKPC Name','Unnamed: 3']][:59]\n",
    "scot_population.columns = ['ukpc','constituency','population']\n",
    "scot_population.population = scot_population.population.str.replace(',','').astype(int)\n",
    "populations = pd.concat([scot_population,eng_populations])\n",
    "#populations.population = populations.population.str.replace(',','')\n",
    "#populations.population = populations.population.astype(int)\n",
    "constiuency_boundaries = pd.merge(constiuency_boundaries,populations,left_on='CODE',right_on='ukpc',how='outer')"
   ]
  },
  {
   "cell_type": "code",
   "execution_count": null,
   "metadata": {
    "collapsed": true,
    "hideCode": false,
    "hidePrompt": false
   },
   "outputs": [],
   "source": [
    "gdf = geocoded_data.dropna(subset=['lat','lng']).copy()\n",
    "geometry = [Point(xy) for xy in zip(gdf.lng, gdf.lat)]\n",
    "gdf = gdf.drop(['lng', 'lat'], axis=1)\n",
    "crs = {'init': 'epsg:4326'}\n",
    "gdf = gp.GeoDataFrame(gdf, crs=crs, geometry=geometry)"
   ]
  },
  {
   "cell_type": "code",
   "execution_count": null,
   "metadata": {
    "collapsed": true,
    "hideCode": false,
    "hidePrompt": false
   },
   "outputs": [],
   "source": [
    "sjoin = gp.sjoin(gdf,constiuency_boundaries)"
   ]
  },
  {
   "cell_type": "code",
   "execution_count": null,
   "metadata": {
    "hideCode": false,
    "hidePrompt": false
   },
   "outputs": [],
   "source": [
    "df = pd.DataFrame(sjoin.groupby(['normalized_constituency','population']).agg(lambda x: len(x.unique()))['Title_Number']).reset_index()\n",
    "df.columns = ['normazlied_constituency','population','count']\n",
    "df['per_capita'] = df['count'] / df['population']\n",
    "df.sort_values(by='per_capita',ascending=False)"
   ]
  },
  {
   "cell_type": "code",
   "execution_count": 113,
   "metadata": {
    "hideCode": false,
    "hidePrompt": false
   },
   "outputs": [
    {
     "data": {
      "text/plain": [
       "Cities of London and Westminster      8981\n",
       "Kensington                            4430\n",
       "Chelsea and Fulham                    2475\n",
       "Westminster North                     2417\n",
       "Vauxhall                              1666\n",
       "Manchester Central                    1473\n",
       "Hampstead and Kilburn                 1327\n",
       "Holborn and St. Pancras               1224\n",
       "Poplar and Limehouse                  1123\n",
       "Battersea                              854\n",
       "Hammersmith                            839\n",
       "Bethnal Green and Bow                  837\n",
       "Islington South and Finsbury           824\n",
       "Feltham and Heston                     799\n",
       "Wakefield                              764\n",
       "Harwich and North Essex                755\n",
       "Bermondsey and Old Southwark           713\n",
       "Birmingham, Ladywood                   698\n",
       "Liverpool, Riverside                   693\n",
       "Finchley and Golders Green             692\n",
       "Leeds Central                          656\n",
       "Putney                                 619\n",
       "Birkenhead                             602\n",
       "Salford and Eccles                     594\n",
       "Ealing Central and Acton               587\n",
       "Don Valley                             507\n",
       "Hackney South and Shoreditch           506\n",
       "Brentford and Isleworth                490\n",
       "West Ham                               451\n",
       "Bristol West                           444\n",
       "                                      ... \n",
       "Clwyd South                             33\n",
       "North East Derbyshire                   33\n",
       "Redcar                                  32\n",
       "Elmet and Rothwell                      32\n",
       "Forest of Dean                          31\n",
       "Wirral West                             31\n",
       "Pudsey                                  31\n",
       "Bradford East                           30\n",
       "Warley                                  30\n",
       "Leeds North East                        29\n",
       "Penistone and Stocksbridge              29\n",
       "Aldridge-Brownhills                     29\n",
       "Barnsley Central                        29\n",
       "Brecon and Radnorshire                  28\n",
       "Rhondda                                 28\n",
       "East Yorkshire                          27\n",
       "Leeds East                              26\n",
       "Coventry North West                     24\n",
       "Bradford South                          24\n",
       "Kingston upon Hull East                 22\n",
       "Stourbridge                             22\n",
       "Dudley North                            18\n",
       "Dwyfor Meirionnydd                      18\n",
       "Montgomeryshire                         16\n",
       "Stirling                                 4\n",
       "Edinburgh East Burgh                     1\n",
       "Na h-Eileanan an Iar                     1\n",
       "Aberdeen North Burgh                     1\n",
       "Berwickshire, Roxburgh and Selkirk       1\n",
       "Argyll and Bute                          1\n",
       "Name: normalized_constituency, Length: 579, dtype: int64"
      ]
     },
     "execution_count": 113,
     "metadata": {},
     "output_type": "execute_result"
    }
   ],
   "source": [
    "sjoin['normalized_constituency'].value_counts().sort_values(ascending=False)"
   ]
  },
  {
   "cell_type": "markdown",
   "metadata": {
    "hideCode": false,
    "hidePrompt": false
   },
   "source": [
    "How many properties owned by offshore companies are in Kensington & Chelsea / City of Westminster / City of London? Has this increased since 2015?"
   ]
  },
  {
   "cell_type": "code",
   "execution_count": 24,
   "metadata": {
    "hideCode": false,
    "hidePrompt": false
   },
   "outputs": [
    {
     "data": {
      "text/html": [
       "<div>\n",
       "<style>\n",
       "    .dataframe thead tr:only-child th {\n",
       "        text-align: right;\n",
       "    }\n",
       "\n",
       "    .dataframe thead th {\n",
       "        text-align: left;\n",
       "    }\n",
       "\n",
       "    .dataframe tbody tr th {\n",
       "        vertical-align: top;\n",
       "    }\n",
       "</style>\n",
       "<table border=\"1\" class=\"dataframe\">\n",
       "  <thead>\n",
       "    <tr style=\"text-align: right;\">\n",
       "      <th>date_snapshot</th>\n",
       "      <th>2015-10-31 00:00:00</th>\n",
       "      <th>2017-10-01 00:00:00</th>\n",
       "      <th>pct_change</th>\n",
       "    </tr>\n",
       "    <tr>\n",
       "      <th>District</th>\n",
       "      <th></th>\n",
       "      <th></th>\n",
       "      <th></th>\n",
       "    </tr>\n",
       "  </thead>\n",
       "  <tbody>\n",
       "    <tr>\n",
       "      <th>CITY OF WESTMINSTER</th>\n",
       "      <td>13139</td>\n",
       "      <td>11621</td>\n",
       "      <td>-0.115534</td>\n",
       "    </tr>\n",
       "    <tr>\n",
       "      <th>KENSINGTON AND CHELSEA</th>\n",
       "      <td>6741</td>\n",
       "      <td>6341</td>\n",
       "      <td>-0.059338</td>\n",
       "    </tr>\n",
       "    <tr>\n",
       "      <th>CAMDEN</th>\n",
       "      <td>2380</td>\n",
       "      <td>2490</td>\n",
       "      <td>0.046218</td>\n",
       "    </tr>\n",
       "    <tr>\n",
       "      <th>TOWER HAMLETS</th>\n",
       "      <td>1893</td>\n",
       "      <td>2086</td>\n",
       "      <td>0.101955</td>\n",
       "    </tr>\n",
       "    <tr>\n",
       "      <th>WANDSWORTH</th>\n",
       "      <td>1893</td>\n",
       "      <td>2020</td>\n",
       "      <td>0.067089</td>\n",
       "    </tr>\n",
       "    <tr>\n",
       "      <th>LAMBETH</th>\n",
       "      <td>1639</td>\n",
       "      <td>1768</td>\n",
       "      <td>0.078707</td>\n",
       "    </tr>\n",
       "    <tr>\n",
       "      <th>MANCHESTER</th>\n",
       "      <td>1510</td>\n",
       "      <td>1613</td>\n",
       "      <td>0.068212</td>\n",
       "    </tr>\n",
       "    <tr>\n",
       "      <th>HAMMERSMITH AND FULHAM</th>\n",
       "      <td>1540</td>\n",
       "      <td>1592</td>\n",
       "      <td>0.033766</td>\n",
       "    </tr>\n",
       "    <tr>\n",
       "      <th>LIVERPOOL</th>\n",
       "      <td>1249</td>\n",
       "      <td>1399</td>\n",
       "      <td>0.120096</td>\n",
       "    </tr>\n",
       "    <tr>\n",
       "      <th>BARNET</th>\n",
       "      <td>1394</td>\n",
       "      <td>1374</td>\n",
       "      <td>-0.014347</td>\n",
       "    </tr>\n",
       "  </tbody>\n",
       "</table>\n",
       "</div>"
      ],
      "text/plain": [
       "date_snapshot           2015-10-31 00:00:00  2017-10-01 00:00:00  pct_change\n",
       "District                                                                    \n",
       "CITY OF WESTMINSTER                   13139                11621   -0.115534\n",
       "KENSINGTON AND CHELSEA                 6741                 6341   -0.059338\n",
       "CAMDEN                                 2380                 2490    0.046218\n",
       "TOWER HAMLETS                          1893                 2086    0.101955\n",
       "WANDSWORTH                             1893                 2020    0.067089\n",
       "LAMBETH                                1639                 1768    0.078707\n",
       "MANCHESTER                             1510                 1613    0.068212\n",
       "HAMMERSMITH AND FULHAM                 1540                 1592    0.033766\n",
       "LIVERPOOL                              1249                 1399    0.120096\n",
       "BARNET                                 1394                 1374   -0.014347"
      ]
     },
     "execution_count": 24,
     "metadata": {},
     "output_type": "execute_result"
    }
   ],
   "source": [
    "df = data.pivot_table(index='District',columns='date_snapshot',values='Title_Number',aggfunc=lambda x: len(x.unique()))\\\n",
    ".sort_values(by='2017-10-01 00:00:00',ascending=False)\n",
    "df['pct_change'] = df.pct_change(axis=1)['2017-10-01']\n",
    "df.head(10)"
   ]
  },
  {
   "cell_type": "markdown",
   "metadata": {
    "hideCode": false,
    "hidePrompt": false
   },
   "source": [
    "How many properties owned by overseas companies by London borough"
   ]
  },
  {
   "cell_type": "code",
   "execution_count": 201,
   "metadata": {
    "hideCode": false,
    "hidePrompt": false
   },
   "outputs": [
    {
     "data": {
      "text/html": [
       "<div>\n",
       "<style>\n",
       "    .dataframe thead tr:only-child th {\n",
       "        text-align: right;\n",
       "    }\n",
       "\n",
       "    .dataframe thead th {\n",
       "        text-align: left;\n",
       "    }\n",
       "\n",
       "    .dataframe tbody tr th {\n",
       "        vertical-align: top;\n",
       "    }\n",
       "</style>\n",
       "<table border=\"1\" class=\"dataframe\">\n",
       "  <thead>\n",
       "    <tr style=\"text-align: right;\">\n",
       "      <th>date_snapshot</th>\n",
       "      <th>2015-10-31 00:00:00</th>\n",
       "      <th>2017-10-01 00:00:00</th>\n",
       "      <th>pct_change</th>\n",
       "    </tr>\n",
       "    <tr>\n",
       "      <th>District</th>\n",
       "      <th></th>\n",
       "      <th></th>\n",
       "      <th></th>\n",
       "    </tr>\n",
       "  </thead>\n",
       "  <tbody>\n",
       "    <tr>\n",
       "      <th>City Of Westminster</th>\n",
       "      <td>13139</td>\n",
       "      <td>11621</td>\n",
       "      <td>-0.115534</td>\n",
       "    </tr>\n",
       "    <tr>\n",
       "      <th>Kensington And Chelsea</th>\n",
       "      <td>6741</td>\n",
       "      <td>6341</td>\n",
       "      <td>-0.059338</td>\n",
       "    </tr>\n",
       "    <tr>\n",
       "      <th>Camden</th>\n",
       "      <td>2380</td>\n",
       "      <td>2490</td>\n",
       "      <td>0.046218</td>\n",
       "    </tr>\n",
       "    <tr>\n",
       "      <th>Tower Hamlets</th>\n",
       "      <td>1893</td>\n",
       "      <td>2086</td>\n",
       "      <td>0.101955</td>\n",
       "    </tr>\n",
       "    <tr>\n",
       "      <th>Wandsworth</th>\n",
       "      <td>1893</td>\n",
       "      <td>2020</td>\n",
       "      <td>0.067089</td>\n",
       "    </tr>\n",
       "    <tr>\n",
       "      <th>Lambeth</th>\n",
       "      <td>1639</td>\n",
       "      <td>1768</td>\n",
       "      <td>0.078707</td>\n",
       "    </tr>\n",
       "    <tr>\n",
       "      <th>Hammersmith And Fulham</th>\n",
       "      <td>1540</td>\n",
       "      <td>1592</td>\n",
       "      <td>0.033766</td>\n",
       "    </tr>\n",
       "    <tr>\n",
       "      <th>Barnet</th>\n",
       "      <td>1394</td>\n",
       "      <td>1374</td>\n",
       "      <td>-0.014347</td>\n",
       "    </tr>\n",
       "    <tr>\n",
       "      <th>Hounslow</th>\n",
       "      <td>1246</td>\n",
       "      <td>1316</td>\n",
       "      <td>0.056180</td>\n",
       "    </tr>\n",
       "    <tr>\n",
       "      <th>City Of London</th>\n",
       "      <td>1187</td>\n",
       "      <td>1287</td>\n",
       "      <td>0.084246</td>\n",
       "    </tr>\n",
       "    <tr>\n",
       "      <th>Islington</th>\n",
       "      <td>1117</td>\n",
       "      <td>1143</td>\n",
       "      <td>0.023277</td>\n",
       "    </tr>\n",
       "    <tr>\n",
       "      <th>Southwark</th>\n",
       "      <td>940</td>\n",
       "      <td>1031</td>\n",
       "      <td>0.096809</td>\n",
       "    </tr>\n",
       "    <tr>\n",
       "      <th>Ealing</th>\n",
       "      <td>884</td>\n",
       "      <td>849</td>\n",
       "      <td>-0.039593</td>\n",
       "    </tr>\n",
       "    <tr>\n",
       "      <th>Hackney</th>\n",
       "      <td>625</td>\n",
       "      <td>802</td>\n",
       "      <td>0.283200</td>\n",
       "    </tr>\n",
       "    <tr>\n",
       "      <th>Brent</th>\n",
       "      <td>666</td>\n",
       "      <td>711</td>\n",
       "      <td>0.067568</td>\n",
       "    </tr>\n",
       "    <tr>\n",
       "      <th>Newham</th>\n",
       "      <td>543</td>\n",
       "      <td>656</td>\n",
       "      <td>0.208103</td>\n",
       "    </tr>\n",
       "    <tr>\n",
       "      <th>Croydon</th>\n",
       "      <td>593</td>\n",
       "      <td>599</td>\n",
       "      <td>0.010118</td>\n",
       "    </tr>\n",
       "    <tr>\n",
       "      <th>Haringey</th>\n",
       "      <td>612</td>\n",
       "      <td>588</td>\n",
       "      <td>-0.039216</td>\n",
       "    </tr>\n",
       "    <tr>\n",
       "      <th>Merton</th>\n",
       "      <td>461</td>\n",
       "      <td>553</td>\n",
       "      <td>0.199566</td>\n",
       "    </tr>\n",
       "    <tr>\n",
       "      <th>Richmond Upon Thames</th>\n",
       "      <td>511</td>\n",
       "      <td>500</td>\n",
       "      <td>-0.021526</td>\n",
       "    </tr>\n",
       "    <tr>\n",
       "      <th>Hillingdon</th>\n",
       "      <td>406</td>\n",
       "      <td>480</td>\n",
       "      <td>0.182266</td>\n",
       "    </tr>\n",
       "    <tr>\n",
       "      <th>Lewisham</th>\n",
       "      <td>467</td>\n",
       "      <td>478</td>\n",
       "      <td>0.023555</td>\n",
       "    </tr>\n",
       "    <tr>\n",
       "      <th>Harrow</th>\n",
       "      <td>419</td>\n",
       "      <td>460</td>\n",
       "      <td>0.097852</td>\n",
       "    </tr>\n",
       "    <tr>\n",
       "      <th>Enfield</th>\n",
       "      <td>351</td>\n",
       "      <td>391</td>\n",
       "      <td>0.113960</td>\n",
       "    </tr>\n",
       "    <tr>\n",
       "      <th>Greenwich</th>\n",
       "      <td>396</td>\n",
       "      <td>378</td>\n",
       "      <td>-0.045455</td>\n",
       "    </tr>\n",
       "    <tr>\n",
       "      <th>Kingston Upon Thames</th>\n",
       "      <td>381</td>\n",
       "      <td>357</td>\n",
       "      <td>-0.062992</td>\n",
       "    </tr>\n",
       "    <tr>\n",
       "      <th>Bromley</th>\n",
       "      <td>316</td>\n",
       "      <td>341</td>\n",
       "      <td>0.079114</td>\n",
       "    </tr>\n",
       "    <tr>\n",
       "      <th>Sutton</th>\n",
       "      <td>225</td>\n",
       "      <td>229</td>\n",
       "      <td>0.017778</td>\n",
       "    </tr>\n",
       "    <tr>\n",
       "      <th>Waltham Forest</th>\n",
       "      <td>279</td>\n",
       "      <td>207</td>\n",
       "      <td>-0.258065</td>\n",
       "    </tr>\n",
       "    <tr>\n",
       "      <th>Havering</th>\n",
       "      <td>210</td>\n",
       "      <td>192</td>\n",
       "      <td>-0.085714</td>\n",
       "    </tr>\n",
       "    <tr>\n",
       "      <th>Redbridge</th>\n",
       "      <td>280</td>\n",
       "      <td>187</td>\n",
       "      <td>-0.332143</td>\n",
       "    </tr>\n",
       "    <tr>\n",
       "      <th>Bexley</th>\n",
       "      <td>146</td>\n",
       "      <td>163</td>\n",
       "      <td>0.116438</td>\n",
       "    </tr>\n",
       "    <tr>\n",
       "      <th>Barking And Dagenham</th>\n",
       "      <td>142</td>\n",
       "      <td>121</td>\n",
       "      <td>-0.147887</td>\n",
       "    </tr>\n",
       "  </tbody>\n",
       "</table>\n",
       "</div>"
      ],
      "text/plain": [
       "date_snapshot           2015-10-31 00:00:00  2017-10-01 00:00:00  pct_change\n",
       "District                                                                    \n",
       "City Of Westminster                   13139                11621   -0.115534\n",
       "Kensington And Chelsea                 6741                 6341   -0.059338\n",
       "Camden                                 2380                 2490    0.046218\n",
       "Tower Hamlets                          1893                 2086    0.101955\n",
       "Wandsworth                             1893                 2020    0.067089\n",
       "Lambeth                                1639                 1768    0.078707\n",
       "Hammersmith And Fulham                 1540                 1592    0.033766\n",
       "Barnet                                 1394                 1374   -0.014347\n",
       "Hounslow                               1246                 1316    0.056180\n",
       "City Of London                         1187                 1287    0.084246\n",
       "Islington                              1117                 1143    0.023277\n",
       "Southwark                               940                 1031    0.096809\n",
       "Ealing                                  884                  849   -0.039593\n",
       "Hackney                                 625                  802    0.283200\n",
       "Brent                                   666                  711    0.067568\n",
       "Newham                                  543                  656    0.208103\n",
       "Croydon                                 593                  599    0.010118\n",
       "Haringey                                612                  588   -0.039216\n",
       "Merton                                  461                  553    0.199566\n",
       "Richmond Upon Thames                    511                  500   -0.021526\n",
       "Hillingdon                              406                  480    0.182266\n",
       "Lewisham                                467                  478    0.023555\n",
       "Harrow                                  419                  460    0.097852\n",
       "Enfield                                 351                  391    0.113960\n",
       "Greenwich                               396                  378   -0.045455\n",
       "Kingston Upon Thames                    381                  357   -0.062992\n",
       "Bromley                                 316                  341    0.079114\n",
       "Sutton                                  225                  229    0.017778\n",
       "Waltham Forest                          279                  207   -0.258065\n",
       "Havering                                210                  192   -0.085714\n",
       "Redbridge                               280                  187   -0.332143\n",
       "Bexley                                  146                  163    0.116438\n",
       "Barking And Dagenham                    142                  121   -0.147887"
      ]
     },
     "execution_count": 201,
     "metadata": {},
     "output_type": "execute_result"
    }
   ],
   "source": [
    "london_df = data[data.Region == 'GREATER LONDON'].copy()\n",
    "df = london_df.pivot_table(index='District',columns='date_snapshot',values='Title_Number',aggfunc=lambda x: len(x.unique()))\\\n",
    ".sort_values(by='2017-10-01 00:00:00',ascending=False)\n",
    "df['pct_change'] = df.pct_change(axis=1)['2017-10-01']\n",
    "df.index = df.index.str.title()\n",
    "df.to_csv('outputs/london_borough_counts.csv')\n",
    "df"
   ]
  },
  {
   "cell_type": "markdown",
   "metadata": {
    "hideCode": false,
    "hidePrompt": false
   },
   "source": [
    "What is the breakdown of company registration by jurisdiction? How does this compare to 2015?"
   ]
  },
  {
   "cell_type": "code",
   "execution_count": 25,
   "metadata": {
    "hideCode": false,
    "hidePrompt": false
   },
   "outputs": [
    {
     "data": {
      "text/html": [
       "<div>\n",
       "<style>\n",
       "    .dataframe thead tr:only-child th {\n",
       "        text-align: right;\n",
       "    }\n",
       "\n",
       "    .dataframe thead th {\n",
       "        text-align: left;\n",
       "    }\n",
       "\n",
       "    .dataframe tbody tr th {\n",
       "        vertical-align: top;\n",
       "    }\n",
       "</style>\n",
       "<table border=\"1\" class=\"dataframe\">\n",
       "  <thead>\n",
       "    <tr style=\"text-align: right;\">\n",
       "      <th>date_snapshot</th>\n",
       "      <th>2015-10-31 00:00:00</th>\n",
       "      <th>2017-10-01 00:00:00</th>\n",
       "      <th>pct_change</th>\n",
       "    </tr>\n",
       "    <tr>\n",
       "      <th>Country_Incorporated</th>\n",
       "      <th></th>\n",
       "      <th></th>\n",
       "      <th></th>\n",
       "    </tr>\n",
       "  </thead>\n",
       "  <tbody>\n",
       "    <tr>\n",
       "      <th>BRITISH VIRGIN ISLANDS</th>\n",
       "      <td>16930.0</td>\n",
       "      <td>16507.0</td>\n",
       "      <td>-0.024985</td>\n",
       "    </tr>\n",
       "    <tr>\n",
       "      <th>JERSEY</th>\n",
       "      <td>9139.0</td>\n",
       "      <td>8676.0</td>\n",
       "      <td>-0.050662</td>\n",
       "    </tr>\n",
       "    <tr>\n",
       "      <th>ISLE OF MAN</th>\n",
       "      <td>6593.0</td>\n",
       "      <td>6281.0</td>\n",
       "      <td>-0.047323</td>\n",
       "    </tr>\n",
       "    <tr>\n",
       "      <th>GUERNSEY</th>\n",
       "      <td>5019.0</td>\n",
       "      <td>4982.0</td>\n",
       "      <td>-0.007372</td>\n",
       "    </tr>\n",
       "    <tr>\n",
       "      <th>PANAMA</th>\n",
       "      <td>1676.0</td>\n",
       "      <td>1477.0</td>\n",
       "      <td>-0.118735</td>\n",
       "    </tr>\n",
       "    <tr>\n",
       "      <th>GIBRALTAR</th>\n",
       "      <td>1379.0</td>\n",
       "      <td>1315.0</td>\n",
       "      <td>-0.046410</td>\n",
       "    </tr>\n",
       "    <tr>\n",
       "      <th>LUXEMBOURG</th>\n",
       "      <td>1058.0</td>\n",
       "      <td>1202.0</td>\n",
       "      <td>0.136106</td>\n",
       "    </tr>\n",
       "    <tr>\n",
       "      <th>SEYCHELLES</th>\n",
       "      <td>1031.0</td>\n",
       "      <td>1099.0</td>\n",
       "      <td>0.065955</td>\n",
       "    </tr>\n",
       "    <tr>\n",
       "      <th>HONG KONG</th>\n",
       "      <td>772.0</td>\n",
       "      <td>926.0</td>\n",
       "      <td>0.199482</td>\n",
       "    </tr>\n",
       "    <tr>\n",
       "      <th>BAHAMAS</th>\n",
       "      <td>943.0</td>\n",
       "      <td>885.0</td>\n",
       "      <td>-0.061506</td>\n",
       "    </tr>\n",
       "    <tr>\n",
       "      <th>CYPRUS</th>\n",
       "      <td>813.0</td>\n",
       "      <td>826.0</td>\n",
       "      <td>0.015990</td>\n",
       "    </tr>\n",
       "    <tr>\n",
       "      <th>IRELAND</th>\n",
       "      <td>882.0</td>\n",
       "      <td>800.0</td>\n",
       "      <td>-0.092971</td>\n",
       "    </tr>\n",
       "    <tr>\n",
       "      <th>CAYMAN ISLANDS</th>\n",
       "      <td>646.0</td>\n",
       "      <td>605.0</td>\n",
       "      <td>-0.063467</td>\n",
       "    </tr>\n",
       "    <tr>\n",
       "      <th>NETHERLANDS</th>\n",
       "      <td>466.0</td>\n",
       "      <td>476.0</td>\n",
       "      <td>0.021459</td>\n",
       "    </tr>\n",
       "    <tr>\n",
       "      <th>MAURITIUS</th>\n",
       "      <td>408.0</td>\n",
       "      <td>414.0</td>\n",
       "      <td>0.014706</td>\n",
       "    </tr>\n",
       "    <tr>\n",
       "      <th>SINGAPORE</th>\n",
       "      <td>331.0</td>\n",
       "      <td>401.0</td>\n",
       "      <td>0.211480</td>\n",
       "    </tr>\n",
       "    <tr>\n",
       "      <th>DELAWARE, U.S.A.</th>\n",
       "      <td>373.0</td>\n",
       "      <td>374.0</td>\n",
       "      <td>0.002681</td>\n",
       "    </tr>\n",
       "    <tr>\n",
       "      <th>BELIZE</th>\n",
       "      <td>368.0</td>\n",
       "      <td>360.0</td>\n",
       "      <td>-0.021739</td>\n",
       "    </tr>\n",
       "    <tr>\n",
       "      <th>LIBERIA</th>\n",
       "      <td>416.0</td>\n",
       "      <td>347.0</td>\n",
       "      <td>-0.165865</td>\n",
       "    </tr>\n",
       "    <tr>\n",
       "      <th>AUSTRALIA</th>\n",
       "      <td>318.0</td>\n",
       "      <td>345.0</td>\n",
       "      <td>0.084906</td>\n",
       "    </tr>\n",
       "  </tbody>\n",
       "</table>\n",
       "</div>"
      ],
      "text/plain": [
       "date_snapshot           2015-10-31 00:00:00  2017-10-01 00:00:00  pct_change\n",
       "Country_Incorporated                                                        \n",
       "BRITISH VIRGIN ISLANDS              16930.0              16507.0   -0.024985\n",
       "JERSEY                               9139.0               8676.0   -0.050662\n",
       "ISLE OF MAN                          6593.0               6281.0   -0.047323\n",
       "GUERNSEY                             5019.0               4982.0   -0.007372\n",
       "PANAMA                               1676.0               1477.0   -0.118735\n",
       "GIBRALTAR                            1379.0               1315.0   -0.046410\n",
       "LUXEMBOURG                           1058.0               1202.0    0.136106\n",
       "SEYCHELLES                           1031.0               1099.0    0.065955\n",
       "HONG KONG                             772.0                926.0    0.199482\n",
       "BAHAMAS                               943.0                885.0   -0.061506\n",
       "CYPRUS                                813.0                826.0    0.015990\n",
       "IRELAND                               882.0                800.0   -0.092971\n",
       "CAYMAN ISLANDS                        646.0                605.0   -0.063467\n",
       "NETHERLANDS                           466.0                476.0    0.021459\n",
       "MAURITIUS                             408.0                414.0    0.014706\n",
       "SINGAPORE                             331.0                401.0    0.211480\n",
       "DELAWARE, U.S.A.                      373.0                374.0    0.002681\n",
       "BELIZE                                368.0                360.0   -0.021739\n",
       "LIBERIA                               416.0                347.0   -0.165865\n",
       "AUSTRALIA                             318.0                345.0    0.084906"
      ]
     },
     "execution_count": 25,
     "metadata": {},
     "output_type": "execute_result"
    }
   ],
   "source": [
    "df = data.pivot_table(index='Country_Incorporated',columns='date_snapshot',values='unique_company',aggfunc=lambda x: len(x.unique()))\\\n",
    ".sort_values(by='2017-10-01 00:00:00',ascending=False)\n",
    "df['pct_change'] = df.pct_change(axis=1)['2017-10-01']\n",
    "df.head(20)"
   ]
  },
  {
   "cell_type": "markdown",
   "metadata": {
    "hideCode": false,
    "hidePrompt": false
   },
   "source": [
    "How many are owned by companies registered in the British Crown Dependencies and Overseas Territories? Has this changed since 2015?"
   ]
  },
  {
   "cell_type": "code",
   "execution_count": 26,
   "metadata": {
    "collapsed": true,
    "hideCode": false,
    "hidePrompt": false
   },
   "outputs": [],
   "source": [
    "list_of_cd_ot = [\n",
    "'Anguilla',\n",
    "'Bermuda',\n",
    "'British Antarctic Territory',\n",
    "'British Indian Ocean Territory',\n",
    "'British Virgin Islands',\n",
    "'Cayman Islands',\n",
    "'Sovereign Base Areas of Akrotiri and Dhekelia on Cyprus'\n",
    "'Falkland Islands',\n",
    "'Gibraltar',\n",
    "'Montserrat',\n",
    "'Pitcairn Islands',\n",
    "'Saint Helena and its dependencies (Ascension Island and Tristan da Cunha)',\n",
    "'South Georgia',\n",
    "'South Sandwich Islands',\n",
    "'Turks and Caicos Islands',\n",
    "]\n",
    "list_of_cd_ot = [x.upper() for x in list_of_cd_ot]"
   ]
  },
  {
   "cell_type": "code",
   "execution_count": 30,
   "metadata": {
    "hideCode": false,
    "hidePrompt": false
   },
   "outputs": [
    {
     "name": "stdout",
     "output_type": "stream",
     "text": [
      "ANGUILLA -> 585\n",
      "BERMUDA -> 1404\n",
      "BRITISH ANTARCTIC TERRITORY -> 0\n",
      "BRITISH INDIAN OCEAN TERRITORY -> 0\n",
      "BRITISH VIRGIN ISLANDS -> 45943\n",
      "CAYMAN ISLANDS -> 2401\n",
      "SOVEREIGN BASE AREAS OF AKROTIRI AND DHEKELIA ON CYPRUSFALKLAND ISLANDS -> 0\n",
      "GIBRALTAR -> 5114\n",
      "MONTSERRAT -> 0\n",
      "PITCAIRN ISLANDS -> 0\n",
      "SAINT HELENA AND ITS DEPENDENCIES (ASCENSION ISLAND AND TRISTAN DA CUNHA) -> 0\n",
      "SOUTH GEORGIA -> 0\n",
      "SOUTH SANDWICH ISLANDS -> 0\n",
      "TURKS AND CAICOS ISLANDS -> 490\n"
     ]
    }
   ],
   "source": [
    "for t in list_of_cd_ot:\n",
    "    print(t,'->',len(data[data.Country_Incorporated == t]))"
   ]
  },
  {
   "cell_type": "code",
   "execution_count": 42,
   "metadata": {
    "hideCode": false,
    "hidePrompt": false
   },
   "outputs": [
    {
     "data": {
      "text/plain": [
       "array([], dtype=object)"
      ]
     },
     "execution_count": 42,
     "metadata": {},
     "output_type": "execute_result"
    }
   ],
   "source": [
    "##Check some of the countries that return no results to see if other spellings\n",
    "data.Country_Incorporated = data.Country_Incorporated.fillna('')\n",
    "data[data.Country_Incorporated.str.contains('HELENA')].Country_Incorporated.unique()"
   ]
  },
  {
   "cell_type": "code",
   "execution_count": 57,
   "metadata": {
    "hideCode": false,
    "hidePrompt": false
   },
   "outputs": [
    {
     "data": {
      "text/html": [
       "<div>\n",
       "<style>\n",
       "    .dataframe thead tr:only-child th {\n",
       "        text-align: right;\n",
       "    }\n",
       "\n",
       "    .dataframe thead th {\n",
       "        text-align: left;\n",
       "    }\n",
       "\n",
       "    .dataframe tbody tr th {\n",
       "        vertical-align: top;\n",
       "    }\n",
       "</style>\n",
       "<table border=\"1\" class=\"dataframe\">\n",
       "  <thead>\n",
       "    <tr style=\"text-align: right;\">\n",
       "      <th></th>\n",
       "      <th>2015-10-31 00:00:00</th>\n",
       "      <th>2017-10-01 00:00:00</th>\n",
       "      <th>pct_change</th>\n",
       "    </tr>\n",
       "    <tr>\n",
       "      <th>Country_Incorporated</th>\n",
       "      <th></th>\n",
       "      <th></th>\n",
       "      <th></th>\n",
       "    </tr>\n",
       "  </thead>\n",
       "  <tbody>\n",
       "    <tr>\n",
       "      <th>ANGUILLA</th>\n",
       "      <td>232.0</td>\n",
       "      <td>235.0</td>\n",
       "      <td>0.012931</td>\n",
       "    </tr>\n",
       "    <tr>\n",
       "      <th>BERMUDA</th>\n",
       "      <td>259.0</td>\n",
       "      <td>260.0</td>\n",
       "      <td>0.003861</td>\n",
       "    </tr>\n",
       "    <tr>\n",
       "      <th>BRITISH ANTARCTIC TERRITORY</th>\n",
       "      <td>0.0</td>\n",
       "      <td>0.0</td>\n",
       "      <td>0.000000</td>\n",
       "    </tr>\n",
       "    <tr>\n",
       "      <th>BRITISH INDIAN OCEAN TERRITORY</th>\n",
       "      <td>0.0</td>\n",
       "      <td>0.0</td>\n",
       "      <td>0.000000</td>\n",
       "    </tr>\n",
       "    <tr>\n",
       "      <th>BRITISH VIRGIN ISLANDS</th>\n",
       "      <td>16930.0</td>\n",
       "      <td>16507.0</td>\n",
       "      <td>-0.024985</td>\n",
       "    </tr>\n",
       "    <tr>\n",
       "      <th>CAYMAN ISLANDS</th>\n",
       "      <td>646.0</td>\n",
       "      <td>605.0</td>\n",
       "      <td>-0.063467</td>\n",
       "    </tr>\n",
       "    <tr>\n",
       "      <th>GIBRALTAR</th>\n",
       "      <td>1379.0</td>\n",
       "      <td>1315.0</td>\n",
       "      <td>-0.046410</td>\n",
       "    </tr>\n",
       "    <tr>\n",
       "      <th>MONTSERRAT</th>\n",
       "      <td>0.0</td>\n",
       "      <td>0.0</td>\n",
       "      <td>0.000000</td>\n",
       "    </tr>\n",
       "    <tr>\n",
       "      <th>PITCAIRN ISLANDS</th>\n",
       "      <td>0.0</td>\n",
       "      <td>0.0</td>\n",
       "      <td>0.000000</td>\n",
       "    </tr>\n",
       "    <tr>\n",
       "      <th>SAINT HELENA AND ITS DEPENDENCIES (ASCENSION ISLAND AND TRISTAN DA CUNHA)</th>\n",
       "      <td>0.0</td>\n",
       "      <td>0.0</td>\n",
       "      <td>0.000000</td>\n",
       "    </tr>\n",
       "    <tr>\n",
       "      <th>SOUTH GEORGIA</th>\n",
       "      <td>0.0</td>\n",
       "      <td>0.0</td>\n",
       "      <td>0.000000</td>\n",
       "    </tr>\n",
       "    <tr>\n",
       "      <th>SOUTH SANDWICH ISLANDS</th>\n",
       "      <td>0.0</td>\n",
       "      <td>0.0</td>\n",
       "      <td>0.000000</td>\n",
       "    </tr>\n",
       "    <tr>\n",
       "      <th>SOVEREIGN BASE AREAS OF AKROTIRI AND DHEKELIA ON CYPRUSFALKLAND ISLANDS</th>\n",
       "      <td>0.0</td>\n",
       "      <td>0.0</td>\n",
       "      <td>0.000000</td>\n",
       "    </tr>\n",
       "    <tr>\n",
       "      <th>TURKS AND CAICOS ISLANDS</th>\n",
       "      <td>207.0</td>\n",
       "      <td>188.0</td>\n",
       "      <td>-0.091787</td>\n",
       "    </tr>\n",
       "  </tbody>\n",
       "</table>\n",
       "</div>"
      ],
      "text/plain": [
       "                                                    2015-10-31 00:00:00  \\\n",
       "Country_Incorporated                                                      \n",
       "ANGUILLA                                                          232.0   \n",
       "BERMUDA                                                           259.0   \n",
       "BRITISH ANTARCTIC TERRITORY                                         0.0   \n",
       "BRITISH INDIAN OCEAN TERRITORY                                      0.0   \n",
       "BRITISH VIRGIN ISLANDS                                          16930.0   \n",
       "CAYMAN ISLANDS                                                    646.0   \n",
       "GIBRALTAR                                                        1379.0   \n",
       "MONTSERRAT                                                          0.0   \n",
       "PITCAIRN ISLANDS                                                    0.0   \n",
       "SAINT HELENA AND ITS DEPENDENCIES (ASCENSION IS...                  0.0   \n",
       "SOUTH GEORGIA                                                       0.0   \n",
       "SOUTH SANDWICH ISLANDS                                              0.0   \n",
       "SOVEREIGN BASE AREAS OF AKROTIRI AND DHEKELIA O...                  0.0   \n",
       "TURKS AND CAICOS ISLANDS                                          207.0   \n",
       "\n",
       "                                                    2017-10-01 00:00:00  \\\n",
       "Country_Incorporated                                                      \n",
       "ANGUILLA                                                          235.0   \n",
       "BERMUDA                                                           260.0   \n",
       "BRITISH ANTARCTIC TERRITORY                                         0.0   \n",
       "BRITISH INDIAN OCEAN TERRITORY                                      0.0   \n",
       "BRITISH VIRGIN ISLANDS                                          16507.0   \n",
       "CAYMAN ISLANDS                                                    605.0   \n",
       "GIBRALTAR                                                        1315.0   \n",
       "MONTSERRAT                                                          0.0   \n",
       "PITCAIRN ISLANDS                                                    0.0   \n",
       "SAINT HELENA AND ITS DEPENDENCIES (ASCENSION IS...                  0.0   \n",
       "SOUTH GEORGIA                                                       0.0   \n",
       "SOUTH SANDWICH ISLANDS                                              0.0   \n",
       "SOVEREIGN BASE AREAS OF AKROTIRI AND DHEKELIA O...                  0.0   \n",
       "TURKS AND CAICOS ISLANDS                                          188.0   \n",
       "\n",
       "                                                    pct_change  \n",
       "Country_Incorporated                                            \n",
       "ANGUILLA                                              0.012931  \n",
       "BERMUDA                                               0.003861  \n",
       "BRITISH ANTARCTIC TERRITORY                           0.000000  \n",
       "BRITISH INDIAN OCEAN TERRITORY                        0.000000  \n",
       "BRITISH VIRGIN ISLANDS                               -0.024985  \n",
       "CAYMAN ISLANDS                                       -0.063467  \n",
       "GIBRALTAR                                            -0.046410  \n",
       "MONTSERRAT                                            0.000000  \n",
       "PITCAIRN ISLANDS                                      0.000000  \n",
       "SAINT HELENA AND ITS DEPENDENCIES (ASCENSION IS...    0.000000  \n",
       "SOUTH GEORGIA                                         0.000000  \n",
       "SOUTH SANDWICH ISLANDS                                0.000000  \n",
       "SOVEREIGN BASE AREAS OF AKROTIRI AND DHEKELIA O...    0.000000  \n",
       "TURKS AND CAICOS ISLANDS                             -0.091787  "
      ]
     },
     "execution_count": 57,
     "metadata": {},
     "output_type": "execute_result"
    }
   ],
   "source": [
    "df = data.pivot_table(index='Country_Incorporated',columns='date_snapshot',values='unique_company',aggfunc=lambda x: len(x.unique()))\\\n",
    ".sort_values(by='2017-10-01 00:00:00',ascending=False)\n",
    "df = df[df.index.isin(list_of_cd_ot)]\n",
    "df = pd.merge(pd.DataFrame(list_of_cd_ot,columns=['Country_Incorporated']).set_index('Country_Incorporated'),df,left_index=True,right_index=True,how='outer')\n",
    "df['pct_change'] = df.pct_change(axis=1)['2017-10-01']\n",
    "df.fillna(0)"
   ]
  },
  {
   "cell_type": "code",
   "execution_count": null,
   "metadata": {
    "collapsed": true,
    "hideCode": false,
    "hidePrompt": false
   },
   "outputs": [],
   "source": []
  }
 ],
 "metadata": {
  "hide_code_all_hidden": false,
  "kernelspec": {
   "display_name": "Python [default]",
   "language": "python",
   "name": "python3"
  },
  "language_info": {
   "codemirror_mode": {
    "name": "ipython",
    "version": 3
   },
   "file_extension": ".py",
   "mimetype": "text/x-python",
   "name": "python",
   "nbconvert_exporter": "python",
   "pygments_lexer": "ipython3",
   "version": "3.6.1"
  },
  "toc": {
   "colors": {
    "hover_highlight": "#DAA520",
    "navigate_num": "#000000",
    "navigate_text": "#333333",
    "running_highlight": "#FF0000",
    "selected_highlight": "#FFD700",
    "sidebar_border": "#EEEEEE",
    "wrapper_background": "#FFFFFF"
   },
   "moveMenuLeft": true,
   "nav_menu": {
    "height": "66px",
    "width": "252px"
   },
   "navigate_menu": true,
   "number_sections": true,
   "sideBar": true,
   "threshold": 4,
   "toc_cell": true,
   "toc_section_display": "block",
   "toc_window_display": false,
   "widenNotebook": false
  }
 },
 "nbformat": 4,
 "nbformat_minor": 2
}
