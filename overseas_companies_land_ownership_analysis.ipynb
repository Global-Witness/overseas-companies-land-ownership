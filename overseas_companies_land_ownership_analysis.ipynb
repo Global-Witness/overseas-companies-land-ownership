{
 "cells": [
  {
   "cell_type": "markdown",
   "metadata": {
    "hideCode": false,
    "hidePrompt": false,
    "toc": "true"
   },
   "source": [
    "# Table of Contents\n",
    " <p><div class=\"lev1 toc-item\"><a href=\"#Load-and-process\" data-toc-modified-id=\"Load-and-process-1\"><span class=\"toc-item-num\">1&nbsp;&nbsp;</span>Load and process</a></div><div class=\"lev2 toc-item\"><a href=\"#Output-a-clean-dataset-with-additional-fields\" data-toc-modified-id=\"Output-a-clean-dataset-with-additional-fields-11\"><span class=\"toc-item-num\">1.1&nbsp;&nbsp;</span>Output a clean dataset with additional fields</a></div><div class=\"lev1 toc-item\"><a href=\"#Data-dictionary\" data-toc-modified-id=\"Data-dictionary-2\"><span class=\"toc-item-num\">2&nbsp;&nbsp;</span>Data dictionary</a></div><div class=\"lev1 toc-item\"><a href=\"#Analysis\" data-toc-modified-id=\"Analysis-3\"><span class=\"toc-item-num\">3&nbsp;&nbsp;</span>Analysis</a></div><div class=\"lev3 toc-item\"><a href=\"#How-many-UK-properties-are-owned-by-overseas-companies-compared-to-2015?-How-many-titles-are-held-by-companies-incorporated-in-secrecy-jurisdictions-in-2015-compared-to-2017?-Secrecy-jurisdictions-are-defined-as-those-jurisdictions-that-have-a-secrecy-score-of-60-or-above-in-the-Tax-Justice-Network-2015-Financial-Screcy-Index.\" data-toc-modified-id=\"How-many-UK-properties-are-owned-by-overseas-companies-compared-to-2015?-How-many-titles-are-held-by-companies-incorporated-in-secrecy-jurisdictions-in-2015-compared-to-2017?-Secrecy-jurisdictions-are-defined-as-those-jurisdictions-that-have-a-secrecy-score-of-60-or-above-in-the-Tax-Justice-Network-2015-Financial-Screcy-Index.-301\"><span class=\"toc-item-num\">3.0.1&nbsp;&nbsp;</span>How many UK properties are owned by overseas companies compared to 2015? How many titles are held by companies incorporated in secrecy jurisdictions in 2015 compared to 2017? Secrecy jurisdictions are defined as those jurisdictions that have a secrecy score of 60 or above in the Tax Justice Network 2015 Financial Screcy Index.</a></div><div class=\"lev3 toc-item\"><a href=\"#What’s-the-total-amount?-Have-these-figures-increased-since-July-2015?\" data-toc-modified-id=\"What’s-the-total-amount?-Have-these-figures-increased-since-July-2015?-302\"><span class=\"toc-item-num\">3.0.2&nbsp;&nbsp;</span>What’s the total amount? Have these figures increased since July 2015?</a></div><div class=\"lev3 toc-item\"><a href=\"#Number-of-properties-worth-over-£1,000,000\" data-toc-modified-id=\"Number-of-properties-worth-over-£1,000,000-303\"><span class=\"toc-item-num\">3.0.3&nbsp;&nbsp;</span>Number of properties worth over £1,000,000</a></div><div class=\"lev3 toc-item\"><a href=\"#How-many-properties-owned-by-companies-incorproated-in-secrecy-jurisdiction-are-in-London?-Has-this-increased-since-2015?\" data-toc-modified-id=\"How-many-properties-owned-by-companies-incorproated-in-secrecy-jurisdiction-are-in-London?-Has-this-increased-since-2015?-304\"><span class=\"toc-item-num\">3.0.4&nbsp;&nbsp;</span>How many properties owned by companies incorproated in secrecy jurisdiction are in London? Has this increased since 2015?</a></div><div class=\"lev3 toc-item\"><a href=\"#Which-areas-of-England-and-Wales-have-the-most-properties-owned-by-companies-incorporated-in-secrecy-jurisdictions?-Has-this-changed-since-2015?\" data-toc-modified-id=\"Which-areas-of-England-and-Wales-have-the-most-properties-owned-by-companies-incorporated-in-secrecy-jurisdictions?-Has-this-changed-since-2015?-305\"><span class=\"toc-item-num\">3.0.5&nbsp;&nbsp;</span>Which areas of England and Wales have the most properties owned by companies incorporated in secrecy jurisdictions? Has this changed since 2015?</a></div><div class=\"lev3 toc-item\"><a href=\"#Which-political-constituencies-have-the-highest-number-of-buildings-owned-by-anonymous-companies-in-2017?\" data-toc-modified-id=\"Which-political-constituencies-have-the-highest-number-of-buildings-owned-by-anonymous-companies-in-2017?-306\"><span class=\"toc-item-num\">3.0.6&nbsp;&nbsp;</span>Which political constituencies have the highest number of buildings owned by anonymous companies in 2017?</a></div><div class=\"lev3 toc-item\"><a href=\"#How-many-properties-owned-by-companies-incoporated-in-secrecy-jurisdictions-are-in-Kensington-&amp;-Chelsea-/-City-of-Westminster?-Has-this-increased-since-2015?\" data-toc-modified-id=\"How-many-properties-owned-by-companies-incoporated-in-secrecy-jurisdictions-are-in-Kensington-&amp;-Chelsea-/-City-of-Westminster?-Has-this-increased-since-2015?-307\"><span class=\"toc-item-num\">3.0.7&nbsp;&nbsp;</span>How many properties owned by companies incoporated in secrecy jurisdictions are in Kensington &amp; Chelsea / City of Westminster? Has this increased since 2015?</a></div><div class=\"lev3 toc-item\"><a href=\"#How-many-properties-owned-by-companies-incorporated-in-secrecy-jurisdictions-by-London-borough\" data-toc-modified-id=\"How-many-properties-owned-by-companies-incorporated-in-secrecy-jurisdictions-by-London-borough-308\"><span class=\"toc-item-num\">3.0.8&nbsp;&nbsp;</span>How many properties owned by companies incorporated in secrecy jurisdictions by London borough</a></div><div class=\"lev3 toc-item\"><a href=\"#What-proportion-of-overseas-owned-properties-in-London-are-owned-by-companies-incorproated-in-secrecy-jurisdictions?\" data-toc-modified-id=\"What-proportion-of-overseas-owned-properties-in-London-are-owned-by-companies-incorproated-in-secrecy-jurisdictions?-309\"><span class=\"toc-item-num\">3.0.9&nbsp;&nbsp;</span>What proportion of overseas owned properties in London are owned by companies incorproated in secrecy jurisdictions?</a></div><div class=\"lev3 toc-item\"><a href=\"#What-is-the-breakdown-of-company-registration-by-jurisdiction?-How-does-this-compare-to-2015?\" data-toc-modified-id=\"What-is-the-breakdown-of-company-registration-by-jurisdiction?-How-does-this-compare-to-2015?-3010\"><span class=\"toc-item-num\">3.0.10&nbsp;&nbsp;</span>What is the breakdown of company registration by jurisdiction? How does this compare to 2015?</a></div><div class=\"lev3 toc-item\"><a href=\"#How-many-are-owned-by-companies-registered-in-the-British-Crown-Dependencies-and-Overseas-Territories?-Has-this-changed-since-2015?\" data-toc-modified-id=\"How-many-are-owned-by-companies-registered-in-the-British-Crown-Dependencies-and-Overseas-Territories?-Has-this-changed-since-2015?-3011\"><span class=\"toc-item-num\">3.0.11&nbsp;&nbsp;</span>How many are owned by companies registered in the British Crown Dependencies and Overseas Territories? Has this changed since 2015?</a></div><div class=\"lev3 toc-item\"><a href=\"#Which-areas-saw-the-most-new-titles-in-the-period-2015-2017?\" data-toc-modified-id=\"Which-areas-saw-the-most-new-titles-in-the-period-2015-2017?-3012\"><span class=\"toc-item-num\">3.0.12&nbsp;&nbsp;</span>Which areas saw the most new titles in the period 2015-2017?</a></div><div class=\"lev3 toc-item\"><a href=\"#Which-companies-purchased-the-most-properties-in-the-period-2015-to-2017?\" data-toc-modified-id=\"Which-companies-purchased-the-most-properties-in-the-period-2015-to-2017?-3013\"><span class=\"toc-item-num\">3.0.13&nbsp;&nbsp;</span>Which companies purchased the most properties in the period 2015 to 2017?</a></div><div class=\"lev3 toc-item\"><a href=\"####-How-many-new-properties-(since-2015)-owned-by-Abacus-Land?\" data-toc-modified-id=\"###-How-many-new-properties-(since-2015)-owned-by-Abacus-Land?-3014\"><span class=\"toc-item-num\">3.0.14&nbsp;&nbsp;</span>### How many new properties (since 2015) owned by Abacus Land?</a></div><div class=\"lev3 toc-item\"><a href=\"#How-many-new-properties-(since-2015)-are-owned-by-Adriatic?\" data-toc-modified-id=\"How-many-new-properties-(since-2015)-are-owned-by-Adriatic?-3015\"><span class=\"toc-item-num\">3.0.15&nbsp;&nbsp;</span>How many new properties (since 2015) are owned by Adriatic?</a></div><div class=\"lev3 toc-item\"><a href=\"#How-many-new-properties-(since-2015)-are-owned-by-Adriatic-and-Abacus-Land-combined?\" data-toc-modified-id=\"How-many-new-properties-(since-2015)-are-owned-by-Adriatic-and-Abacus-Land-combined?-3016\"><span class=\"toc-item-num\">3.0.16&nbsp;&nbsp;</span>How many new properties (since 2015) are owned by Adriatic and Abacus Land combined?</a></div><div class=\"lev3 toc-item\"><a href=\"#How-many-secrecy-jurisdiction-titles-have-been-bought-and-sold-between-2015-and-2017?\" data-toc-modified-id=\"How-many-secrecy-jurisdiction-titles-have-been-bought-and-sold-between-2015-and-2017?-3017\"><span class=\"toc-item-num\">3.0.17&nbsp;&nbsp;</span>How many secrecy jurisdiction titles have been bought and sold between 2015 and 2017?</a></div><div class=\"lev3 toc-item\"><a href=\"#Proportion-of-new-titles-not-sold-at-full-market-value\" data-toc-modified-id=\"Proportion-of-new-titles-not-sold-at-full-market-value-3018\"><span class=\"toc-item-num\">3.0.18&nbsp;&nbsp;</span>Proportion of new titles not sold at full market value</a></div>"
   ]
  },
  {
   "cell_type": "markdown",
   "metadata": {
    "hideCode": false,
    "hidePrompt": false
   },
   "source": [
    "# Load and process"
   ]
  },
  {
   "cell_type": "code",
   "execution_count": 85,
   "metadata": {
    "collapsed": true,
    "hideCode": false,
    "hidePrompt": false
   },
   "outputs": [],
   "source": [
    "##Load libraries\n",
    "import pandas as pd\n",
    "import geopandas as gp\n",
    "import requests as r\n",
    "import missingno as mgno\n",
    "import re\n",
    "import matplotlib\n",
    "import numpy as np\n",
    "import seaborn as sns\n",
    "from shapely.geometry import Point"
   ]
  },
  {
   "cell_type": "code",
   "execution_count": 86,
   "metadata": {
    "collapsed": true,
    "hideCode": false,
    "hidePrompt": false
   },
   "outputs": [],
   "source": [
    "##Set styling for numbers (thousand commans, no scientific notaiton etc) and charts\n",
    "pd.options.display.float_format = '{:20,.2f}'.format\n",
    "matplotlib.style.use('ggplot')\n",
    "%matplotlib inline"
   ]
  },
  {
   "cell_type": "code",
   "execution_count": 87,
   "metadata": {
    "collapsed": true,
    "hideCode": false,
    "hidePrompt": false
   },
   "outputs": [],
   "source": [
    "##Load October 2015 data\n",
    "data_2015 = pd.read_csv('data/oct_2015_ov_data.csv',low_memory=False)\n",
    "##Load October 2017 data\n",
    "data_2017 = pd.read_sql('data',con='sqlite:///data/oct_2017_ov_data_product.sqlite')\n",
    "##Add in snapshot date\n",
    "data_2015['date_snapshot'] = pd.to_datetime('2015-10-31')\n",
    "data_2017['date_snapshot'] = pd.to_datetime('2017-10-1')\n",
    "##Combine files into a single dataframe\n",
    "data = pd.concat([data_2015,data_2017])\n",
    "##Exclude last row which appears to be a summary\n",
    "data = data[:-1]"
   ]
  },
  {
   "cell_type": "code",
   "execution_count": 88,
   "metadata": {
    "hideCode": false,
    "hidePrompt": false
   },
   "outputs": [
    {
     "data": {
      "text/html": [
       "<div>\n",
       "<style>\n",
       "    .dataframe thead tr:only-child th {\n",
       "        text-align: right;\n",
       "    }\n",
       "\n",
       "    .dataframe thead th {\n",
       "        text-align: left;\n",
       "    }\n",
       "\n",
       "    .dataframe tbody tr th {\n",
       "        vertical-align: top;\n",
       "    }\n",
       "</style>\n",
       "<table border=\"1\" class=\"dataframe\">\n",
       "  <thead>\n",
       "    <tr style=\"text-align: right;\">\n",
       "      <th></th>\n",
       "      <th>Title_Number</th>\n",
       "      <th>Tenure</th>\n",
       "      <th>Property_Address</th>\n",
       "      <th>Price_Paid</th>\n",
       "      <th>District</th>\n",
       "      <th>County</th>\n",
       "      <th>Region</th>\n",
       "      <th>Postcode</th>\n",
       "      <th>Proprietor_Name_1</th>\n",
       "      <th>Company_Registration_No_1</th>\n",
       "      <th>...</th>\n",
       "      <th>Company_Registration_No_4</th>\n",
       "      <th>Proprietorship_4</th>\n",
       "      <th>Country_Incorporated_4</th>\n",
       "      <th>Proprietor_4_Address_1</th>\n",
       "      <th>Proprietor_4_Address_2</th>\n",
       "      <th>Proprietor_4_Address_3</th>\n",
       "      <th>Date_Proprietor_Added</th>\n",
       "      <th>Additional_Proprietor_Indicator</th>\n",
       "      <th>Multiple_Address_Indicator</th>\n",
       "      <th>date_snapshot</th>\n",
       "    </tr>\n",
       "  </thead>\n",
       "  <tbody>\n",
       "    <tr>\n",
       "      <th>99214</th>\n",
       "      <td>AGL401155</td>\n",
       "      <td>Leasehold</td>\n",
       "      <td>Apartment 2101, Wiverton Tower, 4 New Drum Str...</td>\n",
       "      <td>nan</td>\n",
       "      <td>TOWER HAMLETS</td>\n",
       "      <td>GREATER LONDON</td>\n",
       "      <td>GREATER LONDON</td>\n",
       "      <td>E1 7AT</td>\n",
       "      <td>GS ALDGATE TRUSTEE 1 LIMITED</td>\n",
       "      <td>None</td>\n",
       "      <td>...</td>\n",
       "      <td>nan</td>\n",
       "      <td>None</td>\n",
       "      <td>None</td>\n",
       "      <td>None</td>\n",
       "      <td>None</td>\n",
       "      <td>nan</td>\n",
       "      <td>16-01-2017</td>\n",
       "      <td>N</td>\n",
       "      <td>N</td>\n",
       "      <td>2017-10-01</td>\n",
       "    </tr>\n",
       "    <tr>\n",
       "      <th>99215</th>\n",
       "      <td>AGL401163</td>\n",
       "      <td>Leasehold</td>\n",
       "      <td>Apartment 2207, Wiverton Tower, 4 New Drum Str...</td>\n",
       "      <td>nan</td>\n",
       "      <td>TOWER HAMLETS</td>\n",
       "      <td>GREATER LONDON</td>\n",
       "      <td>GREATER LONDON</td>\n",
       "      <td>E1 7AT</td>\n",
       "      <td>GS ALDGATE TRUSTEE 1 LIMITED</td>\n",
       "      <td>None</td>\n",
       "      <td>...</td>\n",
       "      <td>nan</td>\n",
       "      <td>None</td>\n",
       "      <td>None</td>\n",
       "      <td>None</td>\n",
       "      <td>None</td>\n",
       "      <td>nan</td>\n",
       "      <td>16-01-2017</td>\n",
       "      <td>N</td>\n",
       "      <td>N</td>\n",
       "      <td>2017-10-01</td>\n",
       "    </tr>\n",
       "    <tr>\n",
       "      <th>99216</th>\n",
       "      <td>AGL402005</td>\n",
       "      <td>Leasehold</td>\n",
       "      <td>Flat 41, Goldhawk House, 10 Beaufort Square, L...</td>\n",
       "      <td>nan</td>\n",
       "      <td>BARNET</td>\n",
       "      <td>GREATER LONDON</td>\n",
       "      <td>GREATER LONDON</td>\n",
       "      <td>NW9 5SQ</td>\n",
       "      <td>NOMURO NOMINEES LIMITED</td>\n",
       "      <td>None</td>\n",
       "      <td>...</td>\n",
       "      <td>nan</td>\n",
       "      <td>None</td>\n",
       "      <td>None</td>\n",
       "      <td>None</td>\n",
       "      <td>None</td>\n",
       "      <td>nan</td>\n",
       "      <td>24-01-2017</td>\n",
       "      <td>N</td>\n",
       "      <td>N</td>\n",
       "      <td>2017-10-01</td>\n",
       "    </tr>\n",
       "    <tr>\n",
       "      <th>99217</th>\n",
       "      <td>AGL402840</td>\n",
       "      <td>Leasehold</td>\n",
       "      <td>11, Birkdale House, 18 St Annes Street, London...</td>\n",
       "      <td>390,000.00</td>\n",
       "      <td>TOWER HAMLETS</td>\n",
       "      <td>GREATER LONDON</td>\n",
       "      <td>GREATER LONDON</td>\n",
       "      <td>E14 7QB</td>\n",
       "      <td>HAPPY GOAL DEVELOPMENT LTD</td>\n",
       "      <td>None</td>\n",
       "      <td>...</td>\n",
       "      <td>nan</td>\n",
       "      <td>None</td>\n",
       "      <td>None</td>\n",
       "      <td>None</td>\n",
       "      <td>None</td>\n",
       "      <td>nan</td>\n",
       "      <td>02-02-2017</td>\n",
       "      <td>N</td>\n",
       "      <td>N</td>\n",
       "      <td>2017-10-01</td>\n",
       "    </tr>\n",
       "    <tr>\n",
       "      <th>99218</th>\n",
       "      <td>AGL403429</td>\n",
       "      <td>Leasehold</td>\n",
       "      <td>Block A, Victoria Wharf, Palmers Road, London ...</td>\n",
       "      <td>nan</td>\n",
       "      <td>TOWER HAMLETS</td>\n",
       "      <td>GREATER LONDON</td>\n",
       "      <td>GREATER LONDON</td>\n",
       "      <td>E2 0SF</td>\n",
       "      <td>PINEHILL CAPITAL S.A.</td>\n",
       "      <td>None</td>\n",
       "      <td>...</td>\n",
       "      <td>nan</td>\n",
       "      <td>None</td>\n",
       "      <td>None</td>\n",
       "      <td>None</td>\n",
       "      <td>None</td>\n",
       "      <td>nan</td>\n",
       "      <td>07-02-2017</td>\n",
       "      <td>N</td>\n",
       "      <td>N</td>\n",
       "      <td>2017-10-01</td>\n",
       "    </tr>\n",
       "  </tbody>\n",
       "</table>\n",
       "<p>5 rows × 40 columns</p>\n",
       "</div>"
      ],
      "text/plain": [
       "      Title_Number     Tenure  \\\n",
       "99214    AGL401155  Leasehold   \n",
       "99215    AGL401163  Leasehold   \n",
       "99216    AGL402005  Leasehold   \n",
       "99217    AGL402840  Leasehold   \n",
       "99218    AGL403429  Leasehold   \n",
       "\n",
       "                                        Property_Address           Price_Paid  \\\n",
       "99214  Apartment 2101, Wiverton Tower, 4 New Drum Str...                  nan   \n",
       "99215  Apartment 2207, Wiverton Tower, 4 New Drum Str...                  nan   \n",
       "99216  Flat 41, Goldhawk House, 10 Beaufort Square, L...                  nan   \n",
       "99217  11, Birkdale House, 18 St Annes Street, London...           390,000.00   \n",
       "99218  Block A, Victoria Wharf, Palmers Road, London ...                  nan   \n",
       "\n",
       "            District          County          Region Postcode  \\\n",
       "99214  TOWER HAMLETS  GREATER LONDON  GREATER LONDON   E1 7AT   \n",
       "99215  TOWER HAMLETS  GREATER LONDON  GREATER LONDON   E1 7AT   \n",
       "99216         BARNET  GREATER LONDON  GREATER LONDON  NW9 5SQ   \n",
       "99217  TOWER HAMLETS  GREATER LONDON  GREATER LONDON  E14 7QB   \n",
       "99218  TOWER HAMLETS  GREATER LONDON  GREATER LONDON   E2 0SF   \n",
       "\n",
       "                  Proprietor_Name_1 Company_Registration_No_1      ...       \\\n",
       "99214  GS ALDGATE TRUSTEE 1 LIMITED                      None      ...        \n",
       "99215  GS ALDGATE TRUSTEE 1 LIMITED                      None      ...        \n",
       "99216       NOMURO NOMINEES LIMITED                      None      ...        \n",
       "99217    HAPPY GOAL DEVELOPMENT LTD                      None      ...        \n",
       "99218         PINEHILL CAPITAL S.A.                      None      ...        \n",
       "\n",
       "      Company_Registration_No_4 Proprietorship_4 Country_Incorporated_4  \\\n",
       "99214                       nan             None                   None   \n",
       "99215                       nan             None                   None   \n",
       "99216                       nan             None                   None   \n",
       "99217                       nan             None                   None   \n",
       "99218                       nan             None                   None   \n",
       "\n",
       "      Proprietor_4_Address_1 Proprietor_4_Address_2 Proprietor_4_Address_3  \\\n",
       "99214                   None                   None                    nan   \n",
       "99215                   None                   None                    nan   \n",
       "99216                   None                   None                    nan   \n",
       "99217                   None                   None                    nan   \n",
       "99218                   None                   None                    nan   \n",
       "\n",
       "      Date_Proprietor_Added Additional_Proprietor_Indicator  \\\n",
       "99214            16-01-2017                               N   \n",
       "99215            16-01-2017                               N   \n",
       "99216            24-01-2017                               N   \n",
       "99217            02-02-2017                               N   \n",
       "99218            07-02-2017                               N   \n",
       "\n",
       "      Multiple_Address_Indicator date_snapshot  \n",
       "99214                          N    2017-10-01  \n",
       "99215                          N    2017-10-01  \n",
       "99216                          N    2017-10-01  \n",
       "99217                          N    2017-10-01  \n",
       "99218                          N    2017-10-01  \n",
       "\n",
       "[5 rows x 40 columns]"
      ]
     },
     "execution_count": 88,
     "metadata": {},
     "output_type": "execute_result"
    }
   ],
   "source": [
    "##Inspect first few rows of data\n",
    "data.tail(5)"
   ]
  },
  {
   "cell_type": "code",
   "execution_count": 89,
   "metadata": {
    "collapsed": true,
    "hideCode": false,
    "hidePrompt": false
   },
   "outputs": [],
   "source": [
    "##Create stacked version of original table which is better for counts\n",
    "data.columns = ['Title_Number', 'Tenure', 'Property_Address', 'Price_Paid', 'District',\\\n",
    "       'County', 'Region', 'Postcode', '1-Proprietor_Name',\\\n",
    "       '1-Company_Registration', '1-Proprietorship',\\\n",
    "       '1-Country_Incorporated', '1-Proprietor_Address_1',\\\n",
    "       '1-Proprietor_Address_2', '1-Proprietor_Address_3', '2-Proprietor_Name',\\\n",
    "       '2-Company_Registration', '2-Proprietorship',\\\n",
    "       '2-Country_Incorporated', '2-Proprietor_Address_1',\\\n",
    "       '2-Proprietor_Address_2', '2-Proprietor_Address_3', '3-Proprietor_Name',\\\n",
    "       '3-Company_Registration', '3-Proprietorship',\\\n",
    "       '3-Country_Incorporated', '3-Proprietor_Address_1',\\\n",
    "       '3-Proprietor_Address_2', '3-Proprietor_Address_3', '4-Proprietor_Name',\\\n",
    "       '4-Company_Registration', '4-Proprietorship',\\\n",
    "       '4-Country_Incorporated', '4-Proprietor_Address_1',\\\n",
    "       '4-Proprietor_Address_2', '4-Proprietor_Address_3',\\\n",
    "       'Date_Proprietor_Added', 'Additional_Proprietor_Indicator',\\\n",
    "       'Multiple_Address_Indicator','date_snapshot']\n",
    "data.set_index(['Title_Number','Tenure', 'Property_Address', 'Price_Paid', 'District',\\\n",
    "       'County', 'Region', 'Postcode','Date_Proprietor_Added', 'Additional_Proprietor_Indicator',\\\n",
    "       'Multiple_Address_Indicator','date_snapshot'], inplace=True)\n",
    "tuples = tuple(data.columns.str.split(\"-\"))\n",
    "tuples = [x[::-1] for x in tuples]\n",
    "data.columns = pd.MultiIndex.from_tuples(tuples)\n",
    "data = data.stack(level = 1)\n",
    "##data = data.reset_index(level = 1, drop = True)\n",
    "data = data.reset_index()\n",
    "data.rename(columns={'level_12': 'Proprietor_Number'},inplace=True)\n",
    "data.set_index('date_snapshot',inplace=True)"
   ]
  },
  {
   "cell_type": "code",
   "execution_count": 90,
   "metadata": {
    "collapsed": true,
    "hideCode": false,
    "hidePrompt": false
   },
   "outputs": [],
   "source": [
    "##Create a pseudo unique column for companies which is a combination of first line of address and name. May\n",
    "##want to bottom this out a bit more\n",
    "data['Proprietor_Address_1'] = data['Proprietor_Address_1'].fillna('')\n",
    "data['Proprietor_Name'] = data['Proprietor_Name'].fillna('')\n",
    "data['unique_company'] = data['Proprietor_Name'] + data['Proprietor_Address_1']"
   ]
  },
  {
   "cell_type": "code",
   "execution_count": 91,
   "metadata": {
    "hideCode": false,
    "hidePrompt": false
   },
   "outputs": [
    {
     "name": "stdout",
     "output_type": "stream",
     "text": [
      "(208353, 20)\n"
     ]
    }
   ],
   "source": [
    "##Size of dataset\n",
    "print(data.shape)"
   ]
  },
  {
   "cell_type": "code",
   "execution_count": 92,
   "metadata": {
    "hideCode": false,
    "hidePrompt": false
   },
   "outputs": [
    {
     "data": {
      "image/png": "[encoded data removed]",
      "text/plain": [
       "<matplotlib.figure.Figure at 0x12641a240>"
      ]
     },
     "metadata": {},
     "output_type": "display_data"
    }
   ],
   "source": [
    "##Look at how well filled out fields are\n",
    "mgno.matrix(data_2015)"
   ]
  },
  {
   "cell_type": "code",
   "execution_count": 93,
   "metadata": {
    "hideCode": false,
    "hidePrompt": false,
    "scrolled": true
   },
   "outputs": [
    {
     "data": {
      "image/png": "[encoded data removed]",
      "text/plain": [
       "<matplotlib.figure.Figure at 0x1357ccc50>"
      ]
     },
     "metadata": {},
     "output_type": "display_data"
    }
   ],
   "source": [
    "mgno.bar(data)"
   ]
  },
  {
   "cell_type": "code",
   "execution_count": 94,
   "metadata": {
    "hideCode": false,
    "hidePrompt": false
   },
   "outputs": [
    {
     "data": {
      "image/png": "[encoded data removed]",
      "text/plain": [
       "<matplotlib.figure.Figure at 0x137263128>"
      ]
     },
     "metadata": {},
     "output_type": "display_data"
    }
   ],
   "source": [
    "##Correlation matrix for filled values\n",
    "mgno.heatmap(data)"
   ]
  },
  {
   "cell_type": "code",
   "execution_count": 95,
   "metadata": {
    "collapsed": true,
    "hideCode": false,
    "hidePrompt": false
   },
   "outputs": [],
   "source": [
    "##Format dates that proprietor was added\n",
    "data['Date_Proprietor_Added'] = pd.to_datetime(data['Date_Proprietor_Added'])"
   ]
  },
  {
   "cell_type": "code",
   "execution_count": 96,
   "metadata": {
    "hideCode": false,
    "hidePrompt": false
   },
   "outputs": [
    {
     "data": {
      "text/plain": [
       "<matplotlib.axes._subplots.AxesSubplot at 0x13a5d6320>"
      ]
     },
     "execution_count": 96,
     "metadata": {},
     "output_type": "execute_result"
    },
    {
     "data": {
      "image/png": "[encoded data removed]",
      "text/plain": [
       "<matplotlib.figure.Figure at 0x141a73b00>"
      ]
     },
     "metadata": {},
     "output_type": "display_data"
    }
   ],
   "source": [
    "data['Date_Proprietor_Added'].value_counts().plot(figsize=(20,10))"
   ]
  },
  {
   "cell_type": "code",
   "execution_count": 97,
   "metadata": {
    "collapsed": true,
    "hideCode": false,
    "hidePrompt": false
   },
   "outputs": [],
   "source": [
    "##Load in data on secrecy jurisdictions, normalize and take average of secrecy score from Financial Secrecy Index 2015\n",
    "secrecy_index = pd.read_csv('data/financial_secrecy_index_2015.csv')\n",
    "secrecy_index['normalized_jurisdiction'] = secrecy_index.Jurisdiction.str.upper()\n",
    "def derive_mean_or_leave_score(row):\n",
    "    pat = re.compile('.*(\\d\\d)-(\\d\\d).*')\n",
    "    if ')' in row['Secrecy Score']:\n",
    "        return int(re.search(pat,row['Secrecy Score']).group(1)) + int(re.search(pat,row['Secrecy Score']).group(2)) / 2\n",
    "    else:\n",
    "        return row['Secrecy Score']\n",
    "secrecy_index['secret_score_mean'] = secrecy_index.apply(derive_mean_or_leave_score,axis=1)\n",
    "secrecy_index.secret_score_mean = secrecy_index.secret_score_mean.astype(float)\n",
    "secret_jurisdictions = secrecy_index[secrecy_index['secret_score_mean'] >= 60]['normalized_jurisdiction'].tolist()\n",
    "##Add in all USA states\n",
    "data.Country_Incorporated = data.Country_Incorporated.fillna('')\n",
    "us_secret = data[data.Country_Incorporated.str.contains('U.S.A')].Country_Incorporated.unique().tolist()\n",
    "secret_jurisdictions.extend(us_secret)\n",
    "##Normalziation of Country Incorproated field\n",
    "data['incorporated_normalized'] = data.Country_Incorporated\n",
    "data.incorporated_normalized = data.incorporated_normalized.str.strip()\n",
    "data.incorporated_normalized = data.incorporated_normalized.str.replace('ST KITTS AND NEVIS','ST KITTS & NEVIS')\n",
    "data.incorporated_normalized = data.incorporated_normalized.str.replace('BELIZ$','BELIZE')\n",
    "data.incorporated_normalized = data.incorporated_normalized.str.replace('TURKS AND CAICOS ISLANDS','TURKS & CAICOS ISLANDS')\n",
    "data.incorporated_normalized = data.incorporated_normalized.str.replace('DUBAI','UNITED ARAB EMIRATES (DUBAI)')\n",
    "data.incorporated_normalized = data.incorporated_normalized.str.replace('ILSE OF MAN','ISLE OF MAN')\n",
    "data.incorporated_normalized = data.incorporated_normalized.str.replace('REPUBLIC OF SEYCHELLE','SEYCHELLES')\n",
    "data.incorporated_normalized = data.incorporated_normalized.str.replace('THE SYECHELLES','SEYCHELLES')\n",
    "data.incorporated_normalized = data.incorporated_normalized.str.replace('NORTH CYPRUS','CYPRUS')\n",
    "data.incorporated_normalized = data.incorporated_normalized.str.replace('PAMANA','PANAMA')\n",
    "##Add this on to data\n",
    "data['secrecy_jurisdiction'] = data.incorporated_normalized.apply(lambda x: True if x in secret_jurisdictions else False)"
   ]
  },
  {
   "cell_type": "code",
   "execution_count": 98,
   "metadata": {
    "hideCode": false,
    "hidePrompt": false
   },
   "outputs": [
    {
     "data": {
      "text/plain": [
       "array(['CANADA', 'LUXEMBOURG', 'NETHERLANDS', 'DUTCH ANTILLES',\n",
       "       'ST VINCENT AND GRENADINES', 'IRELAND', 'UNITED ARAB EMIRATES',\n",
       "       'GERMANY', 'CHANNEL ISLANDS', 'DENMARK', 'CYPRUS', 'MALTA',\n",
       "       'PORTUGAL', 'LABUAN, MALAYSIA', 'KOREA', 'EGYPT', 'KUWAIT',\n",
       "       'FRANCE', 'SPAIN', 'BELGIUM', 'ITALY', 'NIGERIA',\n",
       "       'THE VIRGIN ISLANDS', 'MADEIRA', '387503', 'NEW ZEALAND', 'NIUE',\n",
       "       'SWEDEN', 'RAS AL KHAIMAH FREE TRADE ZONE', 'QATAR', 'JORDAN',\n",
       "       'AUSTRIA', 'GREECE', 'ALDERNEY', 'INDIA', 'AUSTRALIA', 'ISRAEL',\n",
       "       'JAPAN', '1762155', 'MALAYSIA', 'BRAZIL', 'REPUBLIC OF KOREA',\n",
       "       'INDONESIA', 'SOUTH KOREA', 'CZECH REPUBLIC', 'SOUTH AFRICA',\n",
       "       'CHINA', 'OMAN', 'HASHEMITE KINGDOM OF JORDAN', 'NORWAY',\n",
       "       'THAILAND', 'SRI LANKA', 'VIETNAM', 'RAS AL KHAIMAH', 'ABU DHABI',\n",
       "       'ETHIOPIA', 'SWAZILAND', 'CHONBURI', 'ALBERTA, CANADA',\n",
       "       'THE WEST INDIES', 'ONTARIO, CANADA', 'NIUE ISLAND',\n",
       "       'THE REPUBLIC OF KOREA',\n",
       "       \"THE SOCIALIST PEOPLE'S LIBYAN ARAB JAMAHIRIYA\", 'ROVEREDO GR',\n",
       "       'ANTIGUA AND BARBUDA', 'HEILIGKREUZ',\n",
       "       'THE HASHEMITE KINGDOM OF JORDAN', 'FINLAND', 'CHILE', 'BRUNEI',\n",
       "       'NEW BRUNSWICK, CANADA', 'KENYA', 'FALKLAND ISLANDS',\n",
       "       'BRITISH COLUMBIA, CANADA', '1005646', '101634', '2875892',\n",
       "       '113166C', '125159', '66528', 'NOVA SCOTIA, CANADA', '63605',\n",
       "       'TRINIDAD AND TOBAGO', '02366665', 'OC389182', 'OC373223',\n",
       "       'LITHUANIA', 'ESTONIA', 'AJMAN FREE ZONE', 'IRELANND', 'IRAQ',\n",
       "       'IRISH REPUBLIC', 'THE EUROPEAN UNION', 'ZIMBABWE', 'BANGLADESH',\n",
       "       'OC343252', '1370007', 'PART VII OF THE CHARITIES ACT 1993',\n",
       "       '89146', '229088', 'ICELAND', 'BULGARIA', 'BAHAMES', 'CROATIA',\n",
       "       '154738502', 'JARSEY', 'MEXICO', 'IP18077R',\n",
       "       'FUJAIRAH MEDIA FREE ZONE', 'THE ISLAND OF NIUE',\n",
       "       'IRELAND, CO. REGN. NO. 374321', 'ANGUILIA', '7550', '49716',\n",
       "       'POLAND', '109688', 'IRELEND', 'JEBEL ALI FREE ZONE', 'LIBYA',\n",
       "       '1654979', '55311', 'FAROE ISLANDS', '7366', '32203', '02127156',\n",
       "       'MACAU', 'COSTA RICA', 'SHARJAH', 'WEST-BRABANT', '56013',\n",
       "       '7604385', 'JAMAICA', '1737844', 'SLOVAKIA', 'UGANDA',\n",
       "       'WESTERN SAMOA', 'GEORGIA', 'KUALA LUMPUR', '7465508', 'THE NIUE',\n",
       "       '1012258', 'IRAN', 'SWISS CONFEDERATION', 'FEDERATION OF MALAYA',\n",
       "       'THE TURKISH REPUBLIC', 'THE REBUBLIC OF IRELAND',\n",
       "       'STATE OF GRENADA', 'SWITERLAND', 'THE REPUBLIC OF LIBE RIA',\n",
       "       'MONGOLIA', 'MOROCCO', 'ITLAY', 'ALGERIA', 'BELARUS',\n",
       "       'SIERRA LEONE', 'SERBIA', 'BREDA', 'HAMBURG', 'REIDEN',\n",
       "       'THE CHENNAL ISLES', 'RUPUBLIC OF IRELAND', 'QUEBEC, CANADA',\n",
       "       '58936', '14259', '00002065', '76028', 'OC323303', 'SAMAO',\n",
       "       'TENERIFE', 'BC0698768', 'THE HELLENIC REPUBLIC', 'THE GAMBIA',\n",
       "       'THE BRITISH ISLANDS', 'MALAYASIA', 'NORTH KOREA',\n",
       "       'REPUBLIC OF MARITIUS', 'AMERICA', 'NUIE', '25374', '38026',\n",
       "       '102718', 'IP18922R', 'TURKISH REPUBLIC OF NORTH',\n",
       "       'THE REUPLIC OF IRELAND COMPANY NO.250972', 'GREMANY', '085544C',\n",
       "       '118586', '200512967K', 'PAKISTAN', 'REPULBIC OF IRELAND',\n",
       "       '0003280', 'THE REPUBLI C OF IRELAND', 'HUNGARY', 'IP28410R',\n",
       "       '05986778', '43290', 'AJMAN', '', 'COLOMBIA', 'LATVIA', 'BERLIZE',\n",
       "       'FC029833', 'PENANG', 'TOGO', \"COTE D'IVOIRE\", 'CITY OF PANANMA',\n",
       "       '1811435',\n",
       "       'THE EUROPEAN UNION UNDER THE TREATY ON EUROPEAN UNION AND THE TREATY ON THE FUNCTIONING OF THE EUROPEAN UNION'], dtype=object)"
      ]
     },
     "execution_count": 98,
     "metadata": {},
     "output_type": "execute_result"
    }
   ],
   "source": [
    "##List of countries to clean up...\n",
    "data[data.secrecy_jurisdiction == False].incorporated_normalized.unique()"
   ]
  },
  {
   "cell_type": "code",
   "execution_count": 99,
   "metadata": {},
   "outputs": [
    {
     "name": "stdout",
     "output_type": "stream",
     "text": [
      "ANGUILLA -> 585\n",
      "BERMUDA -> 1404\n",
      "BRITISH ANTARCTIC TERRITORY -> 0\n",
      "BRITISH INDIAN OCEAN TERRITORY -> 0\n",
      "BRITISH VIRGIN ISLANDS -> 45943\n",
      "CAYMAN ISLANDS -> 2401\n",
      "ISLE OF MAN -> 22530\n",
      "JERSEY -> 47675\n",
      "SOVEREIGN BASE AREAS OF AKROTIRI AND DHEKELIA ON CYPRUSFALKLAND ISLANDS -> 0\n",
      "GIBRALTAR -> 5114\n",
      "MONTSERRAT -> 0\n",
      "PITCAIRN ISLANDS -> 0\n",
      "SAINT HELENA AND ITS DEPENDENCIES (ASCENSION ISLAND AND TRISTAN DA CUNHA) -> 0\n",
      "SOUTH GEORGIA -> 0\n",
      "SOUTH SANDWICH ISLANDS -> 0\n",
      "TURKS AND CAICOS ISLANDS -> 490\n"
     ]
    }
   ],
   "source": [
    "##Add in extra field to mark if company incorproated in overseas terrirtory or crown dependency\n",
    "list_of_cd_ot = [\n",
    "'Anguilla',\n",
    "'Bermuda',\n",
    "'British Antarctic Territory',\n",
    "'British Indian Ocean Territory',\n",
    "'British Virgin Islands',\n",
    "'Cayman Islands',\n",
    "'Isle of Man',\n",
    "'Jersey',\n",
    "'Sovereign Base Areas of Akrotiri and Dhekelia on Cyprus'\n",
    "'Falkland Islands',\n",
    "'Gibraltar',\n",
    "'Montserrat',\n",
    "'Pitcairn Islands',\n",
    "'Saint Helena and its dependencies (Ascension Island and Tristan da Cunha)',\n",
    "'South Georgia',\n",
    "'South Sandwich Islands',\n",
    "'Turks and Caicos Islands',\n",
    "]\n",
    "list_of_cd_ot = [x.upper() for x in list_of_cd_ot]\n",
    "##Quick sense check of how well the different names of jurisdictions align\n",
    "for t in list_of_cd_ot:\n",
    "    print(t,'->',len(data[data.Country_Incorporated == t]))\n",
    "##Create column\n",
    "data['overseas_territory_crown_dependency'] = data['incorporated_normalized'].isin(list_of_cd_ot)"
   ]
  },
  {
   "cell_type": "markdown",
   "metadata": {},
   "source": [
    "## Output a clean dataset with additional fields"
   ]
  },
  {
   "cell_type": "code",
   "execution_count": 100,
   "metadata": {
    "collapsed": true
   },
   "outputs": [],
   "source": [
    "data.to_excel('outputs/processed_combined_land_registry_date.xlsx')"
   ]
  },
  {
   "cell_type": "markdown",
   "metadata": {},
   "source": [
    "# Data dictionary"
   ]
  },
  {
   "cell_type": "markdown",
   "metadata": {},
   "source": [
    "Where fields occur in original dataset, descriptions are taken from [gov.uk documnetation](https://www.gov.uk/government/publications/overseas-companies-chargeable-dataset-data-specification/overseas-companies-chargeable-dataset-data-specification#data-content-and-structure)\n",
    "\n",
    "Column name | Data type | Description\n",
    "--- | --- | ---\n",
    "Title_Number | String | Number which uniquely identifies a registered title to land or a caution against first registration.\n",
    "Tenure | String | Freehold or Leasehold.\n",
    "Property_Address | String | The unformatted A1 Address entry or an address from the Land Registry Property Gazetteer (LRPG)\n",
    "Price_Paid | Float | The sale price stated on the transfer deed. Highly incomplete, see below. Prices not included for properties part of a larger deal.\n",
    "District | String | \tDistrict name. Name of an administrative district created since local government reorganisation 1974. Administrative district also covers the London boroughs, unitary authorities and (for HM Land Registry’s purposes) the Isles Of Scilly parishes.\n",
    "County | String | County. Name of current County in England and Wales.\n",
    "Region | String | \tRegion name. Name of a geographic region which comprises one or more current counties, former counties or unitary authorities or any combination of these. On HQ instructions, the names and extents of the regions are the economic planning regions used by various bodies. N.B. region names allocated by the Office for National Statistics differ in some instances from names in this field.\n",
    "Postcode | String | Postcode. Code which is a combination of up to 7 letters and numbers (plus one embedded blank), which defines different levels of geographic units. It is part of a coding system created and used by the post office across the UK, to facilitate the mail service.\n",
    "Date_Proprietor_Added | Date | The date a proprietor was added to the register.\n",
    "Additional_Proprietor_Indicator | Boolean string (Y/N) | Indicator as to whether there is more than one proprietor for the propetry.\n",
    "Multiple_Address_Indicator | Indicates the title has more than one address.\n",
    "Proprietor_Number | Integer | Ordinal number representing the number of the propreitor in event that there are multiple\n",
    "Company_Registration | String | Company Registration Number. Number which is a unique identifier assigned to a company when it is registered at Companies’ House. Although the name of the company may change, the company registration number will remain the same.\n",
    "Country_Incorporated | String | The name of the country where the company/territory is incorporated.\n",
    "Proprietor_Address_1 | String | Register address string. Text which is the address (including the postcode) either of a property or a registered proprietor, in the form in which it appears as the property description on the register. \n",
    "Proprietor_Address_2 | String | Register address string. Text which is the address (including the postcode) either of a property or a registered proprietor, in the form in which it appears as the property description on the register.\n",
    "Proprietor_Address_3 | String | Register address string. Text which is the address (including the postcode) either of a property or a registered proprietor, in the form in which it appears as the property description on the register.\n",
    "Proprietor_Name | String | Non – Private Individual Name. Name of a company, corporate body, local authority or other organisation or establishment other than that of a private individual.\n",
    "Proprietorship | String | Name category description. Text which describes the category in which a name falls.\n",
    "unique_company | String | A pseudo-unique identifier for companies which is a combination. Acombination of proprietor name and address. Not in original data.\n",
    "incorporated_normalized | String | Cleaned version of Country_Incorporated to allow for easier analysis. Not in original data.\n",
    "secrecy_jurisdiction | Boolean | True if country of incorporation is in a secrecy jurisdiction. Secrecy jurisdictions are countries or territories which have secrey score of 60 or above in [Tax Justice Network's 2015 Financial Secrecy Index](http://www.financialsecrecyindex.com/). Not in original data.\n",
    "overseas_territory_crown_dependency | Boolean | True if country of incorporation is a British Overseas Territory or Crown Dependency."
   ]
  },
  {
   "cell_type": "markdown",
   "metadata": {
    "hideCode": false,
    "hidePrompt": false
   },
   "source": [
    "# Analysis"
   ]
  },
  {
   "cell_type": "markdown",
   "metadata": {
    "hideCode": true,
    "hideOutput": true,
    "hidePrompt": false
   },
   "source": [
    "### How many UK properties are owned by overseas companies compared to 2015? How many titles are held by companies incorporated in secrecy jurisdictions in 2015 compared to 2017? Secrecy jurisdictions are defined as those jurisdictions that have a secrecy score of 60 or above in the Tax Justice Network 2015 Financial Screcy Index."
   ]
  },
  {
   "cell_type": "code",
   "execution_count": 101,
   "metadata": {},
   "outputs": [
    {
     "data": {
      "text/html": [
       "<div>\n",
       "<style>\n",
       "    .dataframe thead tr:only-child th {\n",
       "        text-align: right;\n",
       "    }\n",
       "\n",
       "    .dataframe thead th {\n",
       "        text-align: left;\n",
       "    }\n",
       "\n",
       "    .dataframe tbody tr th {\n",
       "        vertical-align: top;\n",
       "    }\n",
       "</style>\n",
       "<table border=\"1\" class=\"dataframe\">\n",
       "  <thead>\n",
       "    <tr style=\"text-align: right;\">\n",
       "      <th></th>\n",
       "      <th>total_properties</th>\n",
       "      <th>owner_secret_company</th>\n",
       "      <th>percentage</th>\n",
       "    </tr>\n",
       "    <tr>\n",
       "      <th>date_snapshot</th>\n",
       "      <th></th>\n",
       "      <th></th>\n",
       "      <th></th>\n",
       "    </tr>\n",
       "  </thead>\n",
       "  <tbody>\n",
       "    <tr>\n",
       "      <th>2015-10-31</th>\n",
       "      <td>97654</td>\n",
       "      <td>85322</td>\n",
       "      <td>0.87</td>\n",
       "    </tr>\n",
       "    <tr>\n",
       "      <th>2017-10-01</th>\n",
       "      <td>97557</td>\n",
       "      <td>85053</td>\n",
       "      <td>0.87</td>\n",
       "    </tr>\n",
       "  </tbody>\n",
       "</table>\n",
       "</div>"
      ],
      "text/plain": [
       "               total_properties  owner_secret_company           percentage\n",
       "date_snapshot                                                             \n",
       "2015-10-31                97654                 85322                 0.87\n",
       "2017-10-01                97557                 85053                 0.87"
      ]
     },
     "execution_count": 101,
     "metadata": {},
     "output_type": "execute_result"
    }
   ],
   "source": [
    "df1 = data.pivot_table(index='date_snapshot',values=['Property_Address'],aggfunc=lambda x: len(x.unique()))\n",
    "s1 = data.pivot_table(index='date_snapshot',columns=['secrecy_jurisdiction'],values='Property_Address',aggfunc=lambda x: len(x.unique()))[True]\n",
    "df1['owner_secret_company'] = s1\n",
    "df1.columns = ['total_properties','owner_secret_company']\n",
    "df1['percentage'] = df1['owner_secret_company'] / df1['total_properties']\n",
    "df1"
   ]
  },
  {
   "cell_type": "markdown",
   "metadata": {
    "hideCode": false,
    "hidePrompt": false
   },
   "source": [
    "### What’s the total amount? Have these figures increased since July 2015?\n",
    "\n",
    "Some caveats on the analysis below:\n",
    "\n",
    "- Price paid data is incomplete less than 1 in 10 values are filled across the whole dataset\n",
    "- The distribution is skewed towards the higher prices which which affect the mean as a measure of the center of the observations\n",
    "- Price paid data is more incomplete in 2015 than 2017 therefore comparisons between the two years in terms of sums should not be used"
   ]
  },
  {
   "cell_type": "code",
   "execution_count": 102,
   "metadata": {
    "hideCode": false,
    "hidePrompt": false
   },
   "outputs": [
    {
     "data": {
      "text/plain": [
       "0.088141562431214168"
      ]
     },
     "execution_count": 102,
     "metadata": {},
     "output_type": "execute_result"
    }
   ],
   "source": [
    "##Note that 91% of price paid vaues for 2017 snapshot are missing\n",
    "data['2017'].Price_Paid.count() / len(data['2017'])"
   ]
  },
  {
   "cell_type": "code",
   "execution_count": 103,
   "metadata": {},
   "outputs": [
    {
     "data": {
      "text/html": [
       "<div>\n",
       "<style>\n",
       "    .dataframe thead tr:only-child th {\n",
       "        text-align: right;\n",
       "    }\n",
       "\n",
       "    .dataframe thead th {\n",
       "        text-align: left;\n",
       "    }\n",
       "\n",
       "    .dataframe tbody tr th {\n",
       "        vertical-align: top;\n",
       "    }\n",
       "</style>\n",
       "<table border=\"1\" class=\"dataframe\">\n",
       "  <thead>\n",
       "    <tr style=\"text-align: right;\">\n",
       "      <th>date_snapshot</th>\n",
       "      <th>2015-10-31 00:00:00</th>\n",
       "      <th>2017-10-01 00:00:00</th>\n",
       "    </tr>\n",
       "  </thead>\n",
       "  <tbody>\n",
       "    <tr>\n",
       "      <th>Price_Paid</th>\n",
       "      <td>0.07</td>\n",
       "      <td>0.09</td>\n",
       "    </tr>\n",
       "  </tbody>\n",
       "</table>\n",
       "</div>"
      ],
      "text/plain": [
       "date_snapshot           2015-10-31           2017-10-01\n",
       "Price_Paid                    0.07                 0.09"
      ]
     },
     "execution_count": 103,
     "metadata": {},
     "output_type": "execute_result"
    }
   ],
   "source": [
    "##Proportion of filled values across the two different two snapshots\n",
    "data.pivot_table(columns='date_snapshot',values='Price_Paid',aggfunc=lambda x: x.count() / len(x))"
   ]
  },
  {
   "cell_type": "code",
   "execution_count": 104,
   "metadata": {
    "hideCode": false,
    "hidePrompt": false
   },
   "outputs": [
    {
     "data": {
      "text/plain": [
       "<matplotlib.axes._subplots.AxesSubplot at 0x1399af550>"
      ]
     },
     "execution_count": 104,
     "metadata": {},
     "output_type": "execute_result"
    },
    {
     "data": {
      "image/png": "[encoded data removed]",
      "text/plain": [
       "<matplotlib.figure.Figure at 0x11d920e48>"
      ]
     },
     "metadata": {},
     "output_type": "display_data"
    }
   ],
   "source": [
    "##Distribution of price paid values where they exist. Notice the heavy skew towards high values will affect the mean.\n",
    "sns.distplot(data['Price_Paid'].dropna())"
   ]
  },
  {
   "cell_type": "code",
   "execution_count": 105,
   "metadata": {
    "hideCode": false,
    "hidePrompt": false
   },
   "outputs": [
    {
     "data": {
      "text/html": [
       "<div>\n",
       "<style>\n",
       "    .dataframe thead tr:only-child th {\n",
       "        text-align: right;\n",
       "    }\n",
       "\n",
       "    .dataframe thead th {\n",
       "        text-align: left;\n",
       "    }\n",
       "\n",
       "    .dataframe tbody tr th {\n",
       "        vertical-align: top;\n",
       "    }\n",
       "</style>\n",
       "<table border=\"1\" class=\"dataframe\">\n",
       "  <thead>\n",
       "    <tr style=\"text-align: right;\">\n",
       "      <th></th>\n",
       "      <th>count</th>\n",
       "      <th>mean</th>\n",
       "      <th>std</th>\n",
       "      <th>min</th>\n",
       "      <th>25%</th>\n",
       "      <th>50%</th>\n",
       "      <th>75%</th>\n",
       "      <th>max</th>\n",
       "    </tr>\n",
       "    <tr>\n",
       "      <th>date_snapshot</th>\n",
       "      <th></th>\n",
       "      <th></th>\n",
       "      <th></th>\n",
       "      <th></th>\n",
       "      <th></th>\n",
       "      <th></th>\n",
       "      <th></th>\n",
       "      <th></th>\n",
       "    </tr>\n",
       "  </thead>\n",
       "  <tbody>\n",
       "    <tr>\n",
       "      <th>2015-10-31</th>\n",
       "      <td>6,038.00</td>\n",
       "      <td>1,550,546.99</td>\n",
       "      <td>4,486,116.33</td>\n",
       "      <td>1.00</td>\n",
       "      <td>190,000.00</td>\n",
       "      <td>440,000.00</td>\n",
       "      <td>1,183,750.00</td>\n",
       "      <td>86,031,326.00</td>\n",
       "    </tr>\n",
       "    <tr>\n",
       "      <th>2017-10-01</th>\n",
       "      <td>7,995.00</td>\n",
       "      <td>2,251,413.41</td>\n",
       "      <td>8,061,926.03</td>\n",
       "      <td>1.00</td>\n",
       "      <td>202,000.00</td>\n",
       "      <td>495,000.00</td>\n",
       "      <td>1,400,000.00</td>\n",
       "      <td>215,399,999.00</td>\n",
       "    </tr>\n",
       "  </tbody>\n",
       "</table>\n",
       "</div>"
      ],
      "text/plain": [
       "                             count                 mean                  std  \\\n",
       "date_snapshot                                                                  \n",
       "2015-10-31                6,038.00         1,550,546.99         4,486,116.33   \n",
       "2017-10-01                7,995.00         2,251,413.41         8,061,926.03   \n",
       "\n",
       "                               min                  25%                  50%  \\\n",
       "date_snapshot                                                                  \n",
       "2015-10-31                    1.00           190,000.00           440,000.00   \n",
       "2017-10-01                    1.00           202,000.00           495,000.00   \n",
       "\n",
       "                               75%                  max  \n",
       "date_snapshot                                            \n",
       "2015-10-31            1,183,750.00        86,031,326.00  \n",
       "2017-10-01            1,400,000.00       215,399,999.00  "
      ]
     },
     "execution_count": 105,
     "metadata": {},
     "output_type": "execute_result"
    }
   ],
   "source": [
    "##Interpret the following in the light of the above\n",
    "data[data.secrecy_jurisdiction == True].groupby('date_snapshot').describe()['Price_Paid']"
   ]
  },
  {
   "cell_type": "code",
   "execution_count": 106,
   "metadata": {
    "hideCode": false,
    "hidePrompt": false
   },
   "outputs": [
    {
     "data": {
      "text/html": [
       "<div>\n",
       "<style>\n",
       "    .dataframe thead tr:only-child th {\n",
       "        text-align: right;\n",
       "    }\n",
       "\n",
       "    .dataframe thead th {\n",
       "        text-align: left;\n",
       "    }\n",
       "\n",
       "    .dataframe tbody tr th {\n",
       "        vertical-align: top;\n",
       "    }\n",
       "</style>\n",
       "<table border=\"1\" class=\"dataframe\">\n",
       "  <thead>\n",
       "    <tr style=\"text-align: right;\">\n",
       "      <th></th>\n",
       "      <th>Title_Number</th>\n",
       "      <th>Tenure</th>\n",
       "      <th>Property_Address</th>\n",
       "      <th>Price_Paid</th>\n",
       "      <th>District</th>\n",
       "      <th>County</th>\n",
       "      <th>Region</th>\n",
       "      <th>Postcode</th>\n",
       "      <th>Date_Proprietor_Added</th>\n",
       "      <th>Additional_Proprietor_Indicator</th>\n",
       "      <th>...</th>\n",
       "      <th>Country_Incorporated</th>\n",
       "      <th>Proprietor_Address_1</th>\n",
       "      <th>Proprietor_Address_2</th>\n",
       "      <th>Proprietor_Address_3</th>\n",
       "      <th>Proprietor_Name</th>\n",
       "      <th>Proprietorship</th>\n",
       "      <th>unique_company</th>\n",
       "      <th>incorporated_normalized</th>\n",
       "      <th>secrecy_jurisdiction</th>\n",
       "      <th>overseas_territory_crown_dependency</th>\n",
       "    </tr>\n",
       "    <tr>\n",
       "      <th>date_snapshot</th>\n",
       "      <th></th>\n",
       "      <th></th>\n",
       "      <th></th>\n",
       "      <th></th>\n",
       "      <th></th>\n",
       "      <th></th>\n",
       "      <th></th>\n",
       "      <th></th>\n",
       "      <th></th>\n",
       "      <th></th>\n",
       "      <th></th>\n",
       "      <th></th>\n",
       "      <th></th>\n",
       "      <th></th>\n",
       "      <th></th>\n",
       "      <th></th>\n",
       "      <th></th>\n",
       "      <th></th>\n",
       "      <th></th>\n",
       "      <th></th>\n",
       "      <th></th>\n",
       "    </tr>\n",
       "  </thead>\n",
       "  <tbody>\n",
       "    <tr>\n",
       "      <th>2017-10-01</th>\n",
       "      <td>NGL690048</td>\n",
       "      <td>Leasehold</td>\n",
       "      <td>123 Buckingham Palace Road, London (SW1W 9SR)</td>\n",
       "      <td>215,399,999.00</td>\n",
       "      <td>CITY OF WESTMINSTER</td>\n",
       "      <td>GREATER LONDON</td>\n",
       "      <td>GREATER LONDON</td>\n",
       "      <td>SW1W 9SR</td>\n",
       "      <td>2017-07-07</td>\n",
       "      <td>N</td>\n",
       "      <td>...</td>\n",
       "      <td>BRITISH VIRGIN ISLANDS</td>\n",
       "      <td>Nemours Chambers, Road Town, Tortola, British ...</td>\n",
       "      <td>None</td>\n",
       "      <td>None</td>\n",
       "      <td>GC 123 BPR LTD</td>\n",
       "      <td>Limited Company or Public Limited Company</td>\n",
       "      <td>GC 123 BPR LTDNemours Chambers, Road Town, Tor...</td>\n",
       "      <td>BRITISH VIRGIN ISLANDS</td>\n",
       "      <td>True</td>\n",
       "      <td>True</td>\n",
       "    </tr>\n",
       "  </tbody>\n",
       "</table>\n",
       "<p>1 rows × 23 columns</p>\n",
       "</div>"
      ],
      "text/plain": [
       "              Title_Number     Tenure  \\\n",
       "date_snapshot                           \n",
       "2017-10-01       NGL690048  Leasehold   \n",
       "\n",
       "                                            Property_Address  \\\n",
       "date_snapshot                                                  \n",
       "2017-10-01     123 Buckingham Palace Road, London (SW1W 9SR)   \n",
       "\n",
       "                        Price_Paid             District          County  \\\n",
       "date_snapshot                                                             \n",
       "2017-10-01          215,399,999.00  CITY OF WESTMINSTER  GREATER LONDON   \n",
       "\n",
       "                       Region  Postcode Date_Proprietor_Added  \\\n",
       "date_snapshot                                                   \n",
       "2017-10-01     GREATER LONDON  SW1W 9SR            2017-07-07   \n",
       "\n",
       "              Additional_Proprietor_Indicator  \\\n",
       "date_snapshot                                   \n",
       "2017-10-01                                  N   \n",
       "\n",
       "                              ...                    Country_Incorporated  \\\n",
       "date_snapshot                 ...                                           \n",
       "2017-10-01                    ...                  BRITISH VIRGIN ISLANDS   \n",
       "\n",
       "                                            Proprietor_Address_1  \\\n",
       "date_snapshot                                                      \n",
       "2017-10-01     Nemours Chambers, Road Town, Tortola, British ...   \n",
       "\n",
       "              Proprietor_Address_2 Proprietor_Address_3 Proprietor_Name  \\\n",
       "date_snapshot                                                             \n",
       "2017-10-01                    None                 None  GC 123 BPR LTD   \n",
       "\n",
       "                                          Proprietorship  \\\n",
       "date_snapshot                                              \n",
       "2017-10-01     Limited Company or Public Limited Company   \n",
       "\n",
       "                                                  unique_company  \\\n",
       "date_snapshot                                                      \n",
       "2017-10-01     GC 123 BPR LTDNemours Chambers, Road Town, Tor...   \n",
       "\n",
       "              incorporated_normalized secrecy_jurisdiction  \\\n",
       "date_snapshot                                                \n",
       "2017-10-01     BRITISH VIRGIN ISLANDS                 True   \n",
       "\n",
       "              overseas_territory_crown_dependency  \n",
       "date_snapshot                                      \n",
       "2017-10-01                                   True  \n",
       "\n",
       "[1 rows x 23 columns]"
      ]
     },
     "execution_count": 106,
     "metadata": {},
     "output_type": "execute_result"
    }
   ],
   "source": [
    "##What is that crazy expensive property in the 2017 snapshot? Appears to be deadl offices rented to Google...\n",
    "## http://www.costar.co.uk/en/assets/news/2015/October/GAW-drops-500m-in-West-End-mega-deal/\n",
    "data[data['Price_Paid'] == 215399999.0]"
   ]
  },
  {
   "cell_type": "code",
   "execution_count": 107,
   "metadata": {
    "hideCode": false,
    "hidePrompt": false
   },
   "outputs": [
    {
     "data": {
      "text/plain": [
       "date_snapshot\n",
       "2017-10-01         215,399,999.00\n",
       "2017-10-01         197,999,000.00\n",
       "2017-10-01         197,999,000.00\n",
       "2017-10-01         180,364,651.00\n",
       "2017-10-01         180,364,651.00\n",
       "2017-10-01         180,364,651.00\n",
       "2017-10-01         161,523,809.00\n",
       "2017-10-01          99,000,000.00\n",
       "2017-10-01          90,200,000.00\n",
       "2015-10-31          86,031,326.00\n",
       "Name: Price_Paid, dtype: float64"
      ]
     },
     "execution_count": 107,
     "metadata": {},
     "output_type": "execute_result"
    }
   ],
   "source": [
    "##Looks like other properties were brought at same time\n",
    "data[data.secrecy_jurisdiction == True]['Price_Paid'].sort_values(ascending=False).head(10)"
   ]
  },
  {
   "cell_type": "code",
   "execution_count": 108,
   "metadata": {},
   "outputs": [
    {
     "data": {
      "text/plain": [
       "1589247087.0"
      ]
     },
     "execution_count": 108,
     "metadata": {},
     "output_type": "execute_result"
    }
   ],
   "source": [
    "##Value of top 10 most expesnive properties\n",
    "data[data.secrecy_jurisdiction == True]['Price_Paid'].sort_values(ascending=False).head(10).sum()"
   ]
  },
  {
   "cell_type": "code",
   "execution_count": 109,
   "metadata": {
    "hideCode": false,
    "hidePrompt": false
   },
   "outputs": [
    {
     "data": {
      "text/plain": [
       "date_snapshot\n",
       "2015-10-31       9,362,202,746.00\n",
       "2017-10-01      18,000,050,218.00\n",
       "Name: Price_Paid, dtype: float64"
      ]
     },
     "execution_count": 109,
     "metadata": {},
     "output_type": "execute_result"
    }
   ],
   "source": [
    "##What is the value of property owned by comapnies incorproated in secrecy jurisdictions?\n",
    "data[data.secrecy_jurisdiction == True].groupby('date_snapshot').sum()['Price_Paid']"
   ]
  },
  {
   "cell_type": "markdown",
   "metadata": {},
   "source": [
    "### Number of properties worth over £1,000,000"
   ]
  },
  {
   "cell_type": "code",
   "execution_count": 110,
   "metadata": {},
   "outputs": [
    {
     "data": {
      "text/plain": [
       "2935"
      ]
     },
     "execution_count": 110,
     "metadata": {},
     "output_type": "execute_result"
    }
   ],
   "source": [
    "len(data[(data.secrecy_jurisdiction == True) & (data.Price_Paid >= 1000000)].Property_Address.unique())"
   ]
  },
  {
   "cell_type": "markdown",
   "metadata": {
    "hideCode": false,
    "hidePrompt": false
   },
   "source": [
    "### How many properties owned by companies incorproated in secrecy jurisdiction are in London? Has this increased since 2015?"
   ]
  },
  {
   "cell_type": "code",
   "execution_count": 111,
   "metadata": {
    "hideCode": false,
    "hidePrompt": false
   },
   "outputs": [
    {
     "data": {
      "text/plain": [
       "date_snapshot\n",
       "2015-10-31 00:00:00              37,926.00\n",
       "2017-10-01 00:00:00              37,066.00\n",
       "pct_change                           -0.02\n",
       "Name: GREATER LONDON, dtype: float64"
      ]
     },
     "execution_count": 111,
     "metadata": {},
     "output_type": "execute_result"
    }
   ],
   "source": [
    "df = data[data.secrecy_jurisdiction == True].pivot_table(index='County',columns='date_snapshot',values='Property_Address',aggfunc=lambda x: len(x.unique()))\\\n",
    ".sort_values(by='2017-10-01 00:00:00',ascending=False)\n",
    "df['pct_change'] = df.pct_change(axis=1)['2017-10-01']\n",
    "df.loc['GREATER LONDON',:]"
   ]
  },
  {
   "cell_type": "markdown",
   "metadata": {
    "hideCode": false,
    "hidePrompt": false
   },
   "source": [
    "### Which areas of England and Wales have the most properties owned by companies incorporated in secrecy jurisdictions? Has this changed since 2015?"
   ]
  },
  {
   "cell_type": "code",
   "execution_count": 112,
   "metadata": {
    "hideCode": false,
    "hidePrompt": false
   },
   "outputs": [
    {
     "data": {
      "text/html": [
       "<div>\n",
       "<style>\n",
       "    .dataframe thead tr:only-child th {\n",
       "        text-align: right;\n",
       "    }\n",
       "\n",
       "    .dataframe thead th {\n",
       "        text-align: left;\n",
       "    }\n",
       "\n",
       "    .dataframe tbody tr th {\n",
       "        vertical-align: top;\n",
       "    }\n",
       "</style>\n",
       "<table border=\"1\" class=\"dataframe\">\n",
       "  <thead>\n",
       "    <tr style=\"text-align: right;\">\n",
       "      <th>date_snapshot</th>\n",
       "      <th>2015-10-31 00:00:00</th>\n",
       "      <th>2017-10-01 00:00:00</th>\n",
       "      <th>pct_change</th>\n",
       "    </tr>\n",
       "    <tr>\n",
       "      <th>Region</th>\n",
       "      <th></th>\n",
       "      <th></th>\n",
       "      <th></th>\n",
       "    </tr>\n",
       "  </thead>\n",
       "  <tbody>\n",
       "    <tr>\n",
       "      <th>GREATER LONDON</th>\n",
       "      <td>37926</td>\n",
       "      <td>37066</td>\n",
       "      <td>-0.02</td>\n",
       "    </tr>\n",
       "    <tr>\n",
       "      <th>SOUTH EAST</th>\n",
       "      <td>13683</td>\n",
       "      <td>13886</td>\n",
       "      <td>0.01</td>\n",
       "    </tr>\n",
       "    <tr>\n",
       "      <th>NORTH WEST</th>\n",
       "      <td>9382</td>\n",
       "      <td>9455</td>\n",
       "      <td>0.01</td>\n",
       "    </tr>\n",
       "    <tr>\n",
       "      <th>YORKS AND HUMBER</th>\n",
       "      <td>4524</td>\n",
       "      <td>4843</td>\n",
       "      <td>0.07</td>\n",
       "    </tr>\n",
       "    <tr>\n",
       "      <th>SOUTH WEST</th>\n",
       "      <td>4653</td>\n",
       "      <td>4584</td>\n",
       "      <td>-0.01</td>\n",
       "    </tr>\n",
       "    <tr>\n",
       "      <th>WEST MIDLANDS</th>\n",
       "      <td>4354</td>\n",
       "      <td>4394</td>\n",
       "      <td>0.01</td>\n",
       "    </tr>\n",
       "    <tr>\n",
       "      <th>EAST MIDLANDS</th>\n",
       "      <td>3588</td>\n",
       "      <td>3726</td>\n",
       "      <td>0.04</td>\n",
       "    </tr>\n",
       "    <tr>\n",
       "      <th>NORTH</th>\n",
       "      <td>2843</td>\n",
       "      <td>2769</td>\n",
       "      <td>-0.03</td>\n",
       "    </tr>\n",
       "    <tr>\n",
       "      <th>WALES</th>\n",
       "      <td>2377</td>\n",
       "      <td>2297</td>\n",
       "      <td>-0.03</td>\n",
       "    </tr>\n",
       "    <tr>\n",
       "      <th>EAST ANGLIA</th>\n",
       "      <td>1992</td>\n",
       "      <td>2033</td>\n",
       "      <td>0.02</td>\n",
       "    </tr>\n",
       "  </tbody>\n",
       "</table>\n",
       "</div>"
      ],
      "text/plain": [
       "date_snapshot     2015-10-31 00:00:00  2017-10-01 00:00:00  \\\n",
       "Region                                                       \n",
       "GREATER LONDON                  37926                37066   \n",
       "SOUTH EAST                      13683                13886   \n",
       "NORTH WEST                       9382                 9455   \n",
       "YORKS AND HUMBER                 4524                 4843   \n",
       "SOUTH WEST                       4653                 4584   \n",
       "WEST MIDLANDS                    4354                 4394   \n",
       "EAST MIDLANDS                    3588                 3726   \n",
       "NORTH                            2843                 2769   \n",
       "WALES                            2377                 2297   \n",
       "EAST ANGLIA                      1992                 2033   \n",
       "\n",
       "date_snapshot              pct_change  \n",
       "Region                                 \n",
       "GREATER LONDON                  -0.02  \n",
       "SOUTH EAST                       0.01  \n",
       "NORTH WEST                       0.01  \n",
       "YORKS AND HUMBER                 0.07  \n",
       "SOUTH WEST                      -0.01  \n",
       "WEST MIDLANDS                    0.01  \n",
       "EAST MIDLANDS                    0.04  \n",
       "NORTH                           -0.03  \n",
       "WALES                           -0.03  \n",
       "EAST ANGLIA                      0.02  "
      ]
     },
     "execution_count": 112,
     "metadata": {},
     "output_type": "execute_result"
    }
   ],
   "source": [
    "df = data[data.secrecy_jurisdiction == True].pivot_table(index='Region',columns='date_snapshot',values='Property_Address',aggfunc=lambda x: len(x.unique()))\\\n",
    ".sort_values(by='2017-10-01 00:00:00',ascending=False)\n",
    "df['pct_change'] = df.pct_change(axis=1)['2017-10-01']\n",
    "df.head(10)"
   ]
  },
  {
   "cell_type": "code",
   "execution_count": 113,
   "metadata": {},
   "outputs": [
    {
     "data": {
      "text/html": [
       "<div>\n",
       "<style>\n",
       "    .dataframe thead tr:only-child th {\n",
       "        text-align: right;\n",
       "    }\n",
       "\n",
       "    .dataframe thead th {\n",
       "        text-align: left;\n",
       "    }\n",
       "\n",
       "    .dataframe tbody tr th {\n",
       "        vertical-align: top;\n",
       "    }\n",
       "</style>\n",
       "<table border=\"1\" class=\"dataframe\">\n",
       "  <thead>\n",
       "    <tr style=\"text-align: right;\">\n",
       "      <th>date_snapshot</th>\n",
       "      <th>2015-10-31 00:00:00</th>\n",
       "      <th>2017-10-01 00:00:00</th>\n",
       "      <th>pct_change</th>\n",
       "    </tr>\n",
       "  </thead>\n",
       "  <tbody>\n",
       "    <tr>\n",
       "      <th>Property_Address</th>\n",
       "      <td>47396</td>\n",
       "      <td>47987</td>\n",
       "      <td>0.01</td>\n",
       "    </tr>\n",
       "  </tbody>\n",
       "</table>\n",
       "</div>"
      ],
      "text/plain": [
       "date_snapshot     2015-10-31 00:00:00  2017-10-01 00:00:00  \\\n",
       "Property_Address                47396                47987   \n",
       "\n",
       "date_snapshot              pct_change  \n",
       "Property_Address                 0.01  "
      ]
     },
     "execution_count": 113,
     "metadata": {},
     "output_type": "execute_result"
    }
   ],
   "source": [
    "df = pd.DataFrame(data[(data.Region != 'GREATER LONDON') & (data.secrecy_jurisdiction == True)].groupby('date_snapshot').agg(lambda x: len(x.unique()))['Property_Address'])\n",
    "df = df.T\n",
    "df['pct_change'] = df.pct_change(axis=1)['2017-10-01']\n",
    "df"
   ]
  },
  {
   "cell_type": "markdown",
   "metadata": {
    "hideCode": false,
    "hidePrompt": false
   },
   "source": [
    "### Which political constituencies have the highest number of buildings owned by anonymous companies in 2017? "
   ]
  },
  {
   "cell_type": "code",
   "execution_count": 114,
   "metadata": {
    "collapsed": true,
    "hideCode": false,
    "hidePrompt": false
   },
   "outputs": [],
   "source": [
    "geocoded_data = pd.read_csv('data/2017_geocoded.csv',low_memory=False)\n",
    "geocoded_data = geocoded_data[(geocoded_data.confidence >= 7) | (pd.isnull(geocoded_data.confidence))]\n",
    "##Only take those properties that are owned by companies incorproated in secrecy jurisdictions\n",
    "secret_titles = data[data.secrecy_jurisdiction == True].Property_Address.unique()\n",
    "geocoded_data = geocoded_data[geocoded_data.Property_Address.isin(secret_titles)]\n",
    "constiuency_boundaries = gp.read_file('data/westminister_constituencies/westminster_const_region.shp')\n",
    "constiuency_boundaries = constiuency_boundaries.to_crs({'init': 'epsg:4326'})\n",
    "constiuency_boundaries['normalized_constituency'] = constiuency_boundaries.NAME\n",
    "constiuency_boundaries['normalized_constituency'] = constiuency_boundaries.normalized_constituency.str.replace(' Boro Const$','')\n",
    "constiuency_boundaries['normalized_constituency'] = constiuency_boundaries.normalized_constituency.str.replace(' Const$','')\n",
    "constiuency_boundaries['normalized_constituency'] = constiuency_boundaries.normalized_constituency.str.replace(' Boro$','')\n",
    "constiuency_boundaries['normalized_constituency'] = constiuency_boundaries.normalized_constituency.str.replace(' Co$','')\n",
    "constiuency_boundaries['normalized_constituency'] = constiuency_boundaries.normalized_constituency.str.replace(' Burgh$','')\n",
    "eng_populations = pd.read_excel('data/mid_2015_estimates_parliamentary_constituencies.xls',sheetname='Mid-2015 Persons',skiprows=3)\n",
    "eng_populations = eng_populations[['PCON11CD','PCON11NM','All Ages']]\n",
    "eng_populations.columns = ['ukpc','constituency','population']\n",
    "scot_population = pd.read_csv('data/2011-2016_scot_constituencies_population_estimates.csv',skiprows=6,encoding='latin',thousands=\",\",quotechar='\"')\n",
    "scot_population = scot_population[['UKPC Code','UKPC Name','Unnamed: 3']][:59]\n",
    "scot_population.columns = ['ukpc','constituency','population']\n",
    "scot_population.population = scot_population.population.str.replace(',','').astype(int)\n",
    "populations = pd.concat([scot_population,eng_populations])\n",
    "constiuency_boundaries = pd.merge(constiuency_boundaries,populations,left_on='CODE',right_on='ukpc',how='outer')\n",
    "gdf = geocoded_data.dropna(subset=['lat','lng']).copy()\n",
    "geometry = [Point(xy) for xy in zip(gdf.lng, gdf.lat)]\n",
    "gdf = gdf.drop(['lng', 'lat'], axis=1)\n",
    "crs = {'init': 'epsg:4326'}\n",
    "gdf = gp.GeoDataFrame(gdf, crs=crs, geometry=geometry)\n",
    "sjoin = gp.sjoin(gdf,constiuency_boundaries)"
   ]
  },
  {
   "cell_type": "code",
   "execution_count": 115,
   "metadata": {
    "hideCode": false,
    "hidePrompt": false
   },
   "outputs": [
    {
     "data": {
      "text/html": [
       "<div>\n",
       "<style>\n",
       "    .dataframe thead tr:only-child th {\n",
       "        text-align: right;\n",
       "    }\n",
       "\n",
       "    .dataframe thead th {\n",
       "        text-align: left;\n",
       "    }\n",
       "\n",
       "    .dataframe tbody tr th {\n",
       "        vertical-align: top;\n",
       "    }\n",
       "</style>\n",
       "<table border=\"1\" class=\"dataframe\">\n",
       "  <thead>\n",
       "    <tr style=\"text-align: right;\">\n",
       "      <th></th>\n",
       "      <th>normazlied_constituency</th>\n",
       "      <th>population</th>\n",
       "      <th>count</th>\n",
       "      <th>per_capita</th>\n",
       "    </tr>\n",
       "  </thead>\n",
       "  <tbody>\n",
       "    <tr>\n",
       "      <th>127</th>\n",
       "      <td>Cities of London and Westminster</td>\n",
       "      <td>122114</td>\n",
       "      <td>7327</td>\n",
       "      <td>0.06</td>\n",
       "    </tr>\n",
       "    <tr>\n",
       "      <th>263</th>\n",
       "      <td>Kensington</td>\n",
       "      <td>114592</td>\n",
       "      <td>4007</td>\n",
       "      <td>0.03</td>\n",
       "    </tr>\n",
       "    <tr>\n",
       "      <th>117</th>\n",
       "      <td>Chelsea and Fulham</td>\n",
       "      <td>107006</td>\n",
       "      <td>2218</td>\n",
       "      <td>0.02</td>\n",
       "    </tr>\n",
       "    <tr>\n",
       "      <th>549</th>\n",
       "      <td>Westminster North</td>\n",
       "      <td>128945</td>\n",
       "      <td>2221</td>\n",
       "      <td>0.02</td>\n",
       "    </tr>\n",
       "    <tr>\n",
       "      <th>221</th>\n",
       "      <td>Hampstead and Kilburn</td>\n",
       "      <td>138772</td>\n",
       "      <td>1214</td>\n",
       "      <td>0.01</td>\n",
       "    </tr>\n",
       "    <tr>\n",
       "      <th>228</th>\n",
       "      <td>Harwich and North Essex</td>\n",
       "      <td>92983</td>\n",
       "      <td>737</td>\n",
       "      <td>0.01</td>\n",
       "    </tr>\n",
       "    <tr>\n",
       "      <th>521</th>\n",
       "      <td>Vauxhall</td>\n",
       "      <td>121214</td>\n",
       "      <td>944</td>\n",
       "      <td>0.01</td>\n",
       "    </tr>\n",
       "    <tr>\n",
       "      <th>244</th>\n",
       "      <td>Holborn and St. Pancras</td>\n",
       "      <td>147247</td>\n",
       "      <td>1063</td>\n",
       "      <td>0.01</td>\n",
       "    </tr>\n",
       "    <tr>\n",
       "      <th>25</th>\n",
       "      <td>Battersea</td>\n",
       "      <td>112108</td>\n",
       "      <td>755</td>\n",
       "      <td>0.01</td>\n",
       "    </tr>\n",
       "    <tr>\n",
       "      <th>220</th>\n",
       "      <td>Hammersmith</td>\n",
       "      <td>115523</td>\n",
       "      <td>760</td>\n",
       "      <td>0.01</td>\n",
       "    </tr>\n",
       "  </tbody>\n",
       "</table>\n",
       "</div>"
      ],
      "text/plain": [
       "              normazlied_constituency  population  count           per_capita\n",
       "127  Cities of London and Westminster      122114   7327                 0.06\n",
       "263                        Kensington      114592   4007                 0.03\n",
       "117                Chelsea and Fulham      107006   2218                 0.02\n",
       "549                 Westminster North      128945   2221                 0.02\n",
       "221             Hampstead and Kilburn      138772   1214                 0.01\n",
       "228           Harwich and North Essex       92983    737                 0.01\n",
       "521                          Vauxhall      121214    944                 0.01\n",
       "244           Holborn and St. Pancras      147247   1063                 0.01\n",
       "25                          Battersea      112108    755                 0.01\n",
       "220                       Hammersmith      115523    760                 0.01"
      ]
     },
     "execution_count": 115,
     "metadata": {},
     "output_type": "execute_result"
    }
   ],
   "source": [
    "df = pd.DataFrame(sjoin.groupby(['normalized_constituency','population']).agg(lambda x: len(x.unique()))['Property_Address']).reset_index()\n",
    "df.columns = ['normazlied_constituency','population','count']\n",
    "df['per_capita'] = df['count'] / df['population']\n",
    "df.sort_values(by='per_capita',ascending=False).head(10)"
   ]
  },
  {
   "cell_type": "markdown",
   "metadata": {
    "hideCode": false,
    "hidePrompt": false
   },
   "source": [
    "### How many properties owned by companies incoporated in secrecy jurisdictions are in Kensington & Chelsea / City of Westminster? Has this increased since 2015?"
   ]
  },
  {
   "cell_type": "code",
   "execution_count": 116,
   "metadata": {
    "hideCode": false,
    "hidePrompt": false
   },
   "outputs": [
    {
     "data": {
      "text/html": [
       "<div>\n",
       "<style>\n",
       "    .dataframe thead tr:only-child th {\n",
       "        text-align: right;\n",
       "    }\n",
       "\n",
       "    .dataframe thead th {\n",
       "        text-align: left;\n",
       "    }\n",
       "\n",
       "    .dataframe tbody tr th {\n",
       "        vertical-align: top;\n",
       "    }\n",
       "</style>\n",
       "<table border=\"1\" class=\"dataframe\">\n",
       "  <thead>\n",
       "    <tr style=\"text-align: right;\">\n",
       "      <th>date_snapshot</th>\n",
       "      <th>2015-10-31 00:00:00</th>\n",
       "      <th>2017-10-01 00:00:00</th>\n",
       "      <th>pct_change</th>\n",
       "    </tr>\n",
       "    <tr>\n",
       "      <th>District</th>\n",
       "      <th></th>\n",
       "      <th></th>\n",
       "      <th></th>\n",
       "    </tr>\n",
       "  </thead>\n",
       "  <tbody>\n",
       "    <tr>\n",
       "      <th>CITY OF WESTMINSTER</th>\n",
       "      <td>11835</td>\n",
       "      <td>10379</td>\n",
       "      <td>-0.12</td>\n",
       "    </tr>\n",
       "    <tr>\n",
       "      <th>KENSINGTON AND CHELSEA</th>\n",
       "      <td>6117</td>\n",
       "      <td>5710</td>\n",
       "      <td>-0.07</td>\n",
       "    </tr>\n",
       "    <tr>\n",
       "      <th>CAMDEN</th>\n",
       "      <td>2141</td>\n",
       "      <td>2222</td>\n",
       "      <td>0.04</td>\n",
       "    </tr>\n",
       "    <tr>\n",
       "      <th>WANDSWORTH</th>\n",
       "      <td>1693</td>\n",
       "      <td>1845</td>\n",
       "      <td>0.09</td>\n",
       "    </tr>\n",
       "    <tr>\n",
       "      <th>TOWER HAMLETS</th>\n",
       "      <td>1433</td>\n",
       "      <td>1597</td>\n",
       "      <td>0.11</td>\n",
       "    </tr>\n",
       "    <tr>\n",
       "      <th>HAMMERSMITH AND FULHAM</th>\n",
       "      <td>1402</td>\n",
       "      <td>1423</td>\n",
       "      <td>0.01</td>\n",
       "    </tr>\n",
       "    <tr>\n",
       "      <th>MANCHESTER</th>\n",
       "      <td>1237</td>\n",
       "      <td>1355</td>\n",
       "      <td>0.10</td>\n",
       "    </tr>\n",
       "    <tr>\n",
       "      <th>BARNET</th>\n",
       "      <td>1259</td>\n",
       "      <td>1242</td>\n",
       "      <td>-0.01</td>\n",
       "    </tr>\n",
       "    <tr>\n",
       "      <th>HOUNSLOW</th>\n",
       "      <td>1166</td>\n",
       "      <td>1231</td>\n",
       "      <td>0.06</td>\n",
       "    </tr>\n",
       "    <tr>\n",
       "      <th>LEEDS</th>\n",
       "      <td>1119</td>\n",
       "      <td>1199</td>\n",
       "      <td>0.07</td>\n",
       "    </tr>\n",
       "  </tbody>\n",
       "</table>\n",
       "</div>"
      ],
      "text/plain": [
       "date_snapshot           2015-10-31 00:00:00  2017-10-01 00:00:00  \\\n",
       "District                                                           \n",
       "CITY OF WESTMINSTER                   11835                10379   \n",
       "KENSINGTON AND CHELSEA                 6117                 5710   \n",
       "CAMDEN                                 2141                 2222   \n",
       "WANDSWORTH                             1693                 1845   \n",
       "TOWER HAMLETS                          1433                 1597   \n",
       "HAMMERSMITH AND FULHAM                 1402                 1423   \n",
       "MANCHESTER                             1237                 1355   \n",
       "BARNET                                 1259                 1242   \n",
       "HOUNSLOW                               1166                 1231   \n",
       "LEEDS                                  1119                 1199   \n",
       "\n",
       "date_snapshot                    pct_change  \n",
       "District                                     \n",
       "CITY OF WESTMINSTER                   -0.12  \n",
       "KENSINGTON AND CHELSEA                -0.07  \n",
       "CAMDEN                                 0.04  \n",
       "WANDSWORTH                             0.09  \n",
       "TOWER HAMLETS                          0.11  \n",
       "HAMMERSMITH AND FULHAM                 0.01  \n",
       "MANCHESTER                             0.10  \n",
       "BARNET                                -0.01  \n",
       "HOUNSLOW                               0.06  \n",
       "LEEDS                                  0.07  "
      ]
     },
     "execution_count": 116,
     "metadata": {},
     "output_type": "execute_result"
    }
   ],
   "source": [
    "df = data[data.secrecy_jurisdiction == True].pivot_table(index='District',columns='date_snapshot',values='Property_Address',aggfunc=lambda x: len(x.unique()))\\\n",
    ".sort_values(by='2017-10-01 00:00:00',ascending=False)\n",
    "df['pct_change'] = df.pct_change(axis=1)['2017-10-01']\n",
    "df.head(10)"
   ]
  },
  {
   "cell_type": "markdown",
   "metadata": {
    "hideCode": false,
    "hidePrompt": false
   },
   "source": [
    "### How many properties owned by companies incorporated in secrecy jurisdictions by London borough"
   ]
  },
  {
   "cell_type": "code",
   "execution_count": 117,
   "metadata": {
    "hideCode": false,
    "hidePrompt": false
   },
   "outputs": [
    {
     "data": {
      "text/html": [
       "<div>\n",
       "<style>\n",
       "    .dataframe thead tr:only-child th {\n",
       "        text-align: right;\n",
       "    }\n",
       "\n",
       "    .dataframe thead th {\n",
       "        text-align: left;\n",
       "    }\n",
       "\n",
       "    .dataframe tbody tr th {\n",
       "        vertical-align: top;\n",
       "    }\n",
       "</style>\n",
       "<table border=\"1\" class=\"dataframe\">\n",
       "  <thead>\n",
       "    <tr style=\"text-align: right;\">\n",
       "      <th>date_snapshot</th>\n",
       "      <th>2015-10-31 00:00:00</th>\n",
       "      <th>2017-10-01 00:00:00</th>\n",
       "      <th>pct_change</th>\n",
       "    </tr>\n",
       "    <tr>\n",
       "      <th>District</th>\n",
       "      <th></th>\n",
       "      <th></th>\n",
       "      <th></th>\n",
       "    </tr>\n",
       "  </thead>\n",
       "  <tbody>\n",
       "    <tr>\n",
       "      <th>City Of Westminster</th>\n",
       "      <td>11835</td>\n",
       "      <td>10379</td>\n",
       "      <td>-0.12</td>\n",
       "    </tr>\n",
       "    <tr>\n",
       "      <th>Kensington And Chelsea</th>\n",
       "      <td>6117</td>\n",
       "      <td>5710</td>\n",
       "      <td>-0.07</td>\n",
       "    </tr>\n",
       "    <tr>\n",
       "      <th>Camden</th>\n",
       "      <td>2141</td>\n",
       "      <td>2222</td>\n",
       "      <td>0.04</td>\n",
       "    </tr>\n",
       "    <tr>\n",
       "      <th>Wandsworth</th>\n",
       "      <td>1693</td>\n",
       "      <td>1845</td>\n",
       "      <td>0.09</td>\n",
       "    </tr>\n",
       "    <tr>\n",
       "      <th>Tower Hamlets</th>\n",
       "      <td>1433</td>\n",
       "      <td>1597</td>\n",
       "      <td>0.11</td>\n",
       "    </tr>\n",
       "    <tr>\n",
       "      <th>Hammersmith And Fulham</th>\n",
       "      <td>1402</td>\n",
       "      <td>1423</td>\n",
       "      <td>0.01</td>\n",
       "    </tr>\n",
       "    <tr>\n",
       "      <th>Barnet</th>\n",
       "      <td>1259</td>\n",
       "      <td>1242</td>\n",
       "      <td>-0.01</td>\n",
       "    </tr>\n",
       "    <tr>\n",
       "      <th>Hounslow</th>\n",
       "      <td>1166</td>\n",
       "      <td>1231</td>\n",
       "      <td>0.06</td>\n",
       "    </tr>\n",
       "    <tr>\n",
       "      <th>Lambeth</th>\n",
       "      <td>988</td>\n",
       "      <td>1043</td>\n",
       "      <td>0.06</td>\n",
       "    </tr>\n",
       "    <tr>\n",
       "      <th>Islington</th>\n",
       "      <td>898</td>\n",
       "      <td>926</td>\n",
       "      <td>0.03</td>\n",
       "    </tr>\n",
       "  </tbody>\n",
       "</table>\n",
       "</div>"
      ],
      "text/plain": [
       "date_snapshot           2015-10-31 00:00:00  2017-10-01 00:00:00  \\\n",
       "District                                                           \n",
       "City Of Westminster                   11835                10379   \n",
       "Kensington And Chelsea                 6117                 5710   \n",
       "Camden                                 2141                 2222   \n",
       "Wandsworth                             1693                 1845   \n",
       "Tower Hamlets                          1433                 1597   \n",
       "Hammersmith And Fulham                 1402                 1423   \n",
       "Barnet                                 1259                 1242   \n",
       "Hounslow                               1166                 1231   \n",
       "Lambeth                                 988                 1043   \n",
       "Islington                               898                  926   \n",
       "\n",
       "date_snapshot                    pct_change  \n",
       "District                                     \n",
       "City Of Westminster                   -0.12  \n",
       "Kensington And Chelsea                -0.07  \n",
       "Camden                                 0.04  \n",
       "Wandsworth                             0.09  \n",
       "Tower Hamlets                          0.11  \n",
       "Hammersmith And Fulham                 0.01  \n",
       "Barnet                                -0.01  \n",
       "Hounslow                               0.06  \n",
       "Lambeth                                0.06  \n",
       "Islington                              0.03  "
      ]
     },
     "execution_count": 117,
     "metadata": {},
     "output_type": "execute_result"
    }
   ],
   "source": [
    "london_df = data[(data.Region == 'GREATER LONDON') & data.secrecy_jurisdiction == True].copy()\n",
    "df = london_df.pivot_table(index='District',columns='date_snapshot',values='Property_Address',aggfunc=lambda x: len(x.unique()))\\\n",
    ".sort_values(by='2017-10-01 00:00:00',ascending=False)\n",
    "df['pct_change'] = df.pct_change(axis=1)['2017-10-01']\n",
    "df.index = df.index.str.title()\n",
    "df.to_csv('outputs/london_borough_counts.csv')\n",
    "df.head(10)"
   ]
  },
  {
   "cell_type": "markdown",
   "metadata": {},
   "source": [
    "### What proportion of overseas owned properties in London are owned by companies incorproated in secrecy jurisdictions?"
   ]
  },
  {
   "cell_type": "code",
   "execution_count": 118,
   "metadata": {},
   "outputs": [
    {
     "data": {
      "text/html": [
       "<div>\n",
       "<style>\n",
       "    .dataframe thead tr:only-child th {\n",
       "        text-align: right;\n",
       "    }\n",
       "\n",
       "    .dataframe thead th {\n",
       "        text-align: left;\n",
       "    }\n",
       "\n",
       "    .dataframe tbody tr th {\n",
       "        vertical-align: top;\n",
       "    }\n",
       "</style>\n",
       "<table border=\"1\" class=\"dataframe\">\n",
       "  <thead>\n",
       "    <tr style=\"text-align: right;\">\n",
       "      <th></th>\n",
       "      <th>overseas_owned</th>\n",
       "      <th>secrecy_jurisdiction_owned</th>\n",
       "      <th>proportion_secret_ownership</th>\n",
       "    </tr>\n",
       "    <tr>\n",
       "      <th>District</th>\n",
       "      <th></th>\n",
       "      <th></th>\n",
       "      <th></th>\n",
       "    </tr>\n",
       "  </thead>\n",
       "  <tbody>\n",
       "    <tr>\n",
       "      <th>CITY OF WESTMINSTER</th>\n",
       "      <td>14,260.00</td>\n",
       "      <td>13,158.00</td>\n",
       "      <td>0.92</td>\n",
       "    </tr>\n",
       "    <tr>\n",
       "      <th>KENSINGTON AND CHELSEA</th>\n",
       "      <td>7,314.00</td>\n",
       "      <td>6,732.00</td>\n",
       "      <td>0.92</td>\n",
       "    </tr>\n",
       "    <tr>\n",
       "      <th>CITY OF LONDON</th>\n",
       "      <td>1,380.00</td>\n",
       "      <td>878.00</td>\n",
       "      <td>0.64</td>\n",
       "    </tr>\n",
       "  </tbody>\n",
       "</table>\n",
       "</div>"
      ],
      "text/plain": [
       "                             overseas_owned  secrecy_jurisdiction_owned  \\\n",
       "District                                                                  \n",
       "CITY OF WESTMINSTER               14,260.00                   13,158.00   \n",
       "KENSINGTON AND CHELSEA             7,314.00                    6,732.00   \n",
       "CITY OF LONDON                     1,380.00                      878.00   \n",
       "\n",
       "                        proportion_secret_ownership  \n",
       "District                                             \n",
       "CITY OF WESTMINSTER                            0.92  \n",
       "KENSINGTON AND CHELSEA                         0.92  \n",
       "CITY OF LONDON                                 0.64  "
      ]
     },
     "execution_count": 118,
     "metadata": {},
     "output_type": "execute_result"
    }
   ],
   "source": [
    "s1 = data.pivot_table(index='District',values='Property_Address',aggfunc=lambda x: len(x.unique()))\n",
    "s2 = data.pivot_table(index='District',columns='secrecy_jurisdiction',values='Property_Address',aggfunc=lambda x: len(x.unique()))[True]\n",
    "df = pd.concat([s1,s2],axis=1)\n",
    "df['proportion_secret_ownership'] = df.iloc[:,1] / df.iloc[:,0]\n",
    "df.columns = ['overseas_owned','secrecy_jurisdiction_owned','proportion_secret_ownership']\n",
    "df.overseas_owned = df.overseas_owned.astype(float)\n",
    "df.loc[['CITY OF LONDON','KENSINGTON AND CHELSEA','CITY OF WESTMINSTER']].sort_values(by='proportion_secret_ownership',ascending=False)"
   ]
  },
  {
   "cell_type": "markdown",
   "metadata": {
    "hideCode": false,
    "hidePrompt": false
   },
   "source": [
    "### What is the breakdown of company registration by jurisdiction? How does this compare to 2015?"
   ]
  },
  {
   "cell_type": "code",
   "execution_count": 119,
   "metadata": {
    "hideCode": false,
    "hidePrompt": false
   },
   "outputs": [
    {
     "data": {
      "text/html": [
       "<div>\n",
       "<style>\n",
       "    .dataframe thead tr:only-child th {\n",
       "        text-align: right;\n",
       "    }\n",
       "\n",
       "    .dataframe thead th {\n",
       "        text-align: left;\n",
       "    }\n",
       "\n",
       "    .dataframe tbody tr th {\n",
       "        vertical-align: top;\n",
       "    }\n",
       "</style>\n",
       "<table border=\"1\" class=\"dataframe\">\n",
       "  <thead>\n",
       "    <tr style=\"text-align: right;\">\n",
       "      <th>date_snapshot</th>\n",
       "      <th>2015-10-31 00:00:00</th>\n",
       "      <th>2017-10-01 00:00:00</th>\n",
       "      <th>pct_change</th>\n",
       "    </tr>\n",
       "    <tr>\n",
       "      <th>incorporated_normalized</th>\n",
       "      <th></th>\n",
       "      <th></th>\n",
       "      <th></th>\n",
       "    </tr>\n",
       "  </thead>\n",
       "  <tbody>\n",
       "    <tr>\n",
       "      <th>BRITISH VIRGIN ISLANDS</th>\n",
       "      <td>16,930.00</td>\n",
       "      <td>16,507.00</td>\n",
       "      <td>-0.02</td>\n",
       "    </tr>\n",
       "    <tr>\n",
       "      <th>JERSEY</th>\n",
       "      <td>9,139.00</td>\n",
       "      <td>8,676.00</td>\n",
       "      <td>-0.05</td>\n",
       "    </tr>\n",
       "    <tr>\n",
       "      <th>ISLE OF MAN</th>\n",
       "      <td>6,594.00</td>\n",
       "      <td>6,281.00</td>\n",
       "      <td>-0.05</td>\n",
       "    </tr>\n",
       "    <tr>\n",
       "      <th>GUERNSEY</th>\n",
       "      <td>5,019.00</td>\n",
       "      <td>4,982.00</td>\n",
       "      <td>-0.01</td>\n",
       "    </tr>\n",
       "    <tr>\n",
       "      <th>PANAMA</th>\n",
       "      <td>1,677.00</td>\n",
       "      <td>1,477.00</td>\n",
       "      <td>-0.12</td>\n",
       "    </tr>\n",
       "    <tr>\n",
       "      <th>GIBRALTAR</th>\n",
       "      <td>1,379.00</td>\n",
       "      <td>1,315.00</td>\n",
       "      <td>-0.05</td>\n",
       "    </tr>\n",
       "    <tr>\n",
       "      <th>LUXEMBOURG</th>\n",
       "      <td>1,058.00</td>\n",
       "      <td>1,202.00</td>\n",
       "      <td>0.14</td>\n",
       "    </tr>\n",
       "    <tr>\n",
       "      <th>SEYCHELLES</th>\n",
       "      <td>1,032.00</td>\n",
       "      <td>1,099.00</td>\n",
       "      <td>0.06</td>\n",
       "    </tr>\n",
       "    <tr>\n",
       "      <th>HONG KONG</th>\n",
       "      <td>772.00</td>\n",
       "      <td>926.00</td>\n",
       "      <td>0.20</td>\n",
       "    </tr>\n",
       "    <tr>\n",
       "      <th>BAHAMAS</th>\n",
       "      <td>943.00</td>\n",
       "      <td>885.00</td>\n",
       "      <td>-0.06</td>\n",
       "    </tr>\n",
       "    <tr>\n",
       "      <th>CYPRUS</th>\n",
       "      <td>815.00</td>\n",
       "      <td>828.00</td>\n",
       "      <td>0.02</td>\n",
       "    </tr>\n",
       "    <tr>\n",
       "      <th>IRELAND</th>\n",
       "      <td>882.00</td>\n",
       "      <td>800.00</td>\n",
       "      <td>-0.09</td>\n",
       "    </tr>\n",
       "    <tr>\n",
       "      <th>CAYMAN ISLANDS</th>\n",
       "      <td>646.00</td>\n",
       "      <td>605.00</td>\n",
       "      <td>-0.06</td>\n",
       "    </tr>\n",
       "    <tr>\n",
       "      <th>NETHERLANDS</th>\n",
       "      <td>466.00</td>\n",
       "      <td>476.00</td>\n",
       "      <td>0.02</td>\n",
       "    </tr>\n",
       "    <tr>\n",
       "      <th>MAURITIUS</th>\n",
       "      <td>408.00</td>\n",
       "      <td>414.00</td>\n",
       "      <td>0.01</td>\n",
       "    </tr>\n",
       "    <tr>\n",
       "      <th>SINGAPORE</th>\n",
       "      <td>331.00</td>\n",
       "      <td>401.00</td>\n",
       "      <td>0.21</td>\n",
       "    </tr>\n",
       "    <tr>\n",
       "      <th>DELAWARE, U.S.A.</th>\n",
       "      <td>373.00</td>\n",
       "      <td>374.00</td>\n",
       "      <td>0.00</td>\n",
       "    </tr>\n",
       "    <tr>\n",
       "      <th>BELIZE</th>\n",
       "      <td>368.00</td>\n",
       "      <td>360.00</td>\n",
       "      <td>-0.02</td>\n",
       "    </tr>\n",
       "    <tr>\n",
       "      <th>LIBERIA</th>\n",
       "      <td>416.00</td>\n",
       "      <td>347.00</td>\n",
       "      <td>-0.17</td>\n",
       "    </tr>\n",
       "    <tr>\n",
       "      <th>AUSTRALIA</th>\n",
       "      <td>318.00</td>\n",
       "      <td>345.00</td>\n",
       "      <td>0.08</td>\n",
       "    </tr>\n",
       "  </tbody>\n",
       "</table>\n",
       "</div>"
      ],
      "text/plain": [
       "date_snapshot            2015-10-31 00:00:00  2017-10-01 00:00:00  \\\n",
       "incorporated_normalized                                             \n",
       "BRITISH VIRGIN ISLANDS             16,930.00            16,507.00   \n",
       "JERSEY                              9,139.00             8,676.00   \n",
       "ISLE OF MAN                         6,594.00             6,281.00   \n",
       "GUERNSEY                            5,019.00             4,982.00   \n",
       "PANAMA                              1,677.00             1,477.00   \n",
       "GIBRALTAR                           1,379.00             1,315.00   \n",
       "LUXEMBOURG                          1,058.00             1,202.00   \n",
       "SEYCHELLES                          1,032.00             1,099.00   \n",
       "HONG KONG                             772.00               926.00   \n",
       "BAHAMAS                               943.00               885.00   \n",
       "CYPRUS                                815.00               828.00   \n",
       "IRELAND                               882.00               800.00   \n",
       "CAYMAN ISLANDS                        646.00               605.00   \n",
       "NETHERLANDS                           466.00               476.00   \n",
       "MAURITIUS                             408.00               414.00   \n",
       "SINGAPORE                             331.00               401.00   \n",
       "DELAWARE, U.S.A.                      373.00               374.00   \n",
       "BELIZE                                368.00               360.00   \n",
       "LIBERIA                               416.00               347.00   \n",
       "AUSTRALIA                             318.00               345.00   \n",
       "\n",
       "date_snapshot                     pct_change  \n",
       "incorporated_normalized                       \n",
       "BRITISH VIRGIN ISLANDS                 -0.02  \n",
       "JERSEY                                 -0.05  \n",
       "ISLE OF MAN                            -0.05  \n",
       "GUERNSEY                               -0.01  \n",
       "PANAMA                                 -0.12  \n",
       "GIBRALTAR                              -0.05  \n",
       "LUXEMBOURG                              0.14  \n",
       "SEYCHELLES                              0.06  \n",
       "HONG KONG                               0.20  \n",
       "BAHAMAS                                -0.06  \n",
       "CYPRUS                                  0.02  \n",
       "IRELAND                                -0.09  \n",
       "CAYMAN ISLANDS                         -0.06  \n",
       "NETHERLANDS                             0.02  \n",
       "MAURITIUS                               0.01  \n",
       "SINGAPORE                               0.21  \n",
       "DELAWARE, U.S.A.                        0.00  \n",
       "BELIZE                                 -0.02  \n",
       "LIBERIA                                -0.17  \n",
       "AUSTRALIA                               0.08  "
      ]
     },
     "execution_count": 119,
     "metadata": {},
     "output_type": "execute_result"
    }
   ],
   "source": [
    "df = data.pivot_table(index='incorporated_normalized',columns='date_snapshot',values='unique_company',aggfunc=lambda x: len(x.unique()))\\\n",
    ".sort_values(by='2017-10-01 00:00:00',ascending=False)\n",
    "df['pct_change'] = df.pct_change(axis=1)['2017-10-01']\n",
    "df.head(20)"
   ]
  },
  {
   "cell_type": "markdown",
   "metadata": {
    "hideCode": false,
    "hidePrompt": false
   },
   "source": [
    "### How many are owned by companies registered in the British Crown Dependencies and Overseas Territories? Has this changed since 2015?"
   ]
  },
  {
   "cell_type": "code",
   "execution_count": 120,
   "metadata": {},
   "outputs": [
    {
     "data": {
      "text/plain": [
       "date_snapshot\n",
       "2015-10-31 00:00:00              58,675.00\n",
       "2017-10-01 00:00:00              57,318.00\n",
       "pct_change                           -0.02\n",
       "Name: True, dtype: float64"
      ]
     },
     "execution_count": 120,
     "metadata": {},
     "output_type": "execute_result"
    }
   ],
   "source": [
    "df = data.pivot_table(index='overseas_territory_crown_dependency',columns='date_snapshot',values='Property_Address',aggfunc=lambda x: len(x.unique()))\\\n",
    ".sort_values(by='2017-10-01 00:00:00',ascending=False)\n",
    "df['pct_change'] = df.pct_change(axis=1)['2017-10-01']\n",
    "df.loc[True]"
   ]
  },
  {
   "cell_type": "code",
   "execution_count": 121,
   "metadata": {
    "hideCode": false,
    "hidePrompt": false
   },
   "outputs": [
    {
     "data": {
      "text/html": [
       "<div>\n",
       "<style>\n",
       "    .dataframe thead tr:only-child th {\n",
       "        text-align: right;\n",
       "    }\n",
       "\n",
       "    .dataframe thead th {\n",
       "        text-align: left;\n",
       "    }\n",
       "\n",
       "    .dataframe tbody tr th {\n",
       "        vertical-align: top;\n",
       "    }\n",
       "</style>\n",
       "<table border=\"1\" class=\"dataframe\">\n",
       "  <thead>\n",
       "    <tr style=\"text-align: right;\">\n",
       "      <th></th>\n",
       "      <th>2015-10-31 00:00:00</th>\n",
       "      <th>2017-10-01 00:00:00</th>\n",
       "      <th>pct_change</th>\n",
       "    </tr>\n",
       "    <tr>\n",
       "      <th>incorporated_normalized</th>\n",
       "      <th></th>\n",
       "      <th></th>\n",
       "      <th></th>\n",
       "    </tr>\n",
       "  </thead>\n",
       "  <tbody>\n",
       "    <tr>\n",
       "      <th>ANGUILLA</th>\n",
       "      <td>282.00</td>\n",
       "      <td>293.00</td>\n",
       "      <td>0.04</td>\n",
       "    </tr>\n",
       "    <tr>\n",
       "      <th>BERMUDA</th>\n",
       "      <td>678.00</td>\n",
       "      <td>682.00</td>\n",
       "      <td>0.01</td>\n",
       "    </tr>\n",
       "    <tr>\n",
       "      <th>BRITISH ANTARCTIC TERRITORY</th>\n",
       "      <td>0.00</td>\n",
       "      <td>0.00</td>\n",
       "      <td>0.00</td>\n",
       "    </tr>\n",
       "    <tr>\n",
       "      <th>BRITISH INDIAN OCEAN TERRITORY</th>\n",
       "      <td>0.00</td>\n",
       "      <td>0.00</td>\n",
       "      <td>0.00</td>\n",
       "    </tr>\n",
       "    <tr>\n",
       "      <th>BRITISH VIRGIN ISLANDS</th>\n",
       "      <td>22,597.00</td>\n",
       "      <td>22,579.00</td>\n",
       "      <td>-0.00</td>\n",
       "    </tr>\n",
       "    <tr>\n",
       "      <th>CAYMAN ISLANDS</th>\n",
       "      <td>1,315.00</td>\n",
       "      <td>1,042.00</td>\n",
       "      <td>-0.21</td>\n",
       "    </tr>\n",
       "    <tr>\n",
       "      <th>GIBRALTAR</th>\n",
       "      <td>2,597.00</td>\n",
       "      <td>2,453.00</td>\n",
       "      <td>-0.06</td>\n",
       "    </tr>\n",
       "    <tr>\n",
       "      <th>ISLE OF MAN</th>\n",
       "      <td>10,933.00</td>\n",
       "      <td>10,607.00</td>\n",
       "      <td>-0.03</td>\n",
       "    </tr>\n",
       "    <tr>\n",
       "      <th>JERSEY</th>\n",
       "      <td>20,336.00</td>\n",
       "      <td>19,734.00</td>\n",
       "      <td>-0.03</td>\n",
       "    </tr>\n",
       "    <tr>\n",
       "      <th>MONTSERRAT</th>\n",
       "      <td>0.00</td>\n",
       "      <td>0.00</td>\n",
       "      <td>0.00</td>\n",
       "    </tr>\n",
       "    <tr>\n",
       "      <th>PITCAIRN ISLANDS</th>\n",
       "      <td>0.00</td>\n",
       "      <td>0.00</td>\n",
       "      <td>0.00</td>\n",
       "    </tr>\n",
       "    <tr>\n",
       "      <th>SAINT HELENA AND ITS DEPENDENCIES (ASCENSION ISLAND AND TRISTAN DA CUNHA)</th>\n",
       "      <td>0.00</td>\n",
       "      <td>0.00</td>\n",
       "      <td>0.00</td>\n",
       "    </tr>\n",
       "    <tr>\n",
       "      <th>SOUTH GEORGIA</th>\n",
       "      <td>0.00</td>\n",
       "      <td>0.00</td>\n",
       "      <td>0.00</td>\n",
       "    </tr>\n",
       "    <tr>\n",
       "      <th>SOUTH SANDWICH ISLANDS</th>\n",
       "      <td>0.00</td>\n",
       "      <td>0.00</td>\n",
       "      <td>0.00</td>\n",
       "    </tr>\n",
       "    <tr>\n",
       "      <th>SOVEREIGN BASE AREAS OF AKROTIRI AND DHEKELIA ON CYPRUSFALKLAND ISLANDS</th>\n",
       "      <td>0.00</td>\n",
       "      <td>0.00</td>\n",
       "      <td>0.00</td>\n",
       "    </tr>\n",
       "    <tr>\n",
       "      <th>TURKS AND CAICOS ISLANDS</th>\n",
       "      <td>0.00</td>\n",
       "      <td>0.00</td>\n",
       "      <td>0.00</td>\n",
       "    </tr>\n",
       "  </tbody>\n",
       "</table>\n",
       "</div>"
      ],
      "text/plain": [
       "                                                    2015-10-31 00:00:00  \\\n",
       "incorporated_normalized                                                   \n",
       "ANGUILLA                                                         282.00   \n",
       "BERMUDA                                                          678.00   \n",
       "BRITISH ANTARCTIC TERRITORY                                        0.00   \n",
       "BRITISH INDIAN OCEAN TERRITORY                                     0.00   \n",
       "BRITISH VIRGIN ISLANDS                                        22,597.00   \n",
       "CAYMAN ISLANDS                                                 1,315.00   \n",
       "GIBRALTAR                                                      2,597.00   \n",
       "ISLE OF MAN                                                   10,933.00   \n",
       "JERSEY                                                        20,336.00   \n",
       "MONTSERRAT                                                         0.00   \n",
       "PITCAIRN ISLANDS                                                   0.00   \n",
       "SAINT HELENA AND ITS DEPENDENCIES (ASCENSION IS...                 0.00   \n",
       "SOUTH GEORGIA                                                      0.00   \n",
       "SOUTH SANDWICH ISLANDS                                             0.00   \n",
       "SOVEREIGN BASE AREAS OF AKROTIRI AND DHEKELIA O...                 0.00   \n",
       "TURKS AND CAICOS ISLANDS                                           0.00   \n",
       "\n",
       "                                                    2017-10-01 00:00:00  \\\n",
       "incorporated_normalized                                                   \n",
       "ANGUILLA                                                         293.00   \n",
       "BERMUDA                                                          682.00   \n",
       "BRITISH ANTARCTIC TERRITORY                                        0.00   \n",
       "BRITISH INDIAN OCEAN TERRITORY                                     0.00   \n",
       "BRITISH VIRGIN ISLANDS                                        22,579.00   \n",
       "CAYMAN ISLANDS                                                 1,042.00   \n",
       "GIBRALTAR                                                      2,453.00   \n",
       "ISLE OF MAN                                                   10,607.00   \n",
       "JERSEY                                                        19,734.00   \n",
       "MONTSERRAT                                                         0.00   \n",
       "PITCAIRN ISLANDS                                                   0.00   \n",
       "SAINT HELENA AND ITS DEPENDENCIES (ASCENSION IS...                 0.00   \n",
       "SOUTH GEORGIA                                                      0.00   \n",
       "SOUTH SANDWICH ISLANDS                                             0.00   \n",
       "SOVEREIGN BASE AREAS OF AKROTIRI AND DHEKELIA O...                 0.00   \n",
       "TURKS AND CAICOS ISLANDS                                           0.00   \n",
       "\n",
       "                                                             pct_change  \n",
       "incorporated_normalized                                                  \n",
       "ANGUILLA                                                           0.04  \n",
       "BERMUDA                                                            0.01  \n",
       "BRITISH ANTARCTIC TERRITORY                                        0.00  \n",
       "BRITISH INDIAN OCEAN TERRITORY                                     0.00  \n",
       "BRITISH VIRGIN ISLANDS                                            -0.00  \n",
       "CAYMAN ISLANDS                                                    -0.21  \n",
       "GIBRALTAR                                                         -0.06  \n",
       "ISLE OF MAN                                                       -0.03  \n",
       "JERSEY                                                            -0.03  \n",
       "MONTSERRAT                                                         0.00  \n",
       "PITCAIRN ISLANDS                                                   0.00  \n",
       "SAINT HELENA AND ITS DEPENDENCIES (ASCENSION IS...                 0.00  \n",
       "SOUTH GEORGIA                                                      0.00  \n",
       "SOUTH SANDWICH ISLANDS                                             0.00  \n",
       "SOVEREIGN BASE AREAS OF AKROTIRI AND DHEKELIA O...                 0.00  \n",
       "TURKS AND CAICOS ISLANDS                                           0.00  "
      ]
     },
     "execution_count": 121,
     "metadata": {},
     "output_type": "execute_result"
    }
   ],
   "source": [
    "df = data[data.overseas_territory_crown_dependency == True].pivot_table(index='incorporated_normalized',columns='date_snapshot',values='Property_Address',aggfunc=lambda x: len(x.unique()))\\\n",
    ".sort_values(by='2017-10-01 00:00:00',ascending=False)\n",
    "df = pd.merge(pd.DataFrame(list_of_cd_ot,columns=['incorporated_normalized']).set_index('incorporated_normalized'),df,left_index=True,right_index=True,how='outer')\n",
    "df['pct_change'] = df.pct_change(axis=1)['2017-10-01']\n",
    "df.fillna(0)"
   ]
  },
  {
   "cell_type": "markdown",
   "metadata": {},
   "source": [
    "### Which areas saw the most new titles in the period 2015-2017?"
   ]
  },
  {
   "cell_type": "code",
   "execution_count": 140,
   "metadata": {
    "collapsed": true,
    "hideOutput": true
   },
   "outputs": [],
   "source": [
    "##Create DataFrame the new titles acquired since 2015\n",
    "new_titles = data[~ data.Title_Number.isin(data['2015'].Title_Number)]"
   ]
  },
  {
   "cell_type": "code",
   "execution_count": 141,
   "metadata": {},
   "outputs": [
    {
     "data": {
      "text/html": [
       "<div>\n",
       "<style>\n",
       "    .dataframe thead tr:only-child th {\n",
       "        text-align: right;\n",
       "    }\n",
       "\n",
       "    .dataframe thead th {\n",
       "        text-align: left;\n",
       "    }\n",
       "\n",
       "    .dataframe tbody tr th {\n",
       "        vertical-align: top;\n",
       "    }\n",
       "</style>\n",
       "<table border=\"1\" class=\"dataframe\">\n",
       "  <thead>\n",
       "    <tr style=\"text-align: right;\">\n",
       "      <th></th>\n",
       "      <th>Property_Address</th>\n",
       "    </tr>\n",
       "    <tr>\n",
       "      <th>District</th>\n",
       "      <th></th>\n",
       "    </tr>\n",
       "  </thead>\n",
       "  <tbody>\n",
       "    <tr>\n",
       "      <th>City Of Westminster</th>\n",
       "      <td>1122</td>\n",
       "    </tr>\n",
       "    <tr>\n",
       "      <th>Manchester</th>\n",
       "      <td>531</td>\n",
       "    </tr>\n",
       "    <tr>\n",
       "      <th>Kensington And Chelsea</th>\n",
       "      <td>525</td>\n",
       "    </tr>\n",
       "    <tr>\n",
       "      <th>Liverpool</th>\n",
       "      <td>381</td>\n",
       "    </tr>\n",
       "    <tr>\n",
       "      <th>Tower Hamlets</th>\n",
       "      <td>347</td>\n",
       "    </tr>\n",
       "    <tr>\n",
       "      <th>Camden</th>\n",
       "      <td>344</td>\n",
       "    </tr>\n",
       "    <tr>\n",
       "      <th>Wandsworth</th>\n",
       "      <td>331</td>\n",
       "    </tr>\n",
       "    <tr>\n",
       "      <th>Salford</th>\n",
       "      <td>263</td>\n",
       "    </tr>\n",
       "    <tr>\n",
       "      <th>Hammersmith And Fulham</th>\n",
       "      <td>239</td>\n",
       "    </tr>\n",
       "    <tr>\n",
       "      <th>Hackney</th>\n",
       "      <td>235</td>\n",
       "    </tr>\n",
       "  </tbody>\n",
       "</table>\n",
       "</div>"
      ],
      "text/plain": [
       "                        Property_Address\n",
       "District                                \n",
       "City Of Westminster                 1122\n",
       "Manchester                           531\n",
       "Kensington And Chelsea               525\n",
       "Liverpool                            381\n",
       "Tower Hamlets                        347\n",
       "Camden                               344\n",
       "Wandsworth                           331\n",
       "Salford                              263\n",
       "Hammersmith And Fulham               239\n",
       "Hackney                              235"
      ]
     },
     "execution_count": 141,
     "metadata": {},
     "output_type": "execute_result"
    }
   ],
   "source": [
    "new_secret = new_titles[new_titles.secrecy_jurisdiction == True].copy()\n",
    "df = new_secret.pivot_table(index='District',values='Property_Address',aggfunc=lambda x: len(x.unique())).sort_values(by='Property_Address',ascending=False)\n",
    "df.index = df.index.str.title()\n",
    "df.head(10)"
   ]
  },
  {
   "cell_type": "markdown",
   "metadata": {},
   "source": [
    "### Which companies purchased the most properties in the period 2015 to 2017?"
   ]
  },
  {
   "cell_type": "code",
   "execution_count": 142,
   "metadata": {},
   "outputs": [
    {
     "data": {
      "text/html": [
       "<div>\n",
       "<style>\n",
       "    .dataframe thead tr:only-child th {\n",
       "        text-align: right;\n",
       "    }\n",
       "\n",
       "    .dataframe thead th {\n",
       "        text-align: left;\n",
       "    }\n",
       "\n",
       "    .dataframe tbody tr th {\n",
       "        vertical-align: top;\n",
       "    }\n",
       "</style>\n",
       "<table border=\"1\" class=\"dataframe\">\n",
       "  <thead>\n",
       "    <tr style=\"text-align: right;\">\n",
       "      <th></th>\n",
       "      <th>Property_Address</th>\n",
       "    </tr>\n",
       "    <tr>\n",
       "      <th>Proprietor_Name</th>\n",
       "      <th></th>\n",
       "    </tr>\n",
       "  </thead>\n",
       "  <tbody>\n",
       "    <tr>\n",
       "      <th>SALCON POWER (HK) LIMITED</th>\n",
       "      <td>559</td>\n",
       "    </tr>\n",
       "    <tr>\n",
       "      <th>ADRIATIC LAND 4 LIMITED</th>\n",
       "      <td>291</td>\n",
       "    </tr>\n",
       "    <tr>\n",
       "      <th>ABACUS LAND 1 (HOLDCO 1) LTD</th>\n",
       "      <td>260</td>\n",
       "    </tr>\n",
       "    <tr>\n",
       "      <th>ADRIATIC LAND 5 LIMITED</th>\n",
       "      <td>257</td>\n",
       "    </tr>\n",
       "    <tr>\n",
       "      <th>ADRIATIC LAND 3 LIMITED</th>\n",
       "      <td>225</td>\n",
       "    </tr>\n",
       "    <tr>\n",
       "      <th>ABACUS LAND 1 (HOLDCO 1) LIMITED</th>\n",
       "      <td>189</td>\n",
       "    </tr>\n",
       "    <tr>\n",
       "      <th>DUNEDIN INDUSTRIAL PROPERTY NOMINEE 2 LIMITED</th>\n",
       "      <td>176</td>\n",
       "    </tr>\n",
       "    <tr>\n",
       "      <th>DUNEDIN INDUSTRIAL PROPERTY NOMINEE LIMITED</th>\n",
       "      <td>176</td>\n",
       "    </tr>\n",
       "    <tr>\n",
       "      <th>MULTIPOINT HOLDINGS LIMITED</th>\n",
       "      <td>170</td>\n",
       "    </tr>\n",
       "    <tr>\n",
       "      <th>OFY LIMITED</th>\n",
       "      <td>166</td>\n",
       "    </tr>\n",
       "  </tbody>\n",
       "</table>\n",
       "</div>"
      ],
      "text/plain": [
       "                                               Property_Address\n",
       "Proprietor_Name                                                \n",
       "SALCON POWER (HK) LIMITED                                   559\n",
       "ADRIATIC LAND 4 LIMITED                                     291\n",
       "ABACUS LAND 1 (HOLDCO 1) LTD                                260\n",
       "ADRIATIC LAND 5 LIMITED                                     257\n",
       "ADRIATIC LAND 3 LIMITED                                     225\n",
       "ABACUS LAND 1 (HOLDCO 1) LIMITED                            189\n",
       "DUNEDIN INDUSTRIAL PROPERTY NOMINEE 2 LIMITED               176\n",
       "DUNEDIN INDUSTRIAL PROPERTY NOMINEE LIMITED                 176\n",
       "MULTIPOINT HOLDINGS LIMITED                                 170\n",
       "OFY LIMITED                                                 166"
      ]
     },
     "execution_count": 142,
     "metadata": {},
     "output_type": "execute_result"
    }
   ],
   "source": [
    "new_secret.pivot_table(index='Proprietor_Name',values='Property_Address',aggfunc=lambda x: len(x.unique()))\\\n",
    ".sort_values(by='Property_Address',ascending=False).head(10)"
   ]
  },
  {
   "cell_type": "markdown",
   "metadata": {},
   "source": [
    "### ### How many new properties (since 2015) owned by Abacus Land?"
   ]
  },
  {
   "cell_type": "code",
   "execution_count": 143,
   "metadata": {
    "collapsed": true
   },
   "outputs": [],
   "source": [
    "abacus_companies = ['ABACUS LAND 1 (HOLDCO 1) LTD', 'ABACUS LAND 1 (HOLDCO 1) LIMITED',\n",
    "       'ABACUS LAND 4 LIMITED', 'ABACUS LAND 4 LTD']"
   ]
  },
  {
   "cell_type": "code",
   "execution_count": 144,
   "metadata": {},
   "outputs": [
    {
     "data": {
      "text/plain": [
       "473"
      ]
     },
     "execution_count": 144,
     "metadata": {},
     "output_type": "execute_result"
    }
   ],
   "source": [
    "abacus_count = len(new_secret[new_secret.Proprietor_Name.isin(abacus_companies)].Property_Address.unique())\n",
    "abacus_count"
   ]
  },
  {
   "cell_type": "markdown",
   "metadata": {},
   "source": [
    "### How many new properties (since 2015) are owned by Adriatic?"
   ]
  },
  {
   "cell_type": "code",
   "execution_count": 145,
   "metadata": {
    "collapsed": true
   },
   "outputs": [],
   "source": [
    "adriatic_companies = ['ADRIATIC LAND 5 LIMITED', 'ADRIATIC LAND 4 LIMITED',\n",
    "       'ADRIATIC LAND 3 LIMITED', 'ADRIATIC LAND EAST LIMITED',\n",
    "       'ADRIATIC LAND 7 LIMITED', 'ADRIATIC LAND 1 LIMITED',\n",
    "       'ADRIATIC LAND 2 LIMITED', 'ADRIATIC LAND4 LIMITED',\n",
    "       'ADRIATIC LAND 5 LTD', 'ADRIATIC LAND 4 LTD']"
   ]
  },
  {
   "cell_type": "code",
   "execution_count": 146,
   "metadata": {},
   "outputs": [
    {
     "data": {
      "text/plain": [
       "792"
      ]
     },
     "execution_count": 146,
     "metadata": {},
     "output_type": "execute_result"
    }
   ],
   "source": [
    "adriatic_count = len(new_secret[new_secret.Proprietor_Name.isin(adriatic_companies)].Property_Address.unique())\n",
    "adriatic_count"
   ]
  },
  {
   "cell_type": "markdown",
   "metadata": {},
   "source": [
    "### How many new properties (since 2015) are owned by Adriatic and Abacus Land combined?"
   ]
  },
  {
   "cell_type": "code",
   "execution_count": 147,
   "metadata": {},
   "outputs": [
    {
     "data": {
      "text/plain": [
       "1265"
      ]
     },
     "execution_count": 147,
     "metadata": {},
     "output_type": "execute_result"
    }
   ],
   "source": [
    "combined_count = len(new_secret[new_secret.Proprietor_Name.isin(adriatic_companies + abacus_companies)].Property_Address.unique())\n",
    "combined_count"
   ]
  },
  {
   "cell_type": "markdown",
   "metadata": {},
   "source": [
    "### How many secrecy jurisdiction titles have been bought and sold between 2015 and 2017?"
   ]
  },
  {
   "cell_type": "code",
   "execution_count": 148,
   "metadata": {},
   "outputs": [
    {
     "name": "stdout",
     "output_type": "stream",
     "text": [
      "Title bought: 14473\n",
      "Title sold: 14927\n"
     ]
    }
   ],
   "source": [
    "titles_bought = len(new_secret.Title_Number.unique())\n",
    "titles_sold = len(data[( ~ data.Title_Number.isin(data['2017'].Title_Number)) & (data.secrecy_jurisdiction == True)].Title_Number.unique())\n",
    "print('Title bought: ' + str(titles_bought))\n",
    "print('Title sold: ' + str(titles_sold))"
   ]
  },
  {
   "cell_type": "markdown",
   "metadata": {},
   "source": [
    "### Proportion of new titles not sold at full market value"
   ]
  },
  {
   "cell_type": "code",
   "execution_count": 150,
   "metadata": {},
   "outputs": [
    {
     "data": {
      "text/plain": [
       "0.24915131615560132"
      ]
     },
     "execution_count": 150,
     "metadata": {},
     "output_type": "execute_result"
    }
   ],
   "source": [
    "new_titles.Price_Paid.count() / len(new_titles)"
   ]
  },
  {
   "cell_type": "code",
   "execution_count": null,
   "metadata": {
    "collapsed": true
   },
   "outputs": [],
   "source": []
  }
 ],
 "metadata": {
  "hide_code_all_hidden": false,
  "kernelspec": {
   "display_name": "Python [default]",
   "language": "python",
   "name": "python3"
  },
  "language_info": {
   "codemirror_mode": {
    "name": "ipython",
    "version": 3
   },
   "file_extension": ".py",
   "mimetype": "text/x-python",
   "name": "python",
   "nbconvert_exporter": "python",
   "pygments_lexer": "ipython3",
   "version": "3.6.1"
  },
  "toc": {
   "colors": {
    "hover_highlight": "#DAA520",
    "navigate_num": "#000000",
    "navigate_text": "#333333",
    "running_highlight": "#FF0000",
    "selected_highlight": "#FFD700",
    "sidebar_border": "#EEEEEE",
    "wrapper_background": "#FFFFFF"
   },
   "moveMenuLeft": true,
   "nav_menu": {
    "height": "66px",
    "width": "252px"
   },
   "navigate_menu": true,
   "number_sections": true,
   "sideBar": true,
   "threshold": 4,
   "toc_cell": true,
   "toc_position": {
    "height": "388px",
    "left": "0px",
    "right": "1646px",
    "top": "106px",
    "width": "274px"
   },
   "toc_section_display": "block",
   "toc_window_display": true,
   "widenNotebook": false
  }
 },
 "nbformat": 4,
 "nbformat_minor": 2
}
